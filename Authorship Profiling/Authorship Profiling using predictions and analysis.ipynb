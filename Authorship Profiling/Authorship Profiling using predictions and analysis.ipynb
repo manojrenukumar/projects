{
 "cells": [
  {
   "cell_type": "markdown",
   "metadata": {},
   "source": [
    "# Authorship Profiling\n",
    "Environment: Python 3.7.3 and Jupyter notebook"
   ]
  },
  {
   "cell_type": "markdown",
   "metadata": {},
   "source": [
    "# Introduction\n",
    "\n",
    "This assessment touches on the steps of Authorship analysis and deals with the classification of texts into classes based on the stylistic choices of their authors. The focus is on author profiling in social media since we are mainly interested in everyday language and how it reflects basic social and personality processes. \n",
    "\n",
    "The main aim of this assessment is the conversion of the extracted data into a proper format. We aim to preprocess a set of twitter texts and convert them into numerical representations (which are suitable for input into NLP AI systems, recommender-systems, information-retrieval algorithms, etc.). We then focus on the gender classification task, where we develop a classifier that can assign the set of twitter texts to their corresponding labels by identifying the gender of the tweet’s author as accurately as possible."
   ]
  },
  {
   "cell_type": "markdown",
   "metadata": {},
   "source": [
    "In this notebook, the authorship analysis of twitter text data has been carried out to classify the gender ( male or female) of the text authors by using TF-IDF feature selection and the Linear Support Vector Classification (LinearSVC) along with the Bagging Classifier. The accuracy obtained from the Bagging Classifier with the base estimator as LinearSVC has also been provided.\n",
    "\n",
    "\n",
    "We have been with the following input files:\n",
    "\n",
    " - `train_labels.csv` consists of all the training ids and gender for training our model. It contains twitter posts from 3,100 authors and acts as the training data.\n",
    " \n",
    " - `test_labels.csv` consist of all the labels i.e. gender for testing our model.\n",
    " \n",
    "- `test.csv` consist of all the test data used for testing the model we learned from training data with missing labels i.e., gender. It contains the twitter posts from 500 authors.\n",
    "\n",
    "- `data.zip` contains 3,600 twitter texts for those authors, which acts as the training and testing data.\n",
    "\n",
    "\n",
    "\n",
    "This notebook is divided into several tasks:\n",
    "\n",
    "- The first section of the notebook shows pre-processing and feature extraction.\n",
    "- The second section shows training our model and calculating accuracy.\n",
    "- The third section shows testing our model."
   ]
  },
  {
   "cell_type": "markdown",
   "metadata": {},
   "source": [
    "# Required Libraries\n",
    "\n",
    "- `re` - Built-in package in Python for using regular expressions. It is used to check whether a string contains a specified search pattern of a sequence of characters.\n",
    "\n",
    "- `pandas` - Python package providing fast, flexible, and expressive data structures designed to make working with “relational” or “labeled” data both easy and intuitive.\n",
    "\n",
    "- `numpy` - NumPy is the fundamental package for array computing with Python.\n",
    "\n",
    "- `requests` - Python HTTP library that can be used to send all kinds of HTTP requests\n",
    "\n",
    "- `nltk` - The Natural Language Toolkit (NLTK) is a platform used for building Python programs that work with human language data for applying in statistical natural language processing (NLP). It contains text processing libraries for tokenization, parsing, classification, stemming, tagging and semantic reasoning.\n",
    "\n",
    "- `bs4` - Beautiful Soup or bs4 is a Python library for pulling data out of HTML and XML files.\n",
    "\n",
    "- `zipfile` - This module provides tools to create, read, write, append, and list a ZIP file.\n",
    "\n",
    "- `stopwords`: Method in nltk package used to remove stop words from nltk data.\n",
    "\n",
    "- `word_tokenize`: Method in nltk package, used for tokenization.\n",
    "\n",
    "- `WordNetLemmatizer`: It is used for lemmatization in nltk data.\n",
    "\n",
    "- `Scikit-learn`: Open source python library with functions to deal with data analysis and data mining.\n",
    "\n",
    "- `TfidfVectorizer`: A type of vectorizer in sklearn used to transform text into a sparse matrix form.\n",
    "\n",
    "- `sklearn.metrics`: It is used to calculate the metrics of model accuracy.\n",
    "\n",
    "- `sklearn.naive_bayes`: It is used to build naive models like Multinomial, Gaussian and Bernoulli Naive Bayes.\n",
    "\n",
    "- `sklearn.svm`: It is used to build support vector machine models like linearSVC.\n",
    "\n",
    "- `sklearn.ensemble`:It is used to build the RandomForest Classifier model.\n",
    "\n",
    "- `sklearn.model_selection`:It is used to do cross validation to check model performance.\n",
    "\n",
    "- `seaborn`: It is used to make visualizations for the data.\n",
    "\n",
    "- `matplotlib`: It is used to make visualizations for the data."
   ]
  },
  {
   "cell_type": "code",
   "execution_count": 68,
   "metadata": {},
   "outputs": [
    {
     "name": "stderr",
     "output_type": "stream",
     "text": [
      "[nltk_data] Downloading package wordnet to\n",
      "[nltk_data]     C:\\Users\\vidhi\\AppData\\Roaming\\nltk_data...\n",
      "[nltk_data]   Package wordnet is already up-to-date!\n"
     ]
    }
   ],
   "source": [
    "import re\n",
    "import pandas as pd\n",
    "import numpy as np\n",
    "import requests\n",
    "\n",
    "import bs4\n",
    "from bs4 import BeautifulSoup\n",
    "import zipfile\n",
    "from zipfile import ZipFile\n",
    "\n",
    "import nltk\n",
    "import nltk.data\n",
    "from nltk.tokenize import RegexpTokenizer\n",
    "from nltk.probability import *\n",
    "nltk.download('wordnet')\n",
    "from nltk.stem import WordNetLemmatizer\n",
    "from nltk.corpus import stopwords\n",
    "\n",
    "import seaborn as sns\n",
    "import matplotlib.pyplot as plt\n",
    "%matplotlib inline \n",
    "\n",
    "from sklearn.feature_extraction.text import TfidfVectorizer\n",
    "from sklearn.preprocessing import LabelEncoder\n",
    "from sklearn import metrics\n",
    "from sklearn.metrics import accuracy_score \n",
    "from sklearn.model_selection import cross_val_score\n",
    "from sklearn.model_selection import RandomizedSearchCV, GridSearchCV\n",
    "from sklearn.linear_model import LogisticRegression\n",
    "from sklearn.ensemble import BaggingClassifier\n",
    "from sklearn.svm import LinearSVC"
   ]
  },
  {
   "cell_type": "markdown",
   "metadata": {},
   "source": [
    "## Reading the training and testing csv data"
   ]
  },
  {
   "cell_type": "markdown",
   "metadata": {},
   "source": [
    "Here the `train_labels.csv`, `test.csv` and `test_labels.csv` are read using the `read_csv()` method of the Pandas library and stored into respective dataframes.\n",
    "The `data_train` and `data_test` dataframes are concatenated into another dataframe called `data` to carry out the preprocessing tasks later on. The `data_test_label` dataframe is used later while checking the accuracy of the classifier developed."
   ]
  },
  {
   "cell_type": "code",
   "execution_count": 2,
   "metadata": {},
   "outputs": [],
   "source": [
    "data_train = pd.read_csv('train_labels.csv')\n",
    "data_test = pd.read_csv('test.csv')\n",
    "data = pd.concat([data_train,data_test])\n",
    "data_test_label = pd.read_csv('test_labels.csv')"
   ]
  },
  {
   "cell_type": "markdown",
   "metadata": {},
   "source": [
    "The `head()` method is used on the dataframe object `data_train` to display the first 5 rows of the dataset."
   ]
  },
  {
   "cell_type": "code",
   "execution_count": 3,
   "metadata": {},
   "outputs": [
    {
     "data": {
      "text/html": [
       "<div>\n",
       "<style scoped>\n",
       "    .dataframe tbody tr th:only-of-type {\n",
       "        vertical-align: middle;\n",
       "    }\n",
       "\n",
       "    .dataframe tbody tr th {\n",
       "        vertical-align: top;\n",
       "    }\n",
       "\n",
       "    .dataframe thead th {\n",
       "        text-align: right;\n",
       "    }\n",
       "</style>\n",
       "<table border=\"1\" class=\"dataframe\">\n",
       "  <thead>\n",
       "    <tr style=\"text-align: right;\">\n",
       "      <th></th>\n",
       "      <th>id</th>\n",
       "      <th>gender</th>\n",
       "    </tr>\n",
       "  </thead>\n",
       "  <tbody>\n",
       "    <tr>\n",
       "      <th>0</th>\n",
       "      <td>d7d392835f50664fc079f0f388e147a0</td>\n",
       "      <td>male</td>\n",
       "    </tr>\n",
       "    <tr>\n",
       "      <th>1</th>\n",
       "      <td>ee40b86368137b86f51806c9f105b34b</td>\n",
       "      <td>female</td>\n",
       "    </tr>\n",
       "    <tr>\n",
       "      <th>2</th>\n",
       "      <td>919bc742d9a22d65eab1f52b11656cab</td>\n",
       "      <td>male</td>\n",
       "    </tr>\n",
       "    <tr>\n",
       "      <th>3</th>\n",
       "      <td>15b97a08d65f22d97ca685686510b6ae</td>\n",
       "      <td>female</td>\n",
       "    </tr>\n",
       "    <tr>\n",
       "      <th>4</th>\n",
       "      <td>affa98421ef5c46ca7c8f246e0a134c1</td>\n",
       "      <td>female</td>\n",
       "    </tr>\n",
       "  </tbody>\n",
       "</table>\n",
       "</div>"
      ],
      "text/plain": [
       "                                 id  gender\n",
       "0  d7d392835f50664fc079f0f388e147a0    male\n",
       "1  ee40b86368137b86f51806c9f105b34b  female\n",
       "2  919bc742d9a22d65eab1f52b11656cab    male\n",
       "3  15b97a08d65f22d97ca685686510b6ae  female\n",
       "4  affa98421ef5c46ca7c8f246e0a134c1  female"
      ]
     },
     "execution_count": 3,
     "metadata": {},
     "output_type": "execute_result"
    }
   ],
   "source": [
    "data_train.head()"
   ]
  },
  {
   "cell_type": "markdown",
   "metadata": {},
   "source": [
    "The `head()` method is used on the dataframe object `data_test` to display the first 5 rows of the dataset."
   ]
  },
  {
   "cell_type": "code",
   "execution_count": 4,
   "metadata": {
    "scrolled": true
   },
   "outputs": [
    {
     "data": {
      "text/html": [
       "<div>\n",
       "<style scoped>\n",
       "    .dataframe tbody tr th:only-of-type {\n",
       "        vertical-align: middle;\n",
       "    }\n",
       "\n",
       "    .dataframe tbody tr th {\n",
       "        vertical-align: top;\n",
       "    }\n",
       "\n",
       "    .dataframe thead th {\n",
       "        text-align: right;\n",
       "    }\n",
       "</style>\n",
       "<table border=\"1\" class=\"dataframe\">\n",
       "  <thead>\n",
       "    <tr style=\"text-align: right;\">\n",
       "      <th></th>\n",
       "      <th>id</th>\n",
       "      <th>gender</th>\n",
       "      <th>language</th>\n",
       "    </tr>\n",
       "  </thead>\n",
       "  <tbody>\n",
       "    <tr>\n",
       "      <th>0</th>\n",
       "      <td>d6b08022cdf758ead05e1c266649c393</td>\n",
       "      <td>NaN</td>\n",
       "      <td>NaN</td>\n",
       "    </tr>\n",
       "    <tr>\n",
       "      <th>1</th>\n",
       "      <td>9a989cb04766d5a89a65e8912d448328</td>\n",
       "      <td>NaN</td>\n",
       "      <td>NaN</td>\n",
       "    </tr>\n",
       "    <tr>\n",
       "      <th>2</th>\n",
       "      <td>2a1053a059d58fbafd3e782a8f7972c0</td>\n",
       "      <td>NaN</td>\n",
       "      <td>NaN</td>\n",
       "    </tr>\n",
       "    <tr>\n",
       "      <th>3</th>\n",
       "      <td>6032537900368aca3d1546bd71ecabd1</td>\n",
       "      <td>NaN</td>\n",
       "      <td>NaN</td>\n",
       "    </tr>\n",
       "    <tr>\n",
       "      <th>4</th>\n",
       "      <td>d191280655be8108ec9928398ff5b563</td>\n",
       "      <td>NaN</td>\n",
       "      <td>NaN</td>\n",
       "    </tr>\n",
       "  </tbody>\n",
       "</table>\n",
       "</div>"
      ],
      "text/plain": [
       "                                 id  gender  language\n",
       "0  d6b08022cdf758ead05e1c266649c393     NaN       NaN\n",
       "1  9a989cb04766d5a89a65e8912d448328     NaN       NaN\n",
       "2  2a1053a059d58fbafd3e782a8f7972c0     NaN       NaN\n",
       "3  6032537900368aca3d1546bd71ecabd1     NaN       NaN\n",
       "4  d191280655be8108ec9928398ff5b563     NaN       NaN"
      ]
     },
     "execution_count": 4,
     "metadata": {},
     "output_type": "execute_result"
    }
   ],
   "source": [
    "data_test.head()"
   ]
  },
  {
   "cell_type": "markdown",
   "metadata": {},
   "source": [
    "The `head()` method is used on the dataframe object `data_test_label` to display the first 5 rows of the dataset."
   ]
  },
  {
   "cell_type": "code",
   "execution_count": 5,
   "metadata": {},
   "outputs": [
    {
     "data": {
      "text/html": [
       "<div>\n",
       "<style scoped>\n",
       "    .dataframe tbody tr th:only-of-type {\n",
       "        vertical-align: middle;\n",
       "    }\n",
       "\n",
       "    .dataframe tbody tr th {\n",
       "        vertical-align: top;\n",
       "    }\n",
       "\n",
       "    .dataframe thead th {\n",
       "        text-align: right;\n",
       "    }\n",
       "</style>\n",
       "<table border=\"1\" class=\"dataframe\">\n",
       "  <thead>\n",
       "    <tr style=\"text-align: right;\">\n",
       "      <th></th>\n",
       "      <th>id</th>\n",
       "      <th>gender</th>\n",
       "    </tr>\n",
       "  </thead>\n",
       "  <tbody>\n",
       "    <tr>\n",
       "      <th>0</th>\n",
       "      <td>d6b08022cdf758ead05e1c266649c393</td>\n",
       "      <td>male</td>\n",
       "    </tr>\n",
       "    <tr>\n",
       "      <th>1</th>\n",
       "      <td>9a989cb04766d5a89a65e8912d448328</td>\n",
       "      <td>female</td>\n",
       "    </tr>\n",
       "    <tr>\n",
       "      <th>2</th>\n",
       "      <td>2a1053a059d58fbafd3e782a8f7972c0</td>\n",
       "      <td>male</td>\n",
       "    </tr>\n",
       "    <tr>\n",
       "      <th>3</th>\n",
       "      <td>6032537900368aca3d1546bd71ecabd1</td>\n",
       "      <td>male</td>\n",
       "    </tr>\n",
       "    <tr>\n",
       "      <th>4</th>\n",
       "      <td>d191280655be8108ec9928398ff5b563</td>\n",
       "      <td>male</td>\n",
       "    </tr>\n",
       "  </tbody>\n",
       "</table>\n",
       "</div>"
      ],
      "text/plain": [
       "                                 id  gender\n",
       "0  d6b08022cdf758ead05e1c266649c393    male\n",
       "1  9a989cb04766d5a89a65e8912d448328  female\n",
       "2  2a1053a059d58fbafd3e782a8f7972c0    male\n",
       "3  6032537900368aca3d1546bd71ecabd1    male\n",
       "4  d191280655be8108ec9928398ff5b563    male"
      ]
     },
     "execution_count": 5,
     "metadata": {},
     "output_type": "execute_result"
    }
   ],
   "source": [
    "data_test_label.head()"
   ]
  },
  {
   "cell_type": "markdown",
   "metadata": {},
   "source": [
    "The `len()` method used to check the number of rows in the dataframes below."
   ]
  },
  {
   "cell_type": "code",
   "execution_count": 6,
   "metadata": {},
   "outputs": [
    {
     "data": {
      "text/plain": [
       "3100"
      ]
     },
     "execution_count": 6,
     "metadata": {},
     "output_type": "execute_result"
    }
   ],
   "source": [
    "len(data_train)"
   ]
  },
  {
   "cell_type": "code",
   "execution_count": 7,
   "metadata": {},
   "outputs": [
    {
     "data": {
      "text/plain": [
       "500"
      ]
     },
     "execution_count": 7,
     "metadata": {},
     "output_type": "execute_result"
    }
   ],
   "source": [
    "len(data_test)"
   ]
  },
  {
   "cell_type": "code",
   "execution_count": 8,
   "metadata": {},
   "outputs": [
    {
     "data": {
      "text/plain": [
       "500"
      ]
     },
     "execution_count": 8,
     "metadata": {},
     "output_type": "execute_result"
    }
   ],
   "source": [
    "len(data_test_label)"
   ]
  },
  {
   "cell_type": "markdown",
   "metadata": {},
   "source": [
    "The `info()` method is used on the dataframe objects to print a concise summary about the dataframes including the index dtype, column dtypes, non-null values and memory usage."
   ]
  },
  {
   "cell_type": "code",
   "execution_count": 9,
   "metadata": {},
   "outputs": [
    {
     "name": "stdout",
     "output_type": "stream",
     "text": [
      "<class 'pandas.core.frame.DataFrame'>\n",
      "RangeIndex: 3100 entries, 0 to 3099\n",
      "Data columns (total 2 columns):\n",
      " #   Column  Non-Null Count  Dtype \n",
      "---  ------  --------------  ----- \n",
      " 0   id      3100 non-null   object\n",
      " 1   gender  3100 non-null   object\n",
      "dtypes: object(2)\n",
      "memory usage: 48.6+ KB\n"
     ]
    }
   ],
   "source": [
    "data_train.info()"
   ]
  },
  {
   "cell_type": "markdown",
   "metadata": {},
   "source": [
    "Hence, we can see that data_train dataframe consists of training data from the train_labels.csv with 3100 rows and 2 columns where the `id` represents the file name in the given data which contains a set of xml files in it and the `gender` represents the gender of the author."
   ]
  },
  {
   "cell_type": "code",
   "execution_count": 10,
   "metadata": {},
   "outputs": [
    {
     "name": "stdout",
     "output_type": "stream",
     "text": [
      "<class 'pandas.core.frame.DataFrame'>\n",
      "RangeIndex: 500 entries, 0 to 499\n",
      "Data columns (total 3 columns):\n",
      " #   Column    Non-Null Count  Dtype  \n",
      "---  ------    --------------  -----  \n",
      " 0   id        500 non-null    object \n",
      " 1   gender    0 non-null      float64\n",
      " 2   language  0 non-null      float64\n",
      "dtypes: float64(2), object(1)\n",
      "memory usage: 11.8+ KB\n"
     ]
    }
   ],
   "source": [
    "data_test.info()"
   ]
  },
  {
   "cell_type": "markdown",
   "metadata": {},
   "source": [
    "Hence, we can see that data_test dataframe consists of testing data from the test.csv with 3100 rows and 3 columns where the `id` represents the file name in the given data which contains a set of xml files in it, the `gender` represents the gender of the author which is `null` and the language represents the `language` of the text data which is also `null`.\n",
    "\n",
    "Hence, it contains only the id details."
   ]
  },
  {
   "cell_type": "code",
   "execution_count": 11,
   "metadata": {
    "scrolled": true
   },
   "outputs": [
    {
     "name": "stdout",
     "output_type": "stream",
     "text": [
      "<class 'pandas.core.frame.DataFrame'>\n",
      "RangeIndex: 500 entries, 0 to 499\n",
      "Data columns (total 2 columns):\n",
      " #   Column  Non-Null Count  Dtype \n",
      "---  ------  --------------  ----- \n",
      " 0   id      500 non-null    object\n",
      " 1   gender  500 non-null    object\n",
      "dtypes: object(2)\n",
      "memory usage: 7.9+ KB\n"
     ]
    }
   ],
   "source": [
    "data_test_label.info()"
   ]
  },
  {
   "cell_type": "markdown",
   "metadata": {},
   "source": [
    "Hence, we can see that data_test_label dataframe consists of testing data from the test_labels.csv with 500 rows and 2 columns where the `id` represents the file name in the given data which contains a set of xml files in it and the `gender` represents the gender of the author.\n",
    "\n",
    "This is used for checking the accuracy and has no missing values."
   ]
  },
  {
   "cell_type": "markdown",
   "metadata": {},
   "source": [
    "## Graphical Visualization of the train and test data"
   ]
  },
  {
   "cell_type": "markdown",
   "metadata": {},
   "source": [
    "The `gender` column of the data_train dataframe is inspected to see the distribution of male and female labels."
   ]
  },
  {
   "cell_type": "code",
   "execution_count": 12,
   "metadata": {},
   "outputs": [
    {
     "name": "stdout",
     "output_type": "stream",
     "text": [
      "male    1552\n",
      "Name: gender, dtype: int64\n",
      "female    1548\n",
      "Name: gender, dtype: int64\n"
     ]
    }
   ],
   "source": [
    "train_male = data_train[data_train['gender'] == 'male']\n",
    "train_female = data_train[data_train['gender'] == 'female']\n",
    "\n",
    "train_male=train_male.gender.value_counts()\n",
    "train_female =train_female.gender.value_counts()\n",
    "print(train_male)\n",
    "print(train_female)\n"
   ]
  },
  {
   "cell_type": "markdown",
   "metadata": {},
   "source": [
    "Hence, we can see that there are 1552 instances of male and 1548 instances of female. Hence, the data is almost identically distributed between both the  label classes."
   ]
  },
  {
   "cell_type": "markdown",
   "metadata": {},
   "source": [
    "A bar chart has also been plotted to view the gender label class distribution."
   ]
  },
  {
   "cell_type": "code",
   "execution_count": 14,
   "metadata": {},
   "outputs": [
    {
     "data": {
      "text/plain": [
       "Text(0, 0.5, 'Counts')"
      ]
     },
     "execution_count": 14,
     "metadata": {},
     "output_type": "execute_result"
    },
    {
     "data": {
      "image/png": "[encoded data removed]",
      "text/plain": [
       "<Figure size 432x288 with 1 Axes>"
      ]
     },
     "metadata": {
      "needs_background": "light"
     },
     "output_type": "display_data"
    }
   ],
   "source": [
    "plt.bar(train_male.index.values, train_male, color='lightblue')\n",
    "plt.bar(train_female.index.values, train_female, color='orange')\n",
    "plt.title('Gender Class Distribution')\n",
    "plt.xlabel('Gender')\n",
    "plt.ylabel('Counts')"
   ]
  },
  {
   "cell_type": "markdown",
   "metadata": {},
   "source": [
    "The `gender` column of the data_test dataframe is inspected to see the distribution of male and female labels."
   ]
  },
  {
   "cell_type": "code",
   "execution_count": 15,
   "metadata": {},
   "outputs": [
    {
     "name": "stdout",
     "output_type": "stream",
     "text": [
      "male    248\n",
      "Name: gender, dtype: int64\n",
      "female    252\n",
      "Name: gender, dtype: int64\n"
     ]
    }
   ],
   "source": [
    "true_male = data_test_label[data_test_label['gender'] == 'male']\n",
    "true_female = data_test_label[data_test_label['gender'] == 'female']\n",
    "\n",
    "true_male=true_male.gender.value_counts()\n",
    "true_female =true_female.gender.value_counts()\n",
    "print(true_male)\n",
    "print(true_female)"
   ]
  },
  {
   "cell_type": "markdown",
   "metadata": {},
   "source": [
    "Hence, we can see that there are 248 instances of male and 252 instances of female. Hence, the data is almost identically distributed between both the  label classes."
   ]
  },
  {
   "cell_type": "markdown",
   "metadata": {},
   "source": [
    "A bar chart has also been plotted to view the gender label class distribution."
   ]
  },
  {
   "cell_type": "code",
   "execution_count": 16,
   "metadata": {},
   "outputs": [
    {
     "data": {
      "text/plain": [
       "Text(0, 0.5, 'Counts')"
      ]
     },
     "execution_count": 16,
     "metadata": {},
     "output_type": "execute_result"
    },
    {
     "data": {
      "image/png": "[encoded data removed]",
      "text/plain": [
       "<Figure size 432x288 with 1 Axes>"
      ]
     },
     "metadata": {
      "needs_background": "light"
     },
     "output_type": "display_data"
    }
   ],
   "source": [
    "plt.bar(true_male.index.values, true_male, color='lightblue')\n",
    "plt.bar(true_female.index.values, true_female, color='orange')\n",
    "plt.title('Gender Class Distribution')\n",
    "plt.xlabel('Gender')\n",
    "plt.ylabel('Counts')"
   ]
  },
  {
   "cell_type": "markdown",
   "metadata": {},
   "source": [
    "# Extracting the data from the data.zip file"
   ]
  },
  {
   "cell_type": "markdown",
   "metadata": {},
   "source": [
    "The data given in the data.zip file is now extracted. The data given is in xml format. We have been provided with the id values without the `.xml` extension. Hence, we loop over all the data id values in the `data` dataframe which contains both the train and test data and save the id values with a .xml extension for later use in extraction."
   ]
  },
  {
   "cell_type": "code",
   "execution_count": 17,
   "metadata": {},
   "outputs": [],
   "source": [
    "list_file =[]\n",
    "for i in data.id:\n",
    "    list_file.append(i+'.xml')"
   ]
  },
  {
   "cell_type": "markdown",
   "metadata": {},
   "source": [
    "The `len()` method used to check the number of entries in the list_file below to check if all the data ids have been succesfully appended into the new list."
   ]
  },
  {
   "cell_type": "code",
   "execution_count": 18,
   "metadata": {},
   "outputs": [
    {
     "data": {
      "text/plain": [
       "3600"
      ]
     },
     "execution_count": 18,
     "metadata": {},
     "output_type": "execute_result"
    }
   ],
   "source": [
    "len(list_file)"
   ]
  },
  {
   "cell_type": "markdown",
   "metadata": {},
   "source": [
    "A new list called `list_zip_ext` is created to store the data from the zip files.\n",
    "\n",
    "The `zipfile.ZipFile('data.zip', 'r')` is used to open the existing data.zip file in reading mode r.\n",
    "We iterate over all the xml file names from list_file to read the contents from the opened zip file one by one and then appending the xml file data into the new list `list_zip_ext`.\n",
    "\n"
   ]
  },
  {
   "cell_type": "code",
   "execution_count": 19,
   "metadata": {},
   "outputs": [],
   "source": [
    "list_zip_ext=[]\n",
    "zf = zipfile.ZipFile('data.zip', 'r')\n",
    "for i in list_file:\n",
    "    data_zip = zf.read(\"data/\"+ i)\n",
    "    list_zip_ext.append(data_zip)"
   ]
  },
  {
   "cell_type": "markdown",
   "metadata": {},
   "source": [
    "The `len()` method used to check the number of entries in the `list_zip_ext` below to check if all the data from the xml files have been succesfully appended into the new list."
   ]
  },
  {
   "cell_type": "code",
   "execution_count": 20,
   "metadata": {},
   "outputs": [
    {
     "data": {
      "text/plain": [
       "3600"
      ]
     },
     "execution_count": 20,
     "metadata": {},
     "output_type": "execute_result"
    }
   ],
   "source": [
    "len(list_zip_ext)"
   ]
  },
  {
   "cell_type": "markdown",
   "metadata": {},
   "source": [
    "The first entry in the new list is shown below to show the format in which the data has been extracted into the new list."
   ]
  },
  {
   "cell_type": "code",
   "execution_count": 21,
   "metadata": {},
   "outputs": [
    {
     "data": {
      "text/plain": [
       "b'<author lang=\"en\">\\n\\t<documents>\\n\\t\\t<document><![CDATA[@CSIFERROSCAN youch! Good things to know! Is that sort of stuff repairable?]]></document>\\n\\t\\t<document><![CDATA[Succumbed to FOMO and bought GNR tickets. Remember asking parents to buy GNR Lies album as a young boy because it had boobies inside. \\xf0\\x9f\\x98\\x82]]></document>\\n\\t\\t<document><![CDATA[Brown eye Broom a cool 73 then to the rescue to clear out some broken window in Wellington @TheACCnz https://t.co/eoYmdswYX5]]></document>\\n\\t\\t<document><![CDATA[Shout out to Auckland tennis fans who get to sleep in this morning but worth it to watch the \\xf0\\x9f\\x90\\x90 win #18 #Federer #needcoffee]]></document>\\n\\t\\t<document><![CDATA[@nickyoung210 Someone had some balls to come up with that \\xf0\\x9f\\x98\\x82]]></document>\\n\\t\\t<document><![CDATA[@okcthunder Hey guys, are there any more releases coming of the 2016 Christmas day jerseys?]]></document>\\n\\t\\t<document><![CDATA[@JulieReddish Yeah but curiosity got the better of me!! \\xf0\\x9f\\x91\\x80]]></document>\\n\\t\\t<document><![CDATA[@JulieReddish I rewound and paused. Not one of my best decisions\\xe2\\x80\\xa6]]></document>\\n\\t\\t<document><![CDATA[Good to see Steve Adams upping the def game since coming back! 4 blks in each game plus a 20-10 in this one. Getting it done big fella!]]></document>\\n\\t\\t<document><![CDATA[Sure as eggs though I\\xe2\\x80\\x99m bound to jinx it]]></document>\\n\\t\\t<document><![CDATA[Might get an early night tonight which will be nice #AusOpen]]></document>\\n\\t\\t<document><![CDATA[There\\xe2\\x80\\x99s a few empty seats at the Aus Open. Latecomers better get in quick, Fed\\xe2\\x80\\x99s up 5-0 already in 13 mins \\xf0\\x9f\\x98\\xb3]]></document>\\n\\t\\t<document><![CDATA[What makes this horse shit weather worse is watching the Aus Open with Melbourne bathed in sunshine \\xf0\\x9f\\x98\\xab #Summer2017]]></document>\\n\\t\\t<document><![CDATA[@ThornhillDave So do you want this now for your birthday instead of the Miranda Sex Arse?]]></document>\\n\\t\\t<document><![CDATA[@ThornhillDave What weatherbomb??! https://t.co/VC93gMCzK5]]></document>\\n\\t\\t<document><![CDATA[So *someone* thought it was a good idea to tackle the weather bomb this morning\\xe2\\x80\\xa6 https://t.co/nc34ECgsiA]]></document>\\n\\t\\t<document><![CDATA[Back to the grind tomorrow. Having successfully only worn them 3 times since Christmas, wearing socks is going to be the biggest shock!]]></document>\\n\\t\\t<document><![CDATA[@SKYNZ WiFi on iPad Pro &amp; iPad Air. iPhone actually works fine.]]></document>\\n\\t\\t<document><![CDATA[@SKYNZ Any issues with SKYGO app? Getting this on multiple devices https://t.co/a2xKZZESXp]]></document>\\n\\t\\t<document><![CDATA[@justin_lester Just tell them you know someone who knows the mayor\\xe2\\x80\\xa6]]></document>\\n\\t\\t<document><![CDATA[@justin_lester Make sure you add the hashtag #NBAVote \\xf0\\x9f\\x98\\x89 @RealStevenAdams]]></document>\\n\\t\\t<document><![CDATA[Damn. Last 2 points for @RealStevenAdams cost me at the TAB! #NBAVote https://t.co/2RnwfinC8z]]></document>\\n\\t\\t<document><![CDATA[@Timely Nice! So a walk-in service doesn\\xe2\\x80\\x99t affect rebooking stats?]]></document>\\n\\t\\t<document><![CDATA[@ThornhillDave You don\\xe2\\x80\\x99t need to see a picture of my stiffy]]></document>\\n\\t\\t<document><![CDATA[@ThornhillDave Drew a picture\\xe2\\x80\\xa6 \\xf0\\x9f\\x98\\x82]]></document>\\n\\t\\t<document><![CDATA[Cards of Humanity with Mum: \\xe2\\x80\\x9cWhat\\xe2\\x80\\x99s a stiffy?\\xe2\\x80\\x9d]]></document>\\n\\t\\t<document><![CDATA[@BR4DY Haha I was wondering perhaps that hotel in Greytowb was putting on a performance\\xe2\\x80\\xa6?! \\xf0\\x9f\\x98\\x82]]></document>\\n\\t\\t<document><![CDATA[Middle of summer &amp; still snow on Mt Ruapehu #climatechange https://t.co/YJgDxEoG7Q]]></document>\\n\\t\\t<document><![CDATA[@brendontrass Which channel?]]></document>\\n\\t\\t<document><![CDATA[@ThornhillDave \\xf0\\x9f\\x98\\xae He\\xe2\\x80\\x99d be exhausted after that\\xe2\\x80\\xa6]]></document>\\n\\t\\t<document><![CDATA[My 2017 will be more interesting to the game but it\\xe2\\x80\\x99s a bit too good \\xf0\\x9f\\x98\\x8a https://t.co/C1TGINztNJ]]></document>\\n\\t\\t<document><![CDATA[@jptocker Is it as good as your accountant? \\xf0\\x9f\\x98\\x82\\xf0\\x9f\\x98\\x82]]></document>\\n\\t\\t<document><![CDATA[@BrentfromNZ @jessbovey Think they\\xe2\\x80\\x99re closed until Feb due to Reading car park demo]]></document>\\n\\t\\t<document><![CDATA[@jessbovey Martinborough?]]></document>\\n\\t\\t<document><![CDATA[Bloody typical. My hay fever always kicks in right at the end of The Notebook\\xe2\\x80\\xa6]]></document>\\n\\t\\t<document><![CDATA[Statue of Liberty Jam! @RealStevenAdams #NBAVote https://t.co/sSZYOHtUxq]]></document>\\n\\t\\t<document><![CDATA[So took a leaf from the big fella today, checked it twice, nailed it \\xf0\\x9f\\x91\\x8c\\xf0\\x9f\\x8f\\xbd Adulting ftw https://t.co/N2Nkn6YSre]]></document>\\n\\t\\t<document><![CDATA[@jessbovey The struggle is real!]]></document>\\n\\t\\t<document><![CDATA[Just discovered that I put my undies on inside out today. Is it Christmas yet \\xf0\\x9f\\x98\\xab]]></document>\\n\\t\\t<document><![CDATA[Keeping fingers crossed that next #KFCAdventCalendar present is that they\\'re moving back to Manners Mall #byecottonon]]></document>\\n\\t\\t<document><![CDATA[.@kfcnz Oh all the shades of dark grey once I\\'ve wiped my hands on them after demolishing a bucket #KFCAdventCalendar]]></document>\\n\\t\\t<document><![CDATA[@jessbovey Take them all to town &amp; give to the Mary Potter Hospice people to wrap for gold coin donation \\xf0\\x9f\\x92\\x81\\xf0\\x9f\\x8f\\xbb\\xe2\\x80\\x8d\\xe2\\x99\\x82\\xef\\xb8\\x8f]]></document>\\n\\t\\t<document><![CDATA[Biting the bullet and buying NBA league pass if only so I never have to hear the ESPN 12 days of Christmas ad again \\xf0\\x9f\\x98\\xb3]]></document>\\n\\t\\t<document><![CDATA[Great addon to an awesome event. CBD is buzzing. Starting to feel like Christmas \\xf0\\x9f\\x8e\\x84 https://t.co/66Ij9Fa6QR]]></document>\\n\\t\\t<document><![CDATA[@KiwibankNZ Thanks guys. I\\'ll check the postbox this afternoon and if no dice, then I\\'ll get in contact.]]></document>\\n\\t\\t<document><![CDATA[I know why you had to @KiwibankNZ but cancelling cc &amp; still waiting a week later for new one is most inconvenient as all cloud subs bouncing]]></document>\\n\\t\\t<document><![CDATA[@AbbieThornhill @jessbovey 7 inches normally is\\xe2\\x80\\xa6]]></document>\\n\\t\\t<document><![CDATA[@LloydPercival @jptocker @kfcnz They sure do! Or did\\xe2\\x80\\xa6 https://t.co/Rqlkf6t27h]]></document>\\n\\t\\t<document><![CDATA[New leader of National Party will be decided via contest on the Edge singing Mariah\\'s All I Want For Christmas #KeyResigns]]></document>\\n\\t\\t<document><![CDATA[Bad news comes in threes... https://t.co/8vpavC3CTw]]></document>\\n\\t\\t<document><![CDATA[What more can this day throw at us! https://t.co/9tkSNqocYR]]></document>\\n\\t\\t<document><![CDATA[6th ball of the match, Tubby pulls out the \\xe2\\x80\\x9cshot of the match\\xe2\\x80\\x9d call. #AUSvNZL @TheACCnz]]></document>\\n\\t\\t<document><![CDATA[Looks like Twitter has decided we\\'re swapping two Harvies for an Earl... @TweetingTrace @JayHarvie @AliceCooke3 https://t.co/u9uqYhmCYA]]></document>\\n\\t\\t<document><![CDATA[@WhittakersNZ 11 #tweats]]></document>\\n\\t\\t<document><![CDATA[@jessbovey \"NOTICE: This domain name expired on 11/25/2016 and is pending renewal or deletion.   Renew It Now!\"]]></document>\\n\\t\\t<document><![CDATA[@nickyoung210 Did you not have a yahoo moment....]]></document>\\n\\t\\t<document><![CDATA[The TV2 Sunday \\xe2\\x80\\x9cPremiere\\xe2\\x80\\x9d movie is Mr Deeds. A movie released in 2002\\xe2\\x80\\xa6.]]></document>\\n\\t\\t<document><![CDATA[@TashTasticNZ Yeah, it was a torn medial meniscus. Just a minor op though - so they say!]]></document>\\n\\t\\t<document><![CDATA[@TashTasticNZ It\\xe2\\x80\\x99s both of us!! I\\xe2\\x80\\x99m getting my knee done today as well!]]></document>\\n\\t\\t<document><![CDATA[Nil by mouth until 4pm starts now. This is gonna be ugly\\xe2\\x80\\xa6]]></document>\\n\\t\\t<document><![CDATA[I must be the only person to ever injure their knee again the night before a knee operation \\xf0\\x9f\\x98\\xa9 Here\\xe2\\x80\\x99s hoping both injuries are related!]]></document>\\n\\t\\t<document><![CDATA[Great innovative idea! https://t.co/gBmePwn7YO]]></document>\\n\\t\\t<document><![CDATA[Mark Reason take note, this is why Beauden Barrett is starting. Also why you\\xe2\\x80\\x99re not the All Black coach #IREvNZL]]></document>\\n\\t\\t<document><![CDATA[@LloydPercival Haha! All I see are beards! \\xf0\\x9f\\x8e\\x85\\xf0\\x9f\\x8f\\xbd]]></document>\\n\\t\\t<document><![CDATA[Great airline banter. Check out the whole thread. Plus some mad photoshop skills! https://t.co/hFX2Hb4JSj]]></document>\\n\\t\\t<document><![CDATA[Or is it because there are so many beards in Welly it\\xe2\\x80\\x99s basically Movember all year round? https://t.co/27iZ0Z9m58]]></document>\\n\\t\\t<document><![CDATA[Taking a break from earthquakes for a mo, so is Movember still a thing? Saw one dirty tache today &amp; it is probably the only one I\\xe2\\x80\\x99ve seen!]]></document>\\n\\t\\t<document><![CDATA[It\\xe2\\x80\\x99s so frickin embarrassing that Brian Tamaki is a NZer.]]></document>\\n\\t\\t<document><![CDATA[How does the Queen manage to get a letter sent here in 2 days yet my ASOS order is still \"in transit\" #eqnz]]></document>\\n\\t\\t<document><![CDATA[Ok... hands up who else said about 10 mins ago that we hadn\\'t had a strong aftershock for a while #eqnz]]></document>\\n\\t\\t<document><![CDATA[Nope nope nope nope! Cmon! We\\xe2\\x80\\x99ve JUST cleaned up my mothers apartment #eqnz]]></document>\\n\\t\\t<document><![CDATA[@LloydPercival You working with Jipa?!]]></document>\\n\\t\\t<document><![CDATA[Great, just as we thought the aftershocks had died down and dared to go to bed #eqnz]]></document>\\n\\t\\t<document><![CDATA[@007GAL oh what?!! #jealous @CookieTimeNZ]]></document>\\n\\t\\t<document><![CDATA[Breaking out the earthquake snack supplies. I knew we should have bought that bucket of Cookie Time Christmas Cookies today! #eqnz]]></document>\\n\\t\\t<document><![CDATA[@LloydPercival Every aftershock has us clenching and gritting thinking it will go for longer :/ Hope kids both ok #eqnz]]></document>\\n\\t\\t<document><![CDATA[@JayHarvie Lucky you didn\\'t bite into that Camel Grill today then wasn\\'t it! @AbbieThornhill]]></document>\\n\\t\\t<document><![CDATA[@JayHarvie This has been @AbbieThornhill\\'s worse nightmare for the past half hour. She has a turtle head....]]></document>\\n\\t\\t<document><![CDATA[@KeithQuinn88 We lost some chinaware up on 14! https://t.co/vQHRn6hW1E]]></document>\\n\\t\\t<document><![CDATA[Link to keep track of updates https://t.co/7EK3PqpA8m #eqnz]]></document>\\n\\t\\t<document><![CDATA[Aftershocks are not fun at all #eqnz]]></document>\\n\\t\\t<document><![CDATA[Thought that was it. 14 floors up and it didn\\xe2\\x80\\x99t seem like it was going to stop shaking. #eqnz]]></document>\\n\\t\\t<document><![CDATA[@GregSheehanRW I had the same feelings yesterday morning when it was 33-29 (\"it\\'ll be fine\"). Not sure about anything anymore! @ClareCapital]]></document>\\n\\t\\t<document><![CDATA[Helps if ALB wasn\\xe2\\x80\\x99t presenting the after match for Sky! \\xf0\\x9f\\x98\\x83 https://t.co/7ijhP1WZQA https://t.co/5yT11grsJX]]></document>\\n\\t\\t<document><![CDATA[Can\\xe2\\x80\\x99t take anything away from Ireland\\xe2\\x80\\x99s performance but shows how important Retallick is to this ABs side #NZLvIRE]]></document>\\n\\t\\t<document><![CDATA[Pray for @brendontrass https://t.co/gc9x9vjYCY]]></document>\\n\\t\\t<document><![CDATA[Meanwhile on the other channel \\xf0\\x9f\\x98\\xab\\xf0\\x9f\\x98\\xab #NZLvIRE https://t.co/ZooG12UqPu]]></document>\\n\\t\\t<document><![CDATA[Ardie onto the wing? #NZLvIRE]]></document>\\n\\t\\t<document><![CDATA[The Barrett father will be smiling\\xe2\\x80\\xa6. #NZLvIRE]]></document>\\n\\t\\t<document><![CDATA[@JayHarvie ah well. Some days you are like that. You get knocked down. But all you can do is get up again]]></document>\\n\\t\\t<document><![CDATA[@jessbovey I\\xe2\\x80\\x99m picking girl or boy \\xf0\\x9f\\x91\\xa8\\xe2\\x80\\x8d\\xf0\\x9f\\x91\\xa9\\xe2\\x80\\x8d\\xf0\\x9f\\x91\\xa7\\xe2\\x80\\x8d\\xf0\\x9f\\x91\\xa6\\xf0\\x9f\\x91\\xa8\\xe2\\x80\\x8d\\xf0\\x9f\\x91\\xa9\\xe2\\x80\\x8d\\xf0\\x9f\\x91\\xa6\\xe2\\x80\\x8d\\xf0\\x9f\\x91\\xa6]]></document>\\n\\t\\t<document><![CDATA[@JulieReddish Albeit slightly illegal!]]></document>\\n\\t\\t<document><![CDATA[I mean seriously. What kind of world are we living in here?]]></document>\\n\\t\\t<document><![CDATA[The big question which stems from this article is why the heck does Hastings have a Carl\\'s Jnr and we don\\'t?!! https://t.co/Dt8bGchH8G]]></document>\\n\\t\\t<document><![CDATA[That moment Jesus Shuttlesworth killed my beloved @spurs #rayray https://t.co/OI6INcKEc1]]></document>\\n\\t\\t<document><![CDATA[@sulufiti They want the free shit!]]></document>\\n\\t\\t<document><![CDATA[Not gonna get $140m in one hit and will also be taxed but cool story bro. \\xf0\\x9f\\x91\\x8d\\xf0\\x9f\\x8f\\xbd https://t.co/ClXo3sWZbW]]></document>\\n\\t\\t<document><![CDATA[@AbbieThornhill I\\'ll be home in 2 secs...]]></document>\\n\\t\\t<document><![CDATA[@AbbieThornhill That is true.]]></document>\\n\\t\\t<document><![CDATA[As a naturally warm person, this house on Grand Designs sounds like my worst nightmare!! I\\xe2\\x80\\x99d be living in my undies!]]></document>\\n\\t</documents>\\n</author>'"
      ]
     },
     "execution_count": 21,
     "metadata": {},
     "output_type": "execute_result"
    }
   ],
   "source": [
    "list_zip_ext[0]"
   ]
  },
  {
   "cell_type": "markdown",
   "metadata": {},
   "source": [
    "This extracted text data needs to be pre-processed before we can use it to train and test our classifier model."
   ]
  },
  {
   "cell_type": "markdown",
   "metadata": {},
   "source": [
    "# Pre-processing "
   ]
  },
  {
   "cell_type": "markdown",
   "metadata": {},
   "source": [
    "A function `preprocessing` has been defined to carry out some pre-processing tasks for the extracted data.\n",
    "A new empty list document has been defined to store the document texts. The instance of `BeautifulSoup(doc, 'html.parser')` is taken as soup. We use `find_all()` to get all the text data without the tags as each line. Then we check if the line is in the bs4 formatted data form within bs4.CData, and then if it is true, it is appended into the list of documents.\n"
   ]
  },
  {
   "cell_type": "code",
   "execution_count": 22,
   "metadata": {},
   "outputs": [],
   "source": [
    "def preprocessing(doc):\n",
    "    document = []\n",
    "    soup = BeautifulSoup(doc,'html.parser')\n",
    " \n",
    "    for line in soup.find_all(text = True):\n",
    "        if isinstance(line, bs4.CData):\n",
    "            document.append(line)\n",
    "    return document"
   ]
  },
  {
   "cell_type": "markdown",
   "metadata": {},
   "source": [
    "A new empty list `text` has been defined to store the text for each of the 3600 documents for the training and testing data. We iterate over all the list_zip_ext entries and preprocess the contents one by one and then the pre-processed data is appended into the new list `text`. This list text contains a list of lists for each document. Each list inside the text list contains the sentences in each document separated by commas `,`.\n"
   ]
  },
  {
   "cell_type": "code",
   "execution_count": 23,
   "metadata": {},
   "outputs": [],
   "source": [
    "text = []\n",
    "for item in list_zip_ext:\n",
    "    txt = preprocessing(item)\n",
    "    text.append(txt)"
   ]
  },
  {
   "cell_type": "markdown",
   "metadata": {},
   "source": [
    "The first and second entry of the new text list is shown below to show the format in which the data has been extracted into the new list. We can see each list inside the main list showing the different sentences being separated by commas. The html tags have been sucessfully removed by the `preprocessing` function."
   ]
  },
  {
   "cell_type": "code",
   "execution_count": 24,
   "metadata": {},
   "outputs": [
    {
     "data": {
      "text/plain": [
       "[['@CSIFERROSCAN youch! Good things to know! Is that sort of stuff repairable?',\n",
       "  'Succumbed to FOMO and bought GNR tickets. Remember asking parents to buy GNR Lies album as a young boy because it had boobies inside. 😂',\n",
       "  'Brown eye Broom a cool 73 then to the rescue to clear out some broken window in Wellington @TheACCnz https://t.co/eoYmdswYX5',\n",
       "  'Shout out to Auckland tennis fans who get to sleep in this morning but worth it to watch the 🐐 win #18 #Federer #needcoffee',\n",
       "  '@nickyoung210 Someone had some balls to come up with that 😂',\n",
       "  '@okcthunder Hey guys, are there any more releases coming of the 2016 Christmas day jerseys?',\n",
       "  '@JulieReddish Yeah but curiosity got the better of me!! 👀',\n",
       "  '@JulieReddish I rewound and paused. Not one of my best decisions…',\n",
       "  'Good to see Steve Adams upping the def game since coming back! 4 blks in each game plus a 20-10 in this one. Getting it done big fella!',\n",
       "  'Sure as eggs though I’m bound to jinx it',\n",
       "  'Might get an early night tonight which will be nice #AusOpen',\n",
       "  'There’s a few empty seats at the Aus Open. Latecomers better get in quick, Fed’s up 5-0 already in 13 mins 😳',\n",
       "  'What makes this horse shit weather worse is watching the Aus Open with Melbourne bathed in sunshine 😫 #Summer2017',\n",
       "  '@ThornhillDave So do you want this now for your birthday instead of the Miranda Sex Arse?',\n",
       "  '@ThornhillDave What weatherbomb??! https://t.co/VC93gMCzK5',\n",
       "  'So *someone* thought it was a good idea to tackle the weather bomb this morning… https://t.co/nc34ECgsiA',\n",
       "  'Back to the grind tomorrow. Having successfully only worn them 3 times since Christmas, wearing socks is going to be the biggest shock!',\n",
       "  '@SKYNZ WiFi on iPad Pro &amp; iPad Air. iPhone actually works fine.',\n",
       "  '@SKYNZ Any issues with SKYGO app? Getting this on multiple devices https://t.co/a2xKZZESXp',\n",
       "  '@justin_lester Just tell them you know someone who knows the mayor…',\n",
       "  '@justin_lester Make sure you add the hashtag #NBAVote 😉 @RealStevenAdams',\n",
       "  'Damn. Last 2 points for @RealStevenAdams cost me at the TAB! #NBAVote https://t.co/2RnwfinC8z',\n",
       "  '@Timely Nice! So a walk-in service doesn’t affect rebooking stats?',\n",
       "  '@ThornhillDave You don’t need to see a picture of my stiffy',\n",
       "  '@ThornhillDave Drew a picture… 😂',\n",
       "  'Cards of Humanity with Mum: “What’s a stiffy?”',\n",
       "  '@BR4DY Haha I was wondering perhaps that hotel in Greytowb was putting on a performance…?! 😂',\n",
       "  'Middle of summer &amp; still snow on Mt Ruapehu #climatechange https://t.co/YJgDxEoG7Q',\n",
       "  '@brendontrass Which channel?',\n",
       "  '@ThornhillDave 😮 He’d be exhausted after that…',\n",
       "  'My 2017 will be more interesting to the game but it’s a bit too good 😊 https://t.co/C1TGINztNJ',\n",
       "  '@jptocker Is it as good as your accountant? 😂😂',\n",
       "  '@BrentfromNZ @jessbovey Think they’re closed until Feb due to Reading car park demo',\n",
       "  '@jessbovey Martinborough?',\n",
       "  'Bloody typical. My hay fever always kicks in right at the end of The Notebook…',\n",
       "  'Statue of Liberty Jam! @RealStevenAdams #NBAVote https://t.co/sSZYOHtUxq',\n",
       "  'So took a leaf from the big fella today, checked it twice, nailed it 👌🏽 Adulting ftw https://t.co/N2Nkn6YSre',\n",
       "  '@jessbovey The struggle is real!',\n",
       "  'Just discovered that I put my undies on inside out today. Is it Christmas yet 😫',\n",
       "  \"Keeping fingers crossed that next #KFCAdventCalendar present is that they're moving back to Manners Mall #byecottonon\",\n",
       "  \".@kfcnz Oh all the shades of dark grey once I've wiped my hands on them after demolishing a bucket #KFCAdventCalendar\",\n",
       "  '@jessbovey Take them all to town &amp; give to the Mary Potter Hospice people to wrap for gold coin donation 💁🏻\\u200d♂️',\n",
       "  'Biting the bullet and buying NBA league pass if only so I never have to hear the ESPN 12 days of Christmas ad again 😳',\n",
       "  'Great addon to an awesome event. CBD is buzzing. Starting to feel like Christmas 🎄 https://t.co/66Ij9Fa6QR',\n",
       "  \"@KiwibankNZ Thanks guys. I'll check the postbox this afternoon and if no dice, then I'll get in contact.\",\n",
       "  'I know why you had to @KiwibankNZ but cancelling cc &amp; still waiting a week later for new one is most inconvenient as all cloud subs bouncing',\n",
       "  '@AbbieThornhill @jessbovey 7 inches normally is…',\n",
       "  '@LloydPercival @jptocker @kfcnz They sure do! Or did… https://t.co/Rqlkf6t27h',\n",
       "  \"New leader of National Party will be decided via contest on the Edge singing Mariah's All I Want For Christmas #KeyResigns\",\n",
       "  'Bad news comes in threes... https://t.co/8vpavC3CTw',\n",
       "  'What more can this day throw at us! https://t.co/9tkSNqocYR',\n",
       "  '6th ball of the match, Tubby pulls out the “shot of the match” call. #AUSvNZL @TheACCnz',\n",
       "  \"Looks like Twitter has decided we're swapping two Harvies for an Earl... @TweetingTrace @JayHarvie @AliceCooke3 https://t.co/u9uqYhmCYA\",\n",
       "  '@WhittakersNZ 11 #tweats',\n",
       "  '@jessbovey \"NOTICE: This domain name expired on 11/25/2016 and is pending renewal or deletion.   Renew It Now!\"',\n",
       "  '@nickyoung210 Did you not have a yahoo moment....',\n",
       "  'The TV2 Sunday “Premiere” movie is Mr Deeds. A movie released in 2002….',\n",
       "  '@TashTasticNZ Yeah, it was a torn medial meniscus. Just a minor op though - so they say!',\n",
       "  '@TashTasticNZ It’s both of us!! I’m getting my knee done today as well!',\n",
       "  'Nil by mouth until 4pm starts now. This is gonna be ugly…',\n",
       "  'I must be the only person to ever injure their knee again the night before a knee operation 😩 Here’s hoping both injuries are related!',\n",
       "  'Great innovative idea! https://t.co/gBmePwn7YO',\n",
       "  'Mark Reason take note, this is why Beauden Barrett is starting. Also why you’re not the All Black coach #IREvNZL',\n",
       "  '@LloydPercival Haha! All I see are beards! 🎅🏽',\n",
       "  'Great airline banter. Check out the whole thread. Plus some mad photoshop skills! https://t.co/hFX2Hb4JSj',\n",
       "  'Or is it because there are so many beards in Welly it’s basically Movember all year round? https://t.co/27iZ0Z9m58',\n",
       "  'Taking a break from earthquakes for a mo, so is Movember still a thing? Saw one dirty tache today &amp; it is probably the only one I’ve seen!',\n",
       "  'It’s so frickin embarrassing that Brian Tamaki is a NZer.',\n",
       "  'How does the Queen manage to get a letter sent here in 2 days yet my ASOS order is still \"in transit\" #eqnz',\n",
       "  \"Ok... hands up who else said about 10 mins ago that we hadn't had a strong aftershock for a while #eqnz\",\n",
       "  'Nope nope nope nope! Cmon! We’ve JUST cleaned up my mothers apartment #eqnz',\n",
       "  '@LloydPercival You working with Jipa?!',\n",
       "  'Great, just as we thought the aftershocks had died down and dared to go to bed #eqnz',\n",
       "  '@007GAL oh what?!! #jealous @CookieTimeNZ',\n",
       "  'Breaking out the earthquake snack supplies. I knew we should have bought that bucket of Cookie Time Christmas Cookies today! #eqnz',\n",
       "  '@LloydPercival Every aftershock has us clenching and gritting thinking it will go for longer :/ Hope kids both ok #eqnz',\n",
       "  \"@JayHarvie Lucky you didn't bite into that Camel Grill today then wasn't it! @AbbieThornhill\",\n",
       "  \"@JayHarvie This has been @AbbieThornhill's worse nightmare for the past half hour. She has a turtle head....\",\n",
       "  '@KeithQuinn88 We lost some chinaware up on 14! https://t.co/vQHRn6hW1E',\n",
       "  'Link to keep track of updates https://t.co/7EK3PqpA8m #eqnz',\n",
       "  'Aftershocks are not fun at all #eqnz',\n",
       "  'Thought that was it. 14 floors up and it didn’t seem like it was going to stop shaking. #eqnz',\n",
       "  '@GregSheehanRW I had the same feelings yesterday morning when it was 33-29 (\"it\\'ll be fine\"). Not sure about anything anymore! @ClareCapital',\n",
       "  'Helps if ALB wasn’t presenting the after match for Sky! 😃 https://t.co/7ijhP1WZQA https://t.co/5yT11grsJX',\n",
       "  'Can’t take anything away from Ireland’s performance but shows how important Retallick is to this ABs side #NZLvIRE',\n",
       "  'Pray for @brendontrass https://t.co/gc9x9vjYCY',\n",
       "  'Meanwhile on the other channel 😫😫 #NZLvIRE https://t.co/ZooG12UqPu',\n",
       "  'Ardie onto the wing? #NZLvIRE',\n",
       "  'The Barrett father will be smiling…. #NZLvIRE',\n",
       "  '@JayHarvie ah well. Some days you are like that. You get knocked down. But all you can do is get up again',\n",
       "  '@jessbovey I’m picking girl or boy 👨\\u200d👩\\u200d👧\\u200d👦👨\\u200d👩\\u200d👦\\u200d👦',\n",
       "  '@JulieReddish Albeit slightly illegal!',\n",
       "  'I mean seriously. What kind of world are we living in here?',\n",
       "  \"The big question which stems from this article is why the heck does Hastings have a Carl's Jnr and we don't?!! https://t.co/Dt8bGchH8G\",\n",
       "  'That moment Jesus Shuttlesworth killed my beloved @spurs #rayray https://t.co/OI6INcKEc1',\n",
       "  '@sulufiti They want the free shit!',\n",
       "  'Not gonna get $140m in one hit and will also be taxed but cool story bro. 👍🏽 https://t.co/ClXo3sWZbW',\n",
       "  \"@AbbieThornhill I'll be home in 2 secs...\",\n",
       "  '@AbbieThornhill That is true.',\n",
       "  'As a naturally warm person, this house on Grand Designs sounds like my worst nightmare!! I’d be living in my undies!']]"
      ]
     },
     "execution_count": 24,
     "metadata": {},
     "output_type": "execute_result"
    }
   ],
   "source": [
    "text[0:1]"
   ]
  },
  {
   "cell_type": "markdown",
   "metadata": {},
   "source": [
    "A new empty list `list_of_text` has been defined to store the text for each of the 3600 documents by joining all the sectences in each list of sentences for each document inside the original `text` list by the separator `.` .\n",
    "\n",
    "The `join()` method is used all the list values to join the different list items into a string using the `.` character as the separator for the training and testing data by iterating over all the entries in the text list.\n",
    "\n",
    "We iterate over all the list_zip_ext entries and preprocess the contents one by one and then the pre-processed data is appended into the new list `text`.\n",
    "\n",
    "The `len()` method used to check the number of entries in the `list_of_text` below to check if all the data from the text list has been joined succesfully and appended into the new list."
   ]
  },
  {
   "cell_type": "code",
   "execution_count": 25,
   "metadata": {},
   "outputs": [
    {
     "data": {
      "text/plain": [
       "3600"
      ]
     },
     "execution_count": 25,
     "metadata": {},
     "output_type": "execute_result"
    }
   ],
   "source": [
    "list_of_text = []\n",
    "list_of_text = ['.'.join(x) for x in text]\n",
    "len(list_of_text)"
   ]
  },
  {
   "cell_type": "markdown",
   "metadata": {},
   "source": [
    "## Removal of hyper-links from the text"
   ]
  },
  {
   "cell_type": "markdown",
   "metadata": {},
   "source": [
    "A new empty list `hy_link_rm` has been defined to store the text for each of the 3600 documents after removing the hyper links present in the text by using regex.\n",
    "\n",
    "The `re.sub()` function from the re module is used to replace the substrings defined by the regex pattern with a specified substring.\n",
    "\n",
    "In this case, the regex pattern `r\"http\\S+|www\\S+\"` has been used to find all the hyperlinks in the data.The regex pattern can be explained as follows:\n",
    "\n",
    "`r\"http` is used to matched the http characters literally in a case sensitive manner. Then, `\\S+` matches any non-whitespace character with the `+` indicating that the matches can take place for one to unlimited number of times in a greedy manner for all non white space characters. Then the `www\\S+` matches the www characters literally in a case sensitive manner followed by the \\S+ matching of the non-whitespace characters in a greedy manner one again.\n",
    "\n",
    "Hence, we iterate over all the list_of_text entries and then substitute all occurances of hyperlinks matched by the regex pattern `r\"http\\S+|www\\S+\"` with a blank space `\" \"` for each of the 3600 documents and the substituted strings are then appeneded into the new list `hy_link_rm` after the hyperlinks removal."
   ]
  },
  {
   "cell_type": "code",
   "execution_count": 26,
   "metadata": {},
   "outputs": [],
   "source": [
    "hy_link_rm = []\n",
    "for i in list_of_text:\n",
    "    i = re.sub(r\"http\\S+|www\\S+\",\" \",i)\n",
    "    hy_link_rm.append(i)"
   ]
  },
  {
   "cell_type": "markdown",
   "metadata": {},
   "source": [
    "The `len()` method used to check the number of entries in the `hy_link_rm` list below to check if all the data from the list_of_text list has been succesfully cleaned by removing the hyperlinks and then appended into the new list."
   ]
  },
  {
   "cell_type": "code",
   "execution_count": 27,
   "metadata": {},
   "outputs": [
    {
     "data": {
      "text/plain": [
       "3600"
      ]
     },
     "execution_count": 27,
     "metadata": {},
     "output_type": "execute_result"
    }
   ],
   "source": [
    "len(hy_link_rm)"
   ]
  },
  {
   "cell_type": "markdown",
   "metadata": {},
   "source": [
    "A new list `list_id` has been defined to store all the ids from the data dataframe containing both the training and testing data. Another list `list_of_id` is then created to store the ids obtained along with the `.xml` extension.\n",
    "\n",
    "The `len()` method used to check the number of entries in the `list_of_id` list below to check if the ids from list_id have been succesfully appended with the .xml extension into the new list."
   ]
  },
  {
   "cell_type": "code",
   "execution_count": 28,
   "metadata": {},
   "outputs": [
    {
     "data": {
      "text/plain": [
       "3600"
      ]
     },
     "execution_count": 28,
     "metadata": {},
     "output_type": "execute_result"
    }
   ],
   "source": [
    "list_id=data['id']\n",
    "list_of_id=list(list_id + '.xml')\n",
    "len(list_of_id)"
   ]
  },
  {
   "cell_type": "markdown",
   "metadata": {},
   "source": [
    "## Creating a dictionary with key as document id and the value as the text data"
   ]
  },
  {
   "cell_type": "markdown",
   "metadata": {},
   "source": [
    "An empty dictionary `dic_text` is first defined. For each id entry in the `list_of_id` list, and for each text entry in the `hy_link_rm` list after the removal of hyperlinks a new dictionary is created with the ids acting as they `key` and the cleaned text acting as the corresponding `value`. This dictionary is then used for more efficient pre-processing in the latter steps."
   ]
  },
  {
   "cell_type": "code",
   "execution_count": 29,
   "metadata": {},
   "outputs": [],
   "source": [
    "dic_text = {} \n",
    "for key in list_of_id: \n",
    "    for value in hy_link_rm: \n",
    "        dic_text[key] = value \n",
    "        hy_link_rm.remove(value) \n",
    "        break  "
   ]
  },
  {
   "cell_type": "markdown",
   "metadata": {},
   "source": [
    "The `len()` method used to check the number of entries in the `dic_text` dictionary below to check if the key and values pairs have been succesfully added into the new dictionary for all 3600 documents."
   ]
  },
  {
   "cell_type": "code",
   "execution_count": 30,
   "metadata": {},
   "outputs": [
    {
     "data": {
      "text/plain": [
       "3600"
      ]
     },
     "execution_count": 30,
     "metadata": {},
     "output_type": "execute_result"
    }
   ],
   "source": [
    "len(dic_text)"
   ]
  },
  {
   "cell_type": "markdown",
   "metadata": {},
   "source": [
    "## Text Pre-processing"
   ]
  },
  {
   "cell_type": "markdown",
   "metadata": {},
   "source": [
    "### Tokenization using the RegexTokenizer"
   ]
  },
  {
   "cell_type": "markdown",
   "metadata": {},
   "source": [
    "A new empty list called `tokens` and a new dictionary called `dictionary` have been defined.\n",
    "\n",
    "In order to tokenize the words, we are using the `RegexpTokenizer` which is a tokenizer that splits a string using a regular expression, which matches either the tokens or the separators between tokens.\n",
    "\n",
    "Here, we define are regex pattern as `r'\\w+'` where the `\\w+` matches any word character which is same as `[a-zA-Z0-9_]` with the `+` indicating that the matches can take place for one to unlimited number of times in a greedy manner for all word characters.\n",
    "\n",
    "The `items()` method is used to retun the key-value pairs in the form of a list of tuples. The values are then tokenized."
   ]
  },
  {
   "cell_type": "markdown",
   "metadata": {},
   "source": [
    "These new tokenized values are stored in the form of a list in tokens and then the tokenized list is saved as the value in the new dictionary for the corresponding document id as the key."
   ]
  },
  {
   "cell_type": "code",
   "execution_count": 31,
   "metadata": {},
   "outputs": [],
   "source": [
    "tokens = []\n",
    "dictionary = {}\n",
    "tokenizer = RegexpTokenizer(r'\\w+')                  # matching the tokens \n",
    "for key,value in dic_text.items():\n",
    "    tokens = tokenizer.tokenize(value)                                    # Tokenizing the value \n",
    "    dictionary[key] = tokens "
   ]
  },
  {
   "cell_type": "markdown",
   "metadata": {},
   "source": [
    "The `len()` method used to check the number of entries in the `dictionary` dictionary below to check if the key and values pairs have been succesfully added into the new dictionary for all 3600 documents."
   ]
  },
  {
   "cell_type": "code",
   "execution_count": 32,
   "metadata": {
    "scrolled": true
   },
   "outputs": [
    {
     "data": {
      "text/plain": [
       "3600"
      ]
     },
     "execution_count": 32,
     "metadata": {},
     "output_type": "execute_result"
    }
   ],
   "source": [
    "len(dictionary)"
   ]
  },
  {
   "cell_type": "markdown",
   "metadata": {},
   "source": [
    "### Converting the dictionary values into a list"
   ]
  },
  {
   "cell_type": "markdown",
   "metadata": {},
   "source": [
    "A new empty list called `dic_list` has been defined. We then iterate over all key value pairs in the dictionary\n",
    "\n",
    "The `items()` method is used to retun the key-value pairs in the form of a list of tuples and then the value for each tuple is then appended into the new `dic_list`.\n"
   ]
  },
  {
   "cell_type": "code",
   "execution_count": 33,
   "metadata": {},
   "outputs": [],
   "source": [
    "dic_list=[]\n",
    "for key, value in dictionary.items():\n",
    "    dic_list.append(value)"
   ]
  },
  {
   "cell_type": "markdown",
   "metadata": {},
   "source": [
    "The `len()` method used to check the number of entries in the `dic_list` list below to check if the values from the key-value pairs have been succesfully added into the new list as a list of lists for each of the 3600 documents."
   ]
  },
  {
   "cell_type": "code",
   "execution_count": 34,
   "metadata": {},
   "outputs": [
    {
     "data": {
      "text/plain": [
       "3600"
      ]
     },
     "execution_count": 34,
     "metadata": {},
     "output_type": "execute_result"
    }
   ],
   "source": [
    "len(dic_list)"
   ]
  },
  {
   "cell_type": "markdown",
   "metadata": {},
   "source": [
    "### Removal of Numeric values from the tokens"
   ]
  },
  {
   "cell_type": "markdown",
   "metadata": {},
   "source": [
    "The `isaplha()` method is used to check if the strings consists of only alphabetic characters.\n",
    "\n",
    "We iterate over each list of tokens in the lists present in `dic_list` for each of the 3600 documents. For each `messages` or list in the `dic_list` we check for each token `token` in the `messages` list and check if token is a string consisting of only alphabetic characters. Then if this is true, the `token` is kept in the new `list_messages` list.\n",
    "\n",
    "The `len()` method used to check the number of entries in the `list_messages` list below to check if the removal of non-alphabetic characters have successfully taken place and added into the new list `list_messages` for each of the 3600 documents."
   ]
  },
  {
   "cell_type": "code",
   "execution_count": 36,
   "metadata": {},
   "outputs": [
    {
     "data": {
      "text/plain": [
       "3600"
      ]
     },
     "execution_count": 36,
     "metadata": {},
     "output_type": "execute_result"
    }
   ],
   "source": [
    "list_messages = [[token for token in messages if token.isalpha()]for messages in dic_list]\n",
    "len(list_messages)"
   ]
  },
  {
   "cell_type": "markdown",
   "metadata": {},
   "source": [
    "### Removal of Stopwords"
   ]
  },
  {
   "cell_type": "markdown",
   "metadata": {},
   "source": [
    "`Stopwords` are the English words which do not add much meaning to a sentence. They can safely be ignored without sacrificing the meaning of the sentence. In order to analyze the text data and build the models, these stopwords might not add much value to the meaning of the documents.\n",
    "\n",
    "For text classification, where the text is needed to be classified into various categories, removal of stopwords from the given text helps in focusing more on those words which define the meaning of the text. This also helps in decreasing the dataset size thus reducing the time the model takes to train. It also improves the performance of the model as only the meaningful tokens are left which increase the classification accuracy.\n",
    "\n"
   ]
  },
  {
   "cell_type": "markdown",
   "metadata": {},
   "source": [
    "Here, the `stopwords.words('english')` is used to find the stopwords from the English dictionary and store them in `stop_words`.\n",
    "\n",
    "We iterate over each list of tokens in the lists present in `list_messages` for each of the 3600 documents. For each `messages` or list in the `list_messages` we check for each token `token` in the `messages` list and check if token is not present in `stop_words`.  Then if this is true, the `token` which is not a stopword is kept in the updated `list_messages` list.\n"
   ]
  },
  {
   "cell_type": "code",
   "execution_count": 37,
   "metadata": {},
   "outputs": [],
   "source": [
    "# remove stop words\n",
    "stop_words =stopwords.words('english')\n",
    "list_messages = [[token for token in messages if token not in stop_words] for messages in list_messages]"
   ]
  },
  {
   "cell_type": "markdown",
   "metadata": {},
   "source": [
    "The `len()` method used to check the number of entries in the `list_messages` list below to check if the removal of stopwords have successfully taken place and added into the updated list `list_messages` for each of the 3600 documents."
   ]
  },
  {
   "cell_type": "code",
   "execution_count": 38,
   "metadata": {},
   "outputs": [
    {
     "data": {
      "text/plain": [
       "3600"
      ]
     },
     "execution_count": 38,
     "metadata": {},
     "output_type": "execute_result"
    }
   ],
   "source": [
    "len(list_messages)"
   ]
  },
  {
   "cell_type": "markdown",
   "metadata": {},
   "source": [
    "### Lematization "
   ]
  },
  {
   "cell_type": "markdown",
   "metadata": {},
   "source": [
    "`Lemmatization` is the process of converting words to their base form. It is different from stemming as it considers the context of the words and then converts them to their meaningful base form, whereas stemming only removes the last few characters of the word, which often leads to spelling errors and potrays incorrect meanings. Hence, lemmas are actual words wheras stemming may create non-existant words and we chose to lemmatize our tokens.\n",
    "\n",
    "An instance of the `WordNetLemmatizer()` is created and is then called to lemmatize the tokens passed to it.\n",
    "\n",
    "We iterate over each list of tokens in the lists present in `list_messages` for each of the 3600 documents. For each `messages` or list in the `list_messages` we check for each token `token` in the `messages` list and then lemmatize each token by calling the instance `lemmatizer` of the `WordNetLemmatizer()`. The lemmatized words are then kept in the updated `list_messages` list.\n"
   ]
  },
  {
   "cell_type": "code",
   "execution_count": 39,
   "metadata": {},
   "outputs": [],
   "source": [
    "lemmatizer = WordNetLemmatizer()\n",
    "list_messages = [[lemmatizer.lemmatize(token) for token in messages] for messages in list_messages]"
   ]
  },
  {
   "cell_type": "markdown",
   "metadata": {},
   "source": [
    "The `len()` method used to check the number of entries in the `list_messages` list below to check if the lemmatization of tokens have successfully taken place and added into the updated list `list_messages` for each of the 3600 documents."
   ]
  },
  {
   "cell_type": "code",
   "execution_count": 40,
   "metadata": {},
   "outputs": [
    {
     "data": {
      "text/plain": [
       "3600"
      ]
     },
     "execution_count": 40,
     "metadata": {},
     "output_type": "execute_result"
    }
   ],
   "source": [
    "len(list_messages)"
   ]
  },
  {
   "cell_type": "markdown",
   "metadata": {},
   "source": [
    "### Removal of stop words after Lemmatization"
   ]
  },
  {
   "cell_type": "markdown",
   "metadata": {},
   "source": [
    "We again check for stopwords after lemmatization to cross-check that we haven't missed removing any stop-words that may arise after the words are lemmatized to their base form.\n",
    "The stopwords from the English dictionary `stop_words` that had been stored earlier are again used in this step.\n",
    "\n",
    "We iterate over each list of tokens in the lists present in `list_messages` for each of the 3600 documents. For each `messages` or list in the `list_messages` we check for each token `token` in the `messages` list and check if token is not present in `stop_words`.  Then if this is true, the `token` which is not a stopword is kept in the updated `list_messages` list."
   ]
  },
  {
   "cell_type": "code",
   "execution_count": 41,
   "metadata": {},
   "outputs": [],
   "source": [
    "list_messages = [[token for token in messages if token not in stop_words] for messages in list_messages]"
   ]
  },
  {
   "cell_type": "markdown",
   "metadata": {},
   "source": [
    "The `len()` method used to check the number of entries in the `list_messages` list below to check if the removal of stopwords have successfully taken place and added into the updated list `list_messages` for each of the 3600 documents."
   ]
  },
  {
   "cell_type": "code",
   "execution_count": 42,
   "metadata": {},
   "outputs": [
    {
     "data": {
      "text/plain": [
       "3600"
      ]
     },
     "execution_count": 42,
     "metadata": {},
     "output_type": "execute_result"
    }
   ],
   "source": [
    "len(list_messages)"
   ]
  },
  {
   "cell_type": "markdown",
   "metadata": {},
   "source": [
    "### Creating a new dictionary by combining the two lists of all ids and all text messages\n",
    "\n",
    "The two lists-`list_id` containing the ids of all the documents and `list_messages` containing the pre-processed text messages of all the documents are then stored into a new dictionary with the ids as the keys and the messages as the values.\n",
    "\n",
    "The `dict()` constructor is used to build the dictionary directly from the sequences of key-value pairs. The `zip()` function is used to pair the key and value sequences together before forming the dictionary `dic_final`."
   ]
  },
  {
   "cell_type": "code",
   "execution_count": 43,
   "metadata": {},
   "outputs": [],
   "source": [
    "dic_final=dict(zip(list_id,list_messages))"
   ]
  },
  {
   "cell_type": "markdown",
   "metadata": {},
   "source": [
    "The `len()` method used to check the number of entries in the `dic_final` dictionary below to check if the key and values pairs have been succesfully added into the new dictionary for all 3600 documents."
   ]
  },
  {
   "cell_type": "code",
   "execution_count": 44,
   "metadata": {},
   "outputs": [
    {
     "data": {
      "text/plain": [
       "3600"
      ]
     },
     "execution_count": 44,
     "metadata": {},
     "output_type": "execute_result"
    }
   ],
   "source": [
    "len(dic_final)"
   ]
  },
  {
   "cell_type": "markdown",
   "metadata": {},
   "source": [
    "### Removing the Tokens with the length 1 from the text"
   ]
  },
  {
   "cell_type": "markdown",
   "metadata": {},
   "source": [
    "Words of a single character having length one do not add much meaning into a sentence. They can be safely ignored without sacrificing the meaning of the sentences. Hence, in order to analyze the text and build the models, these won't add much value for the meaning of the documents and would help us in focusing more on those words that define the meaning of the text by also decreasing the dataset size and reducing the time taken for training the models. It also improves the performance of the model as only the meaningful tokens are left which increase the classification accuracy."
   ]
  },
  {
   "cell_type": "markdown",
   "metadata": {},
   "source": [
    "The `items()` method is used to retun the key-value pairs in the form of a list of tuples. For eah token in the values for each key, if the length of the token is greater than 1, it is stored in the `dic_final` dictionary otherwise it is removed."
   ]
  },
  {
   "cell_type": "code",
   "execution_count": 45,
   "metadata": {},
   "outputs": [],
   "source": [
    "for key,value in dic_final.items():\n",
    "    dic_final[key]=[j for j in value if len(j)>1] "
   ]
  },
  {
   "cell_type": "markdown",
   "metadata": {},
   "source": [
    "The `len()` method used to check the number of entries in the `dic_final` dictionary below to check if the key and values pairs have been succesfully added into the new dictionary for all 3600 documents."
   ]
  },
  {
   "cell_type": "code",
   "execution_count": 46,
   "metadata": {
    "scrolled": true
   },
   "outputs": [
    {
     "data": {
      "text/plain": [
       "3600"
      ]
     },
     "execution_count": 46,
     "metadata": {},
     "output_type": "execute_result"
    }
   ],
   "source": [
    "len(dic_final)"
   ]
  },
  {
   "cell_type": "markdown",
   "metadata": {},
   "source": [
    "This `dic_final` is the final dictionary we have obtained after the text-preprocessing tasks have been carried out where the keys represent the document ids and the values the pre-processed token lists for each of the documents."
   ]
  },
  {
   "cell_type": "markdown",
   "metadata": {},
   "source": [
    "## Converting the train and test dataframes into lists"
   ]
  },
  {
   "cell_type": "markdown",
   "metadata": {},
   "source": [
    "The id columns for the train and testing dataframes from the data provided are converted into list form.\n",
    "\n",
    "The `len()` method used to check the number of entries in both the lists below to check if the the length of each is in accorance to the data provided i.e., the training data consists of 3100 entries and the testing data consists of 500 entries."
   ]
  },
  {
   "cell_type": "code",
   "execution_count": 47,
   "metadata": {},
   "outputs": [
    {
     "data": {
      "text/plain": [
       "3100"
      ]
     },
     "execution_count": 47,
     "metadata": {},
     "output_type": "execute_result"
    }
   ],
   "source": [
    "train_data_id=data_train['id'].tolist()\n",
    "len(train_data_id)"
   ]
  },
  {
   "cell_type": "code",
   "execution_count": 48,
   "metadata": {},
   "outputs": [
    {
     "data": {
      "text/plain": [
       "500"
      ]
     },
     "execution_count": 48,
     "metadata": {},
     "output_type": "execute_result"
    }
   ],
   "source": [
    "test_data_id = data_test['id'].tolist()\n",
    "len(test_data_id)"
   ]
  },
  {
   "cell_type": "markdown",
   "metadata": {},
   "source": [
    "### Creating separate dictionaries for the training and testing data\n",
    "\n",
    "The data from the `dic_final` dictionary which consisted of the pre-processed data values corresponding to all 3600 document id keys is then split into 2 dictionaries for training and testing data according to the keys present in the training data and testing data.\n"
   ]
  },
  {
   "cell_type": "markdown",
   "metadata": {},
   "source": [
    "Two empty dictionaries `dic_train` and `dic_test` are first defined.\n",
    "\n",
    "The `items()` method is used to retun the key-value pairs in the form of a list of tuples for the dictionary `dic_final`.\n",
    "\n",
    "Then for each key in the dictionary, if the key is present in the `train_data_id` list, then the corresponding key and value pairs are stored in the `dic_train` dictionary. Otherwise, the corresponding key and value pairs are stored in the `dic_test` dictionary.\n",
    "\n",
    "These 2 dictionaries are then used in the latter steps."
   ]
  },
  {
   "cell_type": "code",
   "execution_count": 49,
   "metadata": {},
   "outputs": [],
   "source": [
    "dic_train={}\n",
    "dic_test={}\n",
    "for key, value in dic_final.items():\n",
    "    if key in train_data_id:\n",
    "        dic_train[key] = value\n",
    "    else:\n",
    "        dic_test[key] = value"
   ]
  },
  {
   "cell_type": "markdown",
   "metadata": {},
   "source": [
    "The `len()` method used to check the number of entries in both the dictionaries below to check if the key and values pairs have been succesfully added into the new dictionaries in accordance to the data provided i.e., the `dic_train` dictionary consists of 3100 entries and the `dic_test` dictionary consists of 500 entries."
   ]
  },
  {
   "cell_type": "code",
   "execution_count": 50,
   "metadata": {
    "scrolled": true
   },
   "outputs": [
    {
     "data": {
      "text/plain": [
       "3100"
      ]
     },
     "execution_count": 50,
     "metadata": {},
     "output_type": "execute_result"
    }
   ],
   "source": [
    "len(dic_train)"
   ]
  },
  {
   "cell_type": "code",
   "execution_count": 51,
   "metadata": {},
   "outputs": [
    {
     "data": {
      "text/plain": [
       "500"
      ]
     },
     "execution_count": 51,
     "metadata": {},
     "output_type": "execute_result"
    }
   ],
   "source": [
    "len(dic_test)"
   ]
  },
  {
   "cell_type": "markdown",
   "metadata": {},
   "source": [
    "The `values()` method is used to retun the value from the key-value pairs for the dictionary `dic_train` and it is then converted into list using `list()` method for storing it in `list_of_data_train`"
   ]
  },
  {
   "cell_type": "markdown",
   "metadata": {},
   "source": [
    "The `len()` method used to check the number of entries in the list `list_of_data_train` below to check if the the length of \n",
    "the data entries are in accorance to the data provided i.e., the training data consists of 3100 entries."
   ]
  },
  {
   "cell_type": "code",
   "execution_count": 52,
   "metadata": {},
   "outputs": [
    {
     "data": {
      "text/plain": [
       "3100"
      ]
     },
     "execution_count": 52,
     "metadata": {},
     "output_type": "execute_result"
    }
   ],
   "source": [
    "list_of_data_train=list(dic_train.values())\n",
    "len(list_of_data_train)"
   ]
  },
  {
   "cell_type": "markdown",
   "metadata": {},
   "source": [
    "The `values()` method is used to retun the value from the key-value pairs for the dictionary `dic_test` and it is then converted into list using `list()` method for storing it in `list_of_data_test`"
   ]
  },
  {
   "cell_type": "markdown",
   "metadata": {},
   "source": [
    "The `len()` method used to check the number of entries in the list `list_of_data_test` below to check if the the length of \n",
    "the data entries are in accorance to the data provided i.e., the testing data consists of 500 entries."
   ]
  },
  {
   "cell_type": "code",
   "execution_count": 53,
   "metadata": {},
   "outputs": [
    {
     "data": {
      "text/plain": [
       "500"
      ]
     },
     "execution_count": 53,
     "metadata": {},
     "output_type": "execute_result"
    }
   ],
   "source": [
    "list_of_data_test=list(dic_test.values())\n",
    "len(list_of_data_test)"
   ]
  },
  {
   "cell_type": "markdown",
   "metadata": {},
   "source": [
    "### Updating dataframe with pre-processed messages"
   ]
  },
  {
   "cell_type": "markdown",
   "metadata": {},
   "source": [
    "The new updated lists `list_of_data_train` and `list_of_data_test` containing the pre-processed data tokens as lists are then used to add new `messages` columns in the training and testing data frames provided."
   ]
  },
  {
   "cell_type": "code",
   "execution_count": 54,
   "metadata": {},
   "outputs": [],
   "source": [
    "data_train['messages'] = list_of_data_train\n",
    "data_test['messages'] = list_of_data_test"
   ]
  },
  {
   "cell_type": "markdown",
   "metadata": {},
   "source": [
    "The `head()` method is used on the dataframe object `data_train` to display the first 5 rows of the dataset."
   ]
  },
  {
   "cell_type": "code",
   "execution_count": 55,
   "metadata": {
    "scrolled": true
   },
   "outputs": [
    {
     "data": {
      "text/html": [
       "<div>\n",
       "<style scoped>\n",
       "    .dataframe tbody tr th:only-of-type {\n",
       "        vertical-align: middle;\n",
       "    }\n",
       "\n",
       "    .dataframe tbody tr th {\n",
       "        vertical-align: top;\n",
       "    }\n",
       "\n",
       "    .dataframe thead th {\n",
       "        text-align: right;\n",
       "    }\n",
       "</style>\n",
       "<table border=\"1\" class=\"dataframe\">\n",
       "  <thead>\n",
       "    <tr style=\"text-align: right;\">\n",
       "      <th></th>\n",
       "      <th>id</th>\n",
       "      <th>gender</th>\n",
       "      <th>messages</th>\n",
       "    </tr>\n",
       "  </thead>\n",
       "  <tbody>\n",
       "    <tr>\n",
       "      <th>0</th>\n",
       "      <td>d7d392835f50664fc079f0f388e147a0</td>\n",
       "      <td>male</td>\n",
       "      <td>[CSIFERROSCAN, youch, Good, thing, know, Is, s...</td>\n",
       "    </tr>\n",
       "    <tr>\n",
       "      <th>1</th>\n",
       "      <td>ee40b86368137b86f51806c9f105b34b</td>\n",
       "      <td>female</td>\n",
       "      <td>[Donald, Menace, ThanksComey, Return, National...</td>\n",
       "    </tr>\n",
       "    <tr>\n",
       "      <th>2</th>\n",
       "      <td>919bc742d9a22d65eab1f52b11656cab</td>\n",
       "      <td>male</td>\n",
       "      <td>[This, seems, super, sketch, good, true, Is, l...</td>\n",
       "    </tr>\n",
       "    <tr>\n",
       "      <th>3</th>\n",
       "      <td>15b97a08d65f22d97ca685686510b6ae</td>\n",
       "      <td>female</td>\n",
       "      <td>[Just, text, dad, Saturday, night, plan, weste...</td>\n",
       "    </tr>\n",
       "    <tr>\n",
       "      <th>4</th>\n",
       "      <td>affa98421ef5c46ca7c8f246e0a134c1</td>\n",
       "      <td>female</td>\n",
       "      <td>[Irrevocably, love, talented, human, proud, to...</td>\n",
       "    </tr>\n",
       "  </tbody>\n",
       "</table>\n",
       "</div>"
      ],
      "text/plain": [
       "                                 id  gender  \\\n",
       "0  d7d392835f50664fc079f0f388e147a0    male   \n",
       "1  ee40b86368137b86f51806c9f105b34b  female   \n",
       "2  919bc742d9a22d65eab1f52b11656cab    male   \n",
       "3  15b97a08d65f22d97ca685686510b6ae  female   \n",
       "4  affa98421ef5c46ca7c8f246e0a134c1  female   \n",
       "\n",
       "                                            messages  \n",
       "0  [CSIFERROSCAN, youch, Good, thing, know, Is, s...  \n",
       "1  [Donald, Menace, ThanksComey, Return, National...  \n",
       "2  [This, seems, super, sketch, good, true, Is, l...  \n",
       "3  [Just, text, dad, Saturday, night, plan, weste...  \n",
       "4  [Irrevocably, love, talented, human, proud, to...  "
      ]
     },
     "execution_count": 55,
     "metadata": {},
     "output_type": "execute_result"
    }
   ],
   "source": [
    "data_train.head()"
   ]
  },
  {
   "cell_type": "markdown",
   "metadata": {},
   "source": [
    "The `head()` method is used on the dataframe object `data_train` to display the first 5 rows of the dataset."
   ]
  },
  {
   "cell_type": "code",
   "execution_count": 56,
   "metadata": {
    "scrolled": false
   },
   "outputs": [
    {
     "data": {
      "text/html": [
       "<div>\n",
       "<style scoped>\n",
       "    .dataframe tbody tr th:only-of-type {\n",
       "        vertical-align: middle;\n",
       "    }\n",
       "\n",
       "    .dataframe tbody tr th {\n",
       "        vertical-align: top;\n",
       "    }\n",
       "\n",
       "    .dataframe thead th {\n",
       "        text-align: right;\n",
       "    }\n",
       "</style>\n",
       "<table border=\"1\" class=\"dataframe\">\n",
       "  <thead>\n",
       "    <tr style=\"text-align: right;\">\n",
       "      <th></th>\n",
       "      <th>id</th>\n",
       "      <th>gender</th>\n",
       "      <th>language</th>\n",
       "      <th>messages</th>\n",
       "    </tr>\n",
       "  </thead>\n",
       "  <tbody>\n",
       "    <tr>\n",
       "      <th>0</th>\n",
       "      <td>d6b08022cdf758ead05e1c266649c393</td>\n",
       "      <td>NaN</td>\n",
       "      <td>NaN</td>\n",
       "      <td>[JJMSports, odds, stop, whining, go, get, prop...</td>\n",
       "    </tr>\n",
       "    <tr>\n",
       "      <th>1</th>\n",
       "      <td>9a989cb04766d5a89a65e8912d448328</td>\n",
       "      <td>NaN</td>\n",
       "      <td>NaN</td>\n",
       "      <td>[Bingay, cool, handy, tonight, cashmoney, howb...</td>\n",
       "    </tr>\n",
       "    <tr>\n",
       "      <th>2</th>\n",
       "      <td>2a1053a059d58fbafd3e782a8f7972c0</td>\n",
       "      <td>NaN</td>\n",
       "      <td>NaN</td>\n",
       "      <td>[The, cynical, manipulation, voter, desire, ho...</td>\n",
       "    </tr>\n",
       "    <tr>\n",
       "      <th>3</th>\n",
       "      <td>6032537900368aca3d1546bd71ecabd1</td>\n",
       "      <td>NaN</td>\n",
       "      <td>NaN</td>\n",
       "      <td>[cannot, convert, object, Sony, Braavia, happe...</td>\n",
       "    </tr>\n",
       "    <tr>\n",
       "      <th>4</th>\n",
       "      <td>d191280655be8108ec9928398ff5b563</td>\n",
       "      <td>NaN</td>\n",
       "      <td>NaN</td>\n",
       "      <td>[Cat, Is, Kneading, Maniac, Floppycats, Left, ...</td>\n",
       "    </tr>\n",
       "  </tbody>\n",
       "</table>\n",
       "</div>"
      ],
      "text/plain": [
       "                                 id  gender  language  \\\n",
       "0  d6b08022cdf758ead05e1c266649c393     NaN       NaN   \n",
       "1  9a989cb04766d5a89a65e8912d448328     NaN       NaN   \n",
       "2  2a1053a059d58fbafd3e782a8f7972c0     NaN       NaN   \n",
       "3  6032537900368aca3d1546bd71ecabd1     NaN       NaN   \n",
       "4  d191280655be8108ec9928398ff5b563     NaN       NaN   \n",
       "\n",
       "                                            messages  \n",
       "0  [JJMSports, odds, stop, whining, go, get, prop...  \n",
       "1  [Bingay, cool, handy, tonight, cashmoney, howb...  \n",
       "2  [The, cynical, manipulation, voter, desire, ho...  \n",
       "3  [cannot, convert, object, Sony, Braavia, happe...  \n",
       "4  [Cat, Is, Kneading, Maniac, Floppycats, Left, ...  "
      ]
     },
     "execution_count": 56,
     "metadata": {},
     "output_type": "execute_result"
    }
   ],
   "source": [
    "data_test.head()"
   ]
  },
  {
   "cell_type": "markdown",
   "metadata": {},
   "source": [
    "### Flattening the lists of messages tokens\n",
    "\n",
    "The 2 lists `list_of_data_train` and `list_of_data_test` containing the pre-processed data tokens as list of lists are then flattened to form one list of strings and is stored as `list_of_train_data` and `list_of_test_data`, respectively.\n",
    "\n",
    "The `join()` method is used on all the list values `ele` to join the different list items into a string using the ` ` character as the separator for the training and testing data by iterating over all the entries in the text lists."
   ]
  },
  {
   "cell_type": "code",
   "execution_count": 57,
   "metadata": {},
   "outputs": [],
   "source": [
    "list_of_train_data= [' '.join(ele) for ele in list_of_data_train]"
   ]
  },
  {
   "cell_type": "code",
   "execution_count": 58,
   "metadata": {},
   "outputs": [],
   "source": [
    "list_of_test_data= [' '.join(ele) for ele in list_of_data_test]"
   ]
  },
  {
   "cell_type": "markdown",
   "metadata": {},
   "source": [
    "## TfidfVectorizer"
   ]
  },
  {
   "cell_type": "markdown",
   "metadata": {},
   "source": [
    "`Vectorization` is the process of turning collections of text documents into numerical feature vectors which the model can process.  \n",
    "\n",
    "`TfidfVectorizer` is chosen in this case as it considers overall document weightage of words. It weights the word counts on the basis of how often the appear in documents.\n",
    "\n",
    "`Term Frequency` - count of how many times a unique word appears in each document.\n",
    "`Document Frequency` - count of how many times the unique token appears in all documents\n",
    "`Inverse Document Frequency`- measure of how much information a word can provide, i.e., how common or rare the word is when taking all documents into consideration. It is calculated as the logarithmically scaled inverse fraction of the documents that contain the word. \n",
    "\n",
    "In `CountVectorizer` on the other hand, the number of times a word appears in the document is only counted which results in it being biased towards the most frequent words and ignores rare words which could have helped in more efficient processing of data."
   ]
  },
  {
   "cell_type": "markdown",
   "metadata": {},
   "source": [
    "The parameters that can be changed and used are:\n",
    "\n",
    "* `lowercase`- True or False\n",
    "* `min_df`- The minimum document frequency required.\n",
    "* `max_df`- The maximum document frequency required.\n",
    "* `ngram_range`- specify the number of words to consider together to form n-grams. The lower and upper boundary of the range of n-values for different n-grams to be extracted needs to be specified.\n",
    "* `max_features` - The maximum number of features to consider."
   ]
  },
  {
   "cell_type": "markdown",
   "metadata": {},
   "source": [
    "In this case, we are specifying the `lowercase = True`, `max_features=18000` to specify that a maximum of 18000 features are used for the vectorized dictionary, `min_df=3` to state that minimum 3 documents need to have the unique words to include them in the vectorized dictionary, `max_df=0.99` to state that mamimum 99% of the documents can have the unique words to include them in the vectorized dictionary  and `ngram_range=(1,3)` to state that unigrams, bigrams and trigrams are used as features of the vector.\n"
   ]
  },
  {
   "cell_type": "code",
   "execution_count": 59,
   "metadata": {},
   "outputs": [],
   "source": [
    "vectorizer = TfidfVectorizer(analyzer='word',input='content',\n",
    "                             max_features=18000,\n",
    "                             lowercase=True,\n",
    "                             min_df=3,\n",
    "                             max_df = 0.99,\n",
    "                             ngram_range=(1,3))"
   ]
  },
  {
   "cell_type": "markdown",
   "metadata": {},
   "source": [
    "An instance `le` of the `LabelEncoder` is used to encode the target labels with values between 0 and n_classes-1. Since we have only 2 classes here, they are ecoded as 0 (Female) and 1 (Male)\n",
    "\n",
    "The data in the `gender` column for the train and test label data frames are encoded using the instance `le` and then `fit_transform()` method to fit to data and then transform it into the encoded labels."
   ]
  },
  {
   "cell_type": "code",
   "execution_count": 60,
   "metadata": {},
   "outputs": [],
   "source": [
    "le = LabelEncoder()\n",
    "data_train[\"gender\"]= le.fit_transform(data_train[\"gender\"])\n",
    "data_test_label[\"gender\"]= le.fit_transform(data_test_label[\"gender\"])"
   ]
  },
  {
   "cell_type": "markdown",
   "metadata": {},
   "source": [
    "The `fit_transform()` method to fit to the training data and then transform it into the vector form using the TFIDF vectorizer defined. This is stored as the `train_data`. The labels of the genders for the training data is stored as `train_label`.\n",
    "\n"
   ]
  },
  {
   "cell_type": "code",
   "execution_count": 61,
   "metadata": {},
   "outputs": [],
   "source": [
    "train_data = vectorizer.fit_transform(list_of_train_data)\n",
    "train_label = data_train['gender']"
   ]
  },
  {
   "cell_type": "markdown",
   "metadata": {},
   "source": [
    "The `transform()` method to transform the testing data into the vector form using the TFIDF vectorizer defined. This is stored as the `test_data`. The actual labels of the genders for the testing data is stored as `test_label`.\n",
    "\n"
   ]
  },
  {
   "cell_type": "code",
   "execution_count": 62,
   "metadata": {},
   "outputs": [],
   "source": [
    "test_data = vectorizer.transform(list_of_test_data)\n",
    "test_label = data_test_label[\"gender\"]"
   ]
  },
  {
   "cell_type": "markdown",
   "metadata": {},
   "source": [
    "## Classification model"
   ]
  },
  {
   "cell_type": "markdown",
   "metadata": {},
   "source": [
    "`Bagging Classifier` with the base estimater as `Linear Support Vector Classifier` is taken as our final model to classify the text according to the genders of `male` and `female`."
   ]
  },
  {
   "cell_type": "markdown",
   "metadata": {},
   "source": [
    "### Model Training and Validation"
   ]
  },
  {
   "cell_type": "markdown",
   "metadata": {},
   "source": [
    "10 fold cross validation has been carried out on the training data by spliting the dataset into traning data(90%) and validation data (10%) for each iteration with the 10 different folds.\n",
    "The accuracy obtained in each fold is stored in a dataframe called `cv_df`.\n",
    "The accuracies of each of the 10 cross validation steps are calculated using `cross_val_score` and then appended into the `cv_df` dataframe according to the different folds. The dataframe consists of the 3 columns `model_name` (Name of the model), `fold_idx` (fold number for the cross validation performed) and `accuracy` (accuracy obtained for the fold for the model)."
   ]
  },
  {
   "cell_type": "code",
   "execution_count": 63,
   "metadata": {},
   "outputs": [],
   "source": [
    "model = BaggingClassifier(base_estimator=LinearSVC(penalty='l2', \n",
    "                                                   loss='squared_hinge',\n",
    "                                                   dual=True,\n",
    "                                                   tol=0.0001,\n",
    "                                                   C=0.8,\n",
    "                                                   multi_class='ovr',\n",
    "                                                   fit_intercept=True,\n",
    "                                                   intercept_scaling=1,\n",
    "                                                   class_weight=None,\n",
    "                                                   verbose=0,\n",
    "                                                   random_state=None,\n",
    "                                                   max_iter=1500),\n",
    "                          n_estimators = 50, random_state = 7, bootstrap=True, bootstrap_features=False) \n",
    "CV = 10\n",
    "cv_df = pd.DataFrame(index=range(CV))\n",
    "entries = []\n",
    "\n",
    "model_name = model.__class__.__name__\n",
    "accuracies = cross_val_score(model, train_data, train_label, scoring='accuracy', cv=CV)\n",
    "for fold_idx, accuracy in enumerate(accuracies):\n",
    "    entries.append((model_name, fold_idx, accuracy))\n",
    "cv_df = pd.DataFrame(entries, columns=['model_name', 'fold_idx', 'accuracy'])"
   ]
  },
  {
   "cell_type": "markdown",
   "metadata": {},
   "source": [
    "A boxplot has been plotted for the accuracies obtained for each fold for the 10 fold cross validation of the classifier."
   ]
  },
  {
   "cell_type": "code",
   "execution_count": 64,
   "metadata": {},
   "outputs": [
    {
     "data": {
      "image/png": "[encoded data removed]",
      "text/plain": [
       "<Figure size 432x288 with 1 Axes>"
      ]
     },
     "metadata": {
      "needs_background": "light"
     },
     "output_type": "display_data"
    }
   ],
   "source": [
    "\n",
    "sns.boxplot(x='model_name', y='accuracy', data=cv_df)\n",
    "sns.stripplot(x='model_name', y='accuracy', data=cv_df, \n",
    "              size=8, jitter=True, edgecolor=\"gray\", linewidth=2)\n",
    "plt.show()"
   ]
  },
  {
   "cell_type": "markdown",
   "metadata": {},
   "source": [
    "Hence, it can be observed that the model performs quite well on the train validation split data with a median value of around 80% accuracy."
   ]
  },
  {
   "cell_type": "markdown",
   "metadata": {},
   "source": [
    "### Training the Complete Model"
   ]
  },
  {
   "cell_type": "markdown",
   "metadata": {},
   "source": [
    "The model is then trained on the entire training data. The `fit()` arguement is used to fit the data on the train_data and train_label values."
   ]
  },
  {
   "cell_type": "markdown",
   "metadata": {},
   "source": [
    "Model Parameters:\n",
    "-\tThe `penalty` is the regularization term added to the loss function to prevent overfitting. We have used `l2` Ridge regression which reduces the weights of the less important feature vectors.\n",
    "\n",
    "- `Square hinge` is used when we only want to make binary decisions. We have Square hinge as the `loss functio`n as we are only interested to know if the author is male or female, rather than studying the classification probability, i.e., the probability that the author is male or female.\n",
    "\n",
    "- The parameter `Dual` is used to specify whether to perform dual or primal optimization. Dual is set to True as the number of features in our dataset outweighs the number of samples.\n",
    "\n",
    "- The `tol` parameter is used to choose the tolerance for stopping parameter, which is set to 0.0001.\n",
    "\t\n",
    "- `C` is the regularization parameter which has been set at 0.8. This is inversely proportional to the amount of regularization.\n",
    "\n",
    "- `Max_iter` sets the number of iterations to be run. Fit_intercept is used to choose whether or not to calculate the intercept for the model. Its default value is True and is set to False only if the data is known to be centered. Intercept_scaling may be used to adjust the effect of regularization. Its default value is 1 and may be increased to reduce the effect of regularization.\n"
   ]
  },
  {
   "cell_type": "code",
   "execution_count": 65,
   "metadata": {},
   "outputs": [
    {
     "data": {
      "text/plain": [
       "BaggingClassifier(base_estimator=LinearSVC(C=0.8, class_weight=None, dual=True,\n",
       "                                           fit_intercept=True,\n",
       "                                           intercept_scaling=1,\n",
       "                                           loss='squared_hinge', max_iter=1500,\n",
       "                                           multi_class='ovr', penalty='l2',\n",
       "                                           random_state=None, tol=0.0001,\n",
       "                                           verbose=0),\n",
       "                  bootstrap=True, bootstrap_features=False, max_features=1.0,\n",
       "                  max_samples=1.0, n_estimators=50, n_jobs=None,\n",
       "                  oob_score=False, random_state=7, verbose=0, warm_start=False)"
      ]
     },
     "execution_count": 65,
     "metadata": {},
     "output_type": "execute_result"
    }
   ],
   "source": [
    "BC_SVC = BaggingClassifier(base_estimator=LinearSVC(penalty='l2', loss='squared_hinge', dual=True, tol=0.0001, C=0.8, multi_class='ovr', fit_intercept=True, intercept_scaling=1, class_weight=None, verbose=0, random_state=None, max_iter=1500), n_estimators = 50, random_state = 7, bootstrap=True, bootstrap_features=False) \n",
    "BC_SVC.fit(train_data, train_label)"
   ]
  },
  {
   "cell_type": "markdown",
   "metadata": {},
   "source": [
    "### Testing and predicting the accuracy of the model"
   ]
  },
  {
   "cell_type": "markdown",
   "metadata": {},
   "source": [
    "The `predict()` arguement is then used to predict the labels for the test_data by using the model fitted on the training data set. The Testing accuracy score for the model is then calculated using `accuracy_score()` by comparing the predicted values to the actual test labels and is then printed."
   ]
  },
  {
   "cell_type": "code",
   "execution_count": 66,
   "metadata": {
    "scrolled": true
   },
   "outputs": [
    {
     "name": "stdout",
     "output_type": "stream",
     "text": [
      "Testing accuracy score for the model is: 82.0 %\n"
     ]
    }
   ],
   "source": [
    "BC_SVC_predicted = BC_SVC.predict(test_data)\n",
    "print(\"Testing accuracy score for the model is:\",accuracy_score(test_label, BC_SVC_predicted)*100,'%')"
   ]
  },
  {
   "cell_type": "markdown",
   "metadata": {},
   "source": [
    "The confusion matrix for the predicted labels on comparing with the actual labels has also been found."
   ]
  },
  {
   "cell_type": "code",
   "execution_count": 69,
   "metadata": {},
   "outputs": [],
   "source": [
    "BC_con = metrics.confusion_matrix(test_label, BC_SVC_predicted)"
   ]
  },
  {
   "cell_type": "markdown",
   "metadata": {},
   "source": [
    "The confusion matrix has been plotted below showing the number of correct classification and incorrect classifications for each gender class."
   ]
  },
  {
   "cell_type": "code",
   "execution_count": 70,
   "metadata": {},
   "outputs": [
    {
     "data": {
      "image/png": "[encoded data removed]",
      "text/plain": [
       "<Figure size 648x648 with 2 Axes>"
      ]
     },
     "metadata": {
      "needs_background": "light"
     },
     "output_type": "display_data"
    }
   ],
   "source": [
    "plt.figure(figsize=(9,9))\n",
    "sns.heatmap(BC_con, annot=True, fmt=\".3f\", linewidths=.5, square = True, cmap = 'Blues_r');\n",
    "plt.ylabel('Actual label');\n",
    "plt.xlabel('Predicted label');\n",
    "all_sample_title = 'Accuracy Score: {0}'.format(accuracy_score)\n",
    "plt.title(all_sample_title, size = 15);\n",
    "plt.show()"
   ]
  },
  {
   "cell_type": "markdown",
   "metadata": {},
   "source": [
    "Hence, we can see that 210 female i.e., 0 and 200 male i.e., 1 class labels had been corrected classified by using this classifier."
   ]
  },
  {
   "cell_type": "markdown",
   "metadata": {},
   "source": [
    "A copy of the test data set called `new_test` is made to store the new predicted labels in order of id."
   ]
  },
  {
   "cell_type": "code",
   "execution_count": 71,
   "metadata": {},
   "outputs": [],
   "source": [
    "new_test = data_test.copy()"
   ]
  },
  {
   "cell_type": "markdown",
   "metadata": {},
   "source": [
    "The label values in the `gender` column are replaced by the new predicted labels found by the model."
   ]
  },
  {
   "cell_type": "code",
   "execution_count": 72,
   "metadata": {},
   "outputs": [],
   "source": [
    "new_test['gender'] = BC_SVC_predicted"
   ]
  },
  {
   "cell_type": "markdown",
   "metadata": {},
   "source": [
    "The columns `language` and `messages` are not required for the final output and hence are dropped from the data frame."
   ]
  },
  {
   "cell_type": "code",
   "execution_count": 73,
   "metadata": {
    "scrolled": true
   },
   "outputs": [],
   "source": [
    "new_test.drop(columns = ['language', 'messages'], inplace = True)"
   ]
  },
  {
   "cell_type": "markdown",
   "metadata": {},
   "source": [
    "The `gender` label values that had previously been encoded from `male to 1` and `female to 0` are again changed into the original form."
   ]
  },
  {
   "cell_type": "code",
   "execution_count": 74,
   "metadata": {},
   "outputs": [],
   "source": [
    "new_test['gender'].replace([0,1],['female','male'],inplace=True)"
   ]
  },
  {
   "cell_type": "markdown",
   "metadata": {},
   "source": [
    "The `head()` method is used on the dataframe object `new_test` to display the first 5 rows of the final predicted output."
   ]
  },
  {
   "cell_type": "code",
   "execution_count": 75,
   "metadata": {
    "scrolled": true
   },
   "outputs": [
    {
     "data": {
      "text/html": [
       "<div>\n",
       "<style scoped>\n",
       "    .dataframe tbody tr th:only-of-type {\n",
       "        vertical-align: middle;\n",
       "    }\n",
       "\n",
       "    .dataframe tbody tr th {\n",
       "        vertical-align: top;\n",
       "    }\n",
       "\n",
       "    .dataframe thead th {\n",
       "        text-align: right;\n",
       "    }\n",
       "</style>\n",
       "<table border=\"1\" class=\"dataframe\">\n",
       "  <thead>\n",
       "    <tr style=\"text-align: right;\">\n",
       "      <th></th>\n",
       "      <th>id</th>\n",
       "      <th>gender</th>\n",
       "    </tr>\n",
       "  </thead>\n",
       "  <tbody>\n",
       "    <tr>\n",
       "      <th>0</th>\n",
       "      <td>d6b08022cdf758ead05e1c266649c393</td>\n",
       "      <td>male</td>\n",
       "    </tr>\n",
       "    <tr>\n",
       "      <th>1</th>\n",
       "      <td>9a989cb04766d5a89a65e8912d448328</td>\n",
       "      <td>female</td>\n",
       "    </tr>\n",
       "    <tr>\n",
       "      <th>2</th>\n",
       "      <td>2a1053a059d58fbafd3e782a8f7972c0</td>\n",
       "      <td>male</td>\n",
       "    </tr>\n",
       "    <tr>\n",
       "      <th>3</th>\n",
       "      <td>6032537900368aca3d1546bd71ecabd1</td>\n",
       "      <td>male</td>\n",
       "    </tr>\n",
       "    <tr>\n",
       "      <th>4</th>\n",
       "      <td>d191280655be8108ec9928398ff5b563</td>\n",
       "      <td>male</td>\n",
       "    </tr>\n",
       "  </tbody>\n",
       "</table>\n",
       "</div>"
      ],
      "text/plain": [
       "                                 id  gender\n",
       "0  d6b08022cdf758ead05e1c266649c393    male\n",
       "1  9a989cb04766d5a89a65e8912d448328  female\n",
       "2  2a1053a059d58fbafd3e782a8f7972c0    male\n",
       "3  6032537900368aca3d1546bd71ecabd1    male\n",
       "4  d191280655be8108ec9928398ff5b563    male"
      ]
     },
     "execution_count": 75,
     "metadata": {},
     "output_type": "execute_result"
    }
   ],
   "source": [
    "new_test.head()"
   ]
  },
  {
   "cell_type": "markdown",
   "metadata": {},
   "source": [
    "The dataframe with these predicted labels are then converted into csv format as `pred_labels.csv` using the `to_csv()` function and without the row index values."
   ]
  },
  {
   "cell_type": "code",
   "execution_count": 76,
   "metadata": {},
   "outputs": [],
   "source": [
    "new_test.to_csv(\"pred_labels.csv\", index = False)"
   ]
  },
  {
   "cell_type": "markdown",
   "metadata": {},
   "source": [
    "# Conclusion\n",
    "\n",
    "\n",
    "The authorship analysis of twitter text data has been carried out to classify the gender ( male or female) of the text authors by using TF-IDF feature selection and the Linear Support Vector Classification (LinearSVC) along with the Bagging Classifier. The accuracy obtained from the Bagging Classifier with the base estimator as LinearSVC on the entire testing data was found to be `82%`."
   ]
  },
  {
   "cell_type": "markdown",
   "metadata": {},
   "source": []
  },
  {
   "cell_type": "markdown",
   "metadata": {},
   "source": []
  }
 ],
 "metadata": {
  "kernelspec": {
   "display_name": "Python 3",
   "language": "python",
   "name": "python3"
  },
  "language_info": {
   "codemirror_mode": {
    "name": "ipython",
    "version": 3
   },
   "file_extension": ".py",
   "mimetype": "text/x-python",
   "name": "python",
   "nbconvert_exporter": "python",
   "pygments_lexer": "ipython3",
   "version": "3.7.3"
  }
 },
 "nbformat": 4,
 "nbformat_minor": 2
}
