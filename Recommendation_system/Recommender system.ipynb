{
 "cells": [
  {
   "cell_type": "markdown",
   "metadata": {},
   "source": [
    "# Part A \n",
    "# Recommender System Challenge"
   ]
  },
  {
   "cell_type": "code",
   "execution_count": null,
   "metadata": {},
   "outputs": [],
   "source": [
    "import implicit\n",
    "from sklearn.preprocessing import MinMaxScaler\n",
    "from sklearn import metrics\n",
    "import scipy.sparse as sparse\n",
    "import pandas as pd\n",
    "import numpy as np\n",
    "import itertools\n",
    "from surprise import accuracy\n",
    "from collections import defaultdict\n",
    "from scipy.sparse.linalg import spsolve"
   ]
  },
  {
   "cell_type": "code",
   "execution_count": null,
   "metadata": {},
   "outputs": [],
   "source": [
    "Train_data = pd.read_csv(\"train_data.csv\")\n",
    "Test_data = pd.read_csv(\"test_data.csv\")\n",
    "Validation_data = pd.read_csv(\"validation_data.csv\")\n",
    "data = pd.concat([Train_data, Validation_data])"
   ]
  },
  {
   "cell_type": "code",
   "execution_count": null,
   "metadata": {},
   "outputs": [],
   "source": [
    "sparse_Train_user_item = sparse.csr_matrix((data['rating'].astype(float),\n",
    "                                            (data['user_id'], data['item_id'])))"
   ]
  },
  {
   "cell_type": "code",
   "execution_count": null,
   "metadata": {},
   "outputs": [],
   "source": [
    "sparse_Train_item_user = sparse.csr_matrix((data['rating'].astype(float), \n",
    "                                       (data['item_id'], data['user_id'])))"
   ]
  },
  {
   "cell_type": "code",
   "execution_count": null,
   "metadata": {},
   "outputs": [],
   "source": [
    "#fit the model\n",
    "model_1 = implicit.als.AlternatingLeastSquares(factors=10, regularization=3.5, iterations=800)\n",
    "alpha = 20 #The rate in which we'll increase our confide nce in a preference with more interactions.\n",
    "data_sparse = (sparse_Train_item_user* alpha).astype('double')\n",
    "model_1.fit(data_sparse)"
   ]
  },
  {
   "cell_type": "code",
   "execution_count": null,
   "metadata": {},
   "outputs": [],
   "source": [
    "user_id  = 0\n",
    "recommended = model_1.recommend(user_id, sparse_Train_user_item,N=11)\n",
    "print(recommended)"
   ]
  },
  {
   "cell_type": "code",
   "execution_count": null,
   "metadata": {},
   "outputs": [],
   "source": [
    "test_user_ids = list(Test_data['user_id'].unique())"
   ]
  },
  {
   "cell_type": "code",
   "execution_count": null,
   "metadata": {},
   "outputs": [],
   "source": [
    "dict1 = {}\n",
    "\n",
    "for x in test_user_ids:\n",
    "    item=[]\n",
    "    rec = model_1.recommend(x, sparse_Train_user_item, N = 2174)\n",
    "    for j in rec:\n",
    "        if j[0] in list(Test_data[Test_data['user_id']== x]['item_id']):\n",
    "            item.append(j[0])\n",
    "    dict1[x] = item "
   ]
  },
  {
   "cell_type": "code",
   "execution_count": null,
   "metadata": {},
   "outputs": [],
   "source": [
    "list_val=[]\n",
    "for val in dict1:\n",
    "    dict1[val] = dict1[val][:10]"
   ]
  },
  {
   "cell_type": "code",
   "execution_count": null,
   "metadata": {},
   "outputs": [],
   "source": [
    "dict1[0]"
   ]
  },
  {
   "cell_type": "code",
   "execution_count": null,
   "metadata": {},
   "outputs": [],
   "source": [
    "data_dict = pd.DataFrame(columns=['user_id', 'item_id'])\n",
    "for key,value in dict1.items():\n",
    "    dict_data = dict1[key]\n",
    "    for i in dict_data:\n",
    "        data_dict = data_dict.append({'user_id': key, 'item_id': i}, ignore_index = True)"
   ]
  },
  {
   "cell_type": "code",
   "execution_count": null,
   "metadata": {},
   "outputs": [],
   "source": [
    "data_dict.head()"
   ]
  },
  {
   "cell_type": "code",
   "execution_count": null,
   "metadata": {},
   "outputs": [],
   "source": [
    "data_dict.to_csv(\"Recommendation_system-1996_new.csv\", index= False)"
   ]
  },
  {
   "cell_type": "markdown",
   "metadata": {},
   "source": [
    "# do uncomment when to run"
   ]
  },
  {
   "cell_type": "markdown",
   "metadata": {},
   "source": [
    "# Model Bpr"
   ]
  },
  {
   "cell_type": "code",
   "execution_count": null,
   "metadata": {},
   "outputs": [],
   "source": [
    "# #fit the model\n",
    "# model_bpr = implicit.als.AlternatingLeastSquares(factors=10, regularization=3.5, iterations=50)\n",
    "# alpha = 20 #The rate in which we'll increase our confidence in a preference with more interactions.\n",
    "# data_sparse_bpr = (sparse_Train_item_user* alpha).astype('double')\n",
    "# model_bpr.fit(data_sparse_bpr)"
   ]
  },
  {
   "cell_type": "code",
   "execution_count": null,
   "metadata": {},
   "outputs": [],
   "source": [
    "# dict_bpr = {}\n",
    "\n",
    "# for x in test_user_ids:\n",
    "#     item_bpr=[]\n",
    "#     rec_bpr = model_bpr.recommend(x, sparse_Train_user_item, N = 2174)\n",
    "#     for j in rec_bpr:\n",
    "#         if j[0] in list(Test_data[Test_data['user_id']== x]['item_id']):\n",
    "#             item_bpr.append(j[0])\n",
    "#     dict_bpr[x] = item_bpr"
   ]
  },
  {
   "cell_type": "code",
   "execution_count": null,
   "metadata": {},
   "outputs": [],
   "source": [
    "# list_val=[]\n",
    "# for val in dict_bpr:\n",
    "#     dict_bpr[val] = dict_bpr[val][:10]"
   ]
  },
  {
   "cell_type": "code",
   "execution_count": null,
   "metadata": {},
   "outputs": [],
   "source": [
    "# dict_data_frame = pd.DataFrame(columns=['user_id', 'item_id'])\n",
    "# for key,value in dict_bpr.items():\n",
    "#     dict_data_bpr_d = dict_bpr[key]\n",
    "#     for i in dict_data_bpr_d:\n",
    "#         dict_data_frame = dict_data_frame.append({'user_id': key, 'item_id': i}, ignore_index = True)"
   ]
  },
  {
   "cell_type": "code",
   "execution_count": null,
   "metadata": {},
   "outputs": [],
   "source": [
    "# dict_data_frame.to_csv(\"Recommendation_system-bpr_new.csv\", index= False)"
   ]
  },
  {
   "cell_type": "markdown",
   "metadata": {},
   "source": [
    "# Model LMF"
   ]
  },
  {
   "cell_type": "code",
   "execution_count": null,
   "metadata": {},
   "outputs": [],
   "source": [
    "# #fit the model\n",
    "# model_lmf = implicit.lmf.LogisticMatrixFactorization(factors=10, regularization=3.5, iterations=50)\n",
    "# alpha = 20 #The rate in which we'll increase our confidence in a preference with more interactions.\n",
    "# data_sparse_lmf = (sparse_Train_item_user* alpha).astype('double')\n",
    "# model_bpr.fit(data_sparse_lmf)"
   ]
  },
  {
   "cell_type": "code",
   "execution_count": null,
   "metadata": {},
   "outputs": [],
   "source": [
    "# dict_lmf = {}\n",
    "\n",
    "# for x in test_user_ids:\n",
    "#     item_lmf=[]\n",
    "#     rec_lmf = model_lmf.recommend(x, sparse_Train_user_item, N = 2174)\n",
    "#     for j in rec_lmf:\n",
    "#         if j[0] in list(Test_data[Test_data['user_id']== x]['item_id']):\n",
    "#             item_lmf.append(j[0])\n",
    "#     dict_bpr[x] = item_lmf"
   ]
  },
  {
   "cell_type": "code",
   "execution_count": null,
   "metadata": {},
   "outputs": [],
   "source": [
    "# list_val=[]\n",
    "# for val in dict_lmf:\n",
    "#     dict_lmf[val] = dict_lmf[val][:10]"
   ]
  },
  {
   "cell_type": "code",
   "execution_count": null,
   "metadata": {},
   "outputs": [],
   "source": [
    "# data_dict_lmf = pd.DataFrame(columns=['user_id', 'item_id'])\n",
    "# for key,value in dict_lmf.items():\n",
    "#     dict_data_lmf_d = dict_lmf[key]\n",
    "#     for i in dict_data_lmf_d:\n",
    "#         data_dict_lmf = data_dict_lmf.append({'user_id': key, 'item_id': i}, ignore_index = True)"
   ]
  },
  {
   "cell_type": "code",
   "execution_count": null,
   "metadata": {},
   "outputs": [],
   "source": [
    "# dict_data_lmf.to_csv(\"Recommendation_system-lmf_new.csv\", index= False)"
   ]
  },
  {
   "cell_type": "markdown",
   "metadata": {},
   "source": [
    "# Part B \n",
    "# Node Classification of graphs"
   ]
  },
  {
   "cell_type": "code",
   "execution_count": 0,
   "metadata": {
    "colab": {},
    "colab_type": "code",
    "id": "dhC_CrMAOskq"
   },
   "outputs": [],
   "source": [
    "import pandas as pd\n",
    "import numpy as np\n",
    "import networkx as nx"
   ]
  },
  {
   "cell_type": "code",
   "execution_count": 72,
   "metadata": {
    "colab": {
     "base_uri": "https://localhost:8080/",
     "height": 462
    },
    "colab_type": "code",
    "executionInfo": {
     "elapsed": 5580,
     "status": "ok",
     "timestamp": 1591764551941,
     "user": {
      "displayName": "manojrkumar manoj",
      "photoUrl": "https://lh3.googleusercontent.com/a-/AOh14Giz78jjQbySfCx3WXwrl7zWmaceqIU-GYEQAA8Y2Wc=s64",
      "userId": "15589870527357381641"
     },
     "user_tz": -600
    },
    "id": "0x3dFYjqjzHW",
    "outputId": "999aaed2-f9ec-488d-f80c-53374a5e27d3"
   },
   "outputs": [
    {
     "name": "stdout",
     "output_type": "stream",
     "text": [
      "Collecting node2vec\n",
      "  Downloading https://files.pythonhosted.org/packages/c0/da/7f0c49433ef91033e21d523e82be1570074a5d6ab8c74f8771774e9d2fd1/node2vec-0.3.2-py3-none-any.whl\n",
      "Requirement already satisfied: joblib>=0.13.2 in /usr/local/lib/python3.6/dist-packages (from node2vec) (0.15.1)\n",
      "Requirement already satisfied: numpy in /usr/local/lib/python3.6/dist-packages (from node2vec) (1.18.5)\n",
      "Requirement already satisfied: gensim in /usr/local/lib/python3.6/dist-packages (from node2vec) (3.6.0)\n",
      "Requirement already satisfied: networkx in /usr/local/lib/python3.6/dist-packages (from node2vec) (2.4)\n",
      "Requirement already satisfied: tqdm in /usr/local/lib/python3.6/dist-packages (from node2vec) (4.41.1)\n",
      "Requirement already satisfied: smart-open>=1.2.1 in /usr/local/lib/python3.6/dist-packages (from gensim->node2vec) (2.0.0)\n",
      "Requirement already satisfied: scipy>=0.18.1 in /usr/local/lib/python3.6/dist-packages (from gensim->node2vec) (1.4.1)\n",
      "Requirement already satisfied: six>=1.5.0 in /usr/local/lib/python3.6/dist-packages (from gensim->node2vec) (1.12.0)\n",
      "Requirement already satisfied: decorator>=4.3.0 in /usr/local/lib/python3.6/dist-packages (from networkx->node2vec) (4.4.2)\n",
      "Requirement already satisfied: boto in /usr/local/lib/python3.6/dist-packages (from smart-open>=1.2.1->gensim->node2vec) (2.49.0)\n",
      "Requirement already satisfied: requests in /usr/local/lib/python3.6/dist-packages (from smart-open>=1.2.1->gensim->node2vec) (2.23.0)\n",
      "Requirement already satisfied: boto3 in /usr/local/lib/python3.6/dist-packages (from smart-open>=1.2.1->gensim->node2vec) (1.13.23)\n",
      "Requirement already satisfied: chardet<4,>=3.0.2 in /usr/local/lib/python3.6/dist-packages (from requests->smart-open>=1.2.1->gensim->node2vec) (3.0.4)\n",
      "Requirement already satisfied: certifi>=2017.4.17 in /usr/local/lib/python3.6/dist-packages (from requests->smart-open>=1.2.1->gensim->node2vec) (2020.4.5.1)\n",
      "Requirement already satisfied: urllib3!=1.25.0,!=1.25.1,<1.26,>=1.21.1 in /usr/local/lib/python3.6/dist-packages (from requests->smart-open>=1.2.1->gensim->node2vec) (1.24.3)\n",
      "Requirement already satisfied: idna<3,>=2.5 in /usr/local/lib/python3.6/dist-packages (from requests->smart-open>=1.2.1->gensim->node2vec) (2.9)\n",
      "Requirement already satisfied: botocore<1.17.0,>=1.16.23 in /usr/local/lib/python3.6/dist-packages (from boto3->smart-open>=1.2.1->gensim->node2vec) (1.16.23)\n",
      "Requirement already satisfied: jmespath<1.0.0,>=0.7.1 in /usr/local/lib/python3.6/dist-packages (from boto3->smart-open>=1.2.1->gensim->node2vec) (0.10.0)\n",
      "Requirement already satisfied: s3transfer<0.4.0,>=0.3.0 in /usr/local/lib/python3.6/dist-packages (from boto3->smart-open>=1.2.1->gensim->node2vec) (0.3.3)\n",
      "Requirement already satisfied: python-dateutil<3.0.0,>=2.1 in /usr/local/lib/python3.6/dist-packages (from botocore<1.17.0,>=1.16.23->boto3->smart-open>=1.2.1->gensim->node2vec) (2.8.1)\n",
      "Requirement already satisfied: docutils<0.16,>=0.10 in /usr/local/lib/python3.6/dist-packages (from botocore<1.17.0,>=1.16.23->boto3->smart-open>=1.2.1->gensim->node2vec) (0.15.2)\n",
      "Installing collected packages: node2vec\n",
      "Successfully installed node2vec-0.3.2\n"
     ]
    }
   ],
   "source": [
    "!pip install node2vec"
   ]
  },
  {
   "cell_type": "code",
   "execution_count": 0,
   "metadata": {
    "colab": {},
    "colab_type": "code",
    "id": "0ylO6HRZPMyr"
   },
   "outputs": [],
   "source": [
    "data_adjcent = pd.read_csv(\"adjedges.txt\", header=None) # reaading trhe data"
   ]
  },
  {
   "cell_type": "code",
   "execution_count": 79,
   "metadata": {
    "colab": {
     "base_uri": "https://localhost:8080/",
     "height": 204
    },
    "colab_type": "code",
    "executionInfo": {
     "elapsed": 799,
     "status": "ok",
     "timestamp": 1591776632647,
     "user": {
      "displayName": "manojrkumar manoj",
      "photoUrl": "https://lh3.googleusercontent.com/a-/AOh14Giz78jjQbySfCx3WXwrl7zWmaceqIU-GYEQAA8Y2Wc=s64",
      "userId": "15589870527357381641"
     },
     "user_tz": -600
    },
    "id": "seW0Ox4fRc17",
    "outputId": "b3e42414-67d6-4829-8df3-fc743115172b"
   },
   "outputs": [
    {
     "data": {
      "text/html": [
       "<div>\n",
       "<style scoped>\n",
       "    .dataframe tbody tr th:only-of-type {\n",
       "        vertical-align: middle;\n",
       "    }\n",
       "\n",
       "    .dataframe tbody tr th {\n",
       "        vertical-align: top;\n",
       "    }\n",
       "\n",
       "    .dataframe thead th {\n",
       "        text-align: right;\n",
       "    }\n",
       "</style>\n",
       "<table border=\"1\" class=\"dataframe\">\n",
       "  <thead>\n",
       "    <tr style=\"text-align: right;\">\n",
       "      <th></th>\n",
       "      <th>0</th>\n",
       "    </tr>\n",
       "  </thead>\n",
       "  <tbody>\n",
       "    <tr>\n",
       "      <th>0</th>\n",
       "      <td>12828558</td>\n",
       "    </tr>\n",
       "    <tr>\n",
       "      <th>1</th>\n",
       "      <td>66779408</td>\n",
       "    </tr>\n",
       "    <tr>\n",
       "      <th>2</th>\n",
       "      <td>38902949 38998399</td>\n",
       "    </tr>\n",
       "    <tr>\n",
       "      <th>3</th>\n",
       "      <td>33450563 26547200</td>\n",
       "    </tr>\n",
       "    <tr>\n",
       "      <th>4</th>\n",
       "      <td>57470294 20968604</td>\n",
       "    </tr>\n",
       "  </tbody>\n",
       "</table>\n",
       "</div>"
      ],
      "text/plain": [
       "                   0\n",
       "0          12828558 \n",
       "1          66779408 \n",
       "2  38902949 38998399\n",
       "3  33450563 26547200\n",
       "4  57470294 20968604"
      ]
     },
     "execution_count": 79,
     "metadata": {
      "tags": []
     },
     "output_type": "execute_result"
    }
   ],
   "source": [
    "data_adjcent.head() "
   ]
  },
  {
   "cell_type": "code",
   "execution_count": 80,
   "metadata": {
    "colab": {
     "base_uri": "https://localhost:8080/",
     "height": 34
    },
    "colab_type": "code",
    "executionInfo": {
     "elapsed": 824,
     "status": "ok",
     "timestamp": 1591776635190,
     "user": {
      "displayName": "manojrkumar manoj",
      "photoUrl": "https://lh3.googleusercontent.com/a-/AOh14Giz78jjQbySfCx3WXwrl7zWmaceqIU-GYEQAA8Y2Wc=s64",
      "userId": "15589870527357381641"
     },
     "user_tz": -600
    },
    "id": "fH_ziO08RmZa",
    "outputId": "cbc4f0eb-b1f0-404e-f349-4c33e10d7e7e"
   },
   "outputs": [
    {
     "data": {
      "text/plain": [
       "18720"
      ]
     },
     "execution_count": 80,
     "metadata": {
      "tags": []
     },
     "output_type": "execute_result"
    }
   ],
   "source": [
    "len(data_adjcent)"
   ]
  },
  {
   "cell_type": "code",
   "execution_count": 0,
   "metadata": {
    "colab": {},
    "colab_type": "code",
    "id": "ys3x8q40Vtiy"
   },
   "outputs": [],
   "source": [
    "df_list = data_adjcent.values.tolist() # converting to list"
   ]
  },
  {
   "cell_type": "code",
   "execution_count": 0,
   "metadata": {
    "colab": {},
    "colab_type": "code",
    "id": "hTP2GVMYW7Xi"
   },
   "outputs": [],
   "source": [
    "data_list = [''.join(x) for x in df_list] # flating the list using .join"
   ]
  },
  {
   "cell_type": "code",
   "execution_count": 0,
   "metadata": {
    "colab": {},
    "colab_type": "code",
    "id": "mdbD7cz2WSP1"
   },
   "outputs": [],
   "source": [
    "dic ={}\n",
    "for i in data_list:\n",
    "  data_list= i.split(\" \")\n",
    "  dic[data_list[0]] = data_list[1:]  # here splitting the data and then storing it in a dictionary"
   ]
  },
  {
   "cell_type": "code",
   "execution_count": 84,
   "metadata": {
    "colab": {
     "base_uri": "https://localhost:8080/",
     "height": 34
    },
    "colab_type": "code",
    "executionInfo": {
     "elapsed": 1031,
     "status": "ok",
     "timestamp": 1591776646632,
     "user": {
      "displayName": "manojrkumar manoj",
      "photoUrl": "https://lh3.googleusercontent.com/a-/AOh14Giz78jjQbySfCx3WXwrl7zWmaceqIU-GYEQAA8Y2Wc=s64",
      "userId": "15589870527357381641"
     },
     "user_tz": -600
    },
    "id": "Xte_CQgyVbPB",
    "outputId": "1c211009-a3d4-4be6-dee6-4bba1c34aeed"
   },
   "outputs": [
    {
     "data": {
      "text/plain": [
       "dict"
      ]
     },
     "execution_count": 84,
     "metadata": {
      "tags": []
     },
     "output_type": "execute_result"
    }
   ],
   "source": [
    "type(dic)"
   ]
  },
  {
   "cell_type": "code",
   "execution_count": 0,
   "metadata": {
    "colab": {},
    "colab_type": "code",
    "id": "FPJWp4ILX8YA"
   },
   "outputs": [],
   "source": [
    "dataFrame_data= pd.DataFrame(columns=['node','edges']) # creating a empty data frame\n",
    "for val in dic:\n",
    "  for k in dic[val]:\n",
    "    dataFrame_data=dataFrame_data.append({'node':val,'edges': k},ignore_index=True) # putting into  a daataframe"
   ]
  },
  {
   "cell_type": "code",
   "execution_count": 86,
   "metadata": {
    "colab": {
     "base_uri": "https://localhost:8080/",
     "height": 419
    },
    "colab_type": "code",
    "executionInfo": {
     "elapsed": 765,
     "status": "ok",
     "timestamp": 1591777112800,
     "user": {
      "displayName": "manojrkumar manoj",
      "photoUrl": "https://lh3.googleusercontent.com/a-/AOh14Giz78jjQbySfCx3WXwrl7zWmaceqIU-GYEQAA8Y2Wc=s64",
      "userId": "15589870527357381641"
     },
     "user_tz": -600
    },
    "id": "lcxo4xO-a87U",
    "outputId": "6e0a001c-12a8-49cb-ba2e-c9c3d99b1fe7"
   },
   "outputs": [
    {
     "data": {
      "text/html": [
       "<div>\n",
       "<style scoped>\n",
       "    .dataframe tbody tr th:only-of-type {\n",
       "        vertical-align: middle;\n",
       "    }\n",
       "\n",
       "    .dataframe tbody tr th {\n",
       "        vertical-align: top;\n",
       "    }\n",
       "\n",
       "    .dataframe thead th {\n",
       "        text-align: right;\n",
       "    }\n",
       "</style>\n",
       "<table border=\"1\" class=\"dataframe\">\n",
       "  <thead>\n",
       "    <tr style=\"text-align: right;\">\n",
       "      <th></th>\n",
       "      <th>node</th>\n",
       "      <th>edges</th>\n",
       "    </tr>\n",
       "  </thead>\n",
       "  <tbody>\n",
       "    <tr>\n",
       "      <th>0</th>\n",
       "      <td>12828558</td>\n",
       "      <td></td>\n",
       "    </tr>\n",
       "    <tr>\n",
       "      <th>1</th>\n",
       "      <td>66779408</td>\n",
       "      <td></td>\n",
       "    </tr>\n",
       "    <tr>\n",
       "      <th>2</th>\n",
       "      <td>38902949</td>\n",
       "      <td>38998399</td>\n",
       "    </tr>\n",
       "    <tr>\n",
       "      <th>3</th>\n",
       "      <td>33450563</td>\n",
       "      <td>26547200</td>\n",
       "    </tr>\n",
       "    <tr>\n",
       "      <th>4</th>\n",
       "      <td>57470294</td>\n",
       "      <td>20968604</td>\n",
       "    </tr>\n",
       "    <tr>\n",
       "      <th>...</th>\n",
       "      <td>...</td>\n",
       "      <td>...</td>\n",
       "    </tr>\n",
       "    <tr>\n",
       "      <th>63436</th>\n",
       "      <td>39790331</td>\n",
       "      <td></td>\n",
       "    </tr>\n",
       "    <tr>\n",
       "      <th>63437</th>\n",
       "      <td>47870669</td>\n",
       "      <td>9406589</td>\n",
       "    </tr>\n",
       "    <tr>\n",
       "      <th>63438</th>\n",
       "      <td>28485685</td>\n",
       "      <td>7495569</td>\n",
       "    </tr>\n",
       "    <tr>\n",
       "      <th>63439</th>\n",
       "      <td>48611755</td>\n",
       "      <td></td>\n",
       "    </tr>\n",
       "    <tr>\n",
       "      <th>63440</th>\n",
       "      <td>24384084</td>\n",
       "      <td></td>\n",
       "    </tr>\n",
       "  </tbody>\n",
       "</table>\n",
       "<p>63441 rows × 2 columns</p>\n",
       "</div>"
      ],
      "text/plain": [
       "           node     edges\n",
       "0      12828558          \n",
       "1      66779408          \n",
       "2      38902949  38998399\n",
       "3      33450563  26547200\n",
       "4      57470294  20968604\n",
       "...         ...       ...\n",
       "63436  39790331          \n",
       "63437  47870669   9406589\n",
       "63438  28485685   7495569\n",
       "63439  48611755          \n",
       "63440  24384084          \n",
       "\n",
       "[63441 rows x 2 columns]"
      ]
     },
     "execution_count": 86,
     "metadata": {
      "tags": []
     },
     "output_type": "execute_result"
    }
   ],
   "source": [
    "dataFrame_data\n"
   ]
  },
  {
   "cell_type": "code",
   "execution_count": 87,
   "metadata": {
    "colab": {
     "base_uri": "https://localhost:8080/",
     "height": 1000
    },
    "colab_type": "code",
    "executionInfo": {
     "elapsed": 681,
     "status": "ok",
     "timestamp": 1591777120757,
     "user": {
      "displayName": "manojrkumar manoj",
      "photoUrl": "https://lh3.googleusercontent.com/a-/AOh14Giz78jjQbySfCx3WXwrl7zWmaceqIU-GYEQAA8Y2Wc=s64",
      "userId": "15589870527357381641"
     },
     "user_tz": -600
    },
    "id": "VcuSP1rucglA",
    "outputId": "64d6a133-654f-454e-fb69-bfdf38a47577"
   },
   "outputs": [
    {
     "data": {
      "text/plain": [
       "[['12828558', ''],\n",
       " ['66779408', ''],\n",
       " ['38902949', '38998399'],\n",
       " ['33450563', '26547200'],\n",
       " ['57470294', '20968604'],\n",
       " ['12016981', ''],\n",
       " ['59453341', ''],\n",
       " ['54791317', '9564967'],\n",
       " ['54791317', '14589786'],\n",
       " ['38124547', ''],\n",
       " ['44569330', ''],\n",
       " ['4289706', '48119811'],\n",
       " ['34733903', ''],\n",
       " ['67315895', '47074959'],\n",
       " ['67315895', '36354718'],\n",
       " ['67315895', '38323242'],\n",
       " ['67315895', '40935482'],\n",
       " ['67315895', '77107975'],\n",
       " ['67315895', '38994139'],\n",
       " ['67315895', '48871207'],\n",
       " ['67315895', '75049959'],\n",
       " ['67315895', '68339148'],\n",
       " ['67315895', '62098573'],\n",
       " ['67315895', '66337421'],\n",
       " ['67315895', '78106693'],\n",
       " ['47899676', ''],\n",
       " ['58164272', ''],\n",
       " ['76914035', ''],\n",
       " ['71555172', ''],\n",
       " ['6909690', '56473434'],\n",
       " ['47982561', '26890304'],\n",
       " ['47982561', '64372150'],\n",
       " ['16864792', '9684893'],\n",
       " ['16864792', '47949816'],\n",
       " ['16864792', '47887794'],\n",
       " ['34534740', '48119811'],\n",
       " ['34534740', '16482894'],\n",
       " ['27917678', '44783549'],\n",
       " ['27917678', '24245729'],\n",
       " ['27917678', '33207680'],\n",
       " ['27917678', '66903997'],\n",
       " ['42441879', ''],\n",
       " ['20060161', ''],\n",
       " ['54709047', '9633322'],\n",
       " ['54709047', '32043684'],\n",
       " ['54709047', '45159388'],\n",
       " ['54709047', '54592233'],\n",
       " ['17112646', '17381885'],\n",
       " ['17112646', '33338932'],\n",
       " ['41499729', ''],\n",
       " ['39772251', ''],\n",
       " ['71431551', ''],\n",
       " ['34646799', ''],\n",
       " ['72286508', '39750483'],\n",
       " ['30054787', '63059055'],\n",
       " ['30054787', '62862974'],\n",
       " ['30054787', '73820982'],\n",
       " ['30054787', '73329207'],\n",
       " ['30054787', '3895304'],\n",
       " ['30054787', '62788245'],\n",
       " ['30054787', '52334001'],\n",
       " ['30054787', '33043298'],\n",
       " ['30054787', '28330077'],\n",
       " ['30054787', '63065670'],\n",
       " ['30054787', '19535575'],\n",
       " ['30054787', '76772526'],\n",
       " ['30054787', '41924527'],\n",
       " ['30054787', '27845256'],\n",
       " ['14960319', ''],\n",
       " ['20894906', ''],\n",
       " ['43560951', '54197146'],\n",
       " ['12233872', ''],\n",
       " ['58790184', '70057386'],\n",
       " ['41345168', '38966407'],\n",
       " ['53029990', ''],\n",
       " ['17009966', '23931260'],\n",
       " ['23095245', ''],\n",
       " ['39006078', ''],\n",
       " ['22637451', ''],\n",
       " ['1418126', '1329161'],\n",
       " ['1418126', '45438437'],\n",
       " ['61597421', ''],\n",
       " ['62350848', ''],\n",
       " ['38208385', ''],\n",
       " ['54562160', ''],\n",
       " ['47946998', ''],\n",
       " ['71174685', ''],\n",
       " ['40035502', ''],\n",
       " ['14982527', ''],\n",
       " ['18559780', '18459291'],\n",
       " ['18559780', '18564228'],\n",
       " ['72501271', '19382220'],\n",
       " ['10048225', '59434204'],\n",
       " ['40080547', ''],\n",
       " ['44483771', '71432789'],\n",
       " ['6209405', ''],\n",
       " ['32265946', ''],\n",
       " ['6636178', '38388952'],\n",
       " ['38419714', '75596722'],\n",
       " ['38419714', '57414839'],\n",
       " ['38419714', '23935236'],\n",
       " ['38419714', '17388721'],\n",
       " ['38419714', '58195006'],\n",
       " ['39765555', ''],\n",
       " ['47903875', '67987969'],\n",
       " ['38908219', ''],\n",
       " ['17144632', ''],\n",
       " ['32405512', '5244580'],\n",
       " ['58264095', '73887338'],\n",
       " ['10592146', '48130019'],\n",
       " ['27757876', ''],\n",
       " ['12204756', ''],\n",
       " ['71425739', ''],\n",
       " ['10706160', ''],\n",
       " ['47972984', ''],\n",
       " ['22492574', ''],\n",
       " ['35921598', ''],\n",
       " ['52837837', '65965087'],\n",
       " ['60341713', '60046126'],\n",
       " ['60341713', '21477869'],\n",
       " ['60341713', '38913188'],\n",
       " ['60341713', '24427908'],\n",
       " ['55648908', '39047603'],\n",
       " ['55648908', '23966739'],\n",
       " ['55648908', '42462247'],\n",
       " ['55648908', '24279253'],\n",
       " ['55648908', '26547200'],\n",
       " ['55648908', '33404747'],\n",
       " ['55648908', '24388931'],\n",
       " ['55648908', '17003474'],\n",
       " ['14875594', ''],\n",
       " ['14875759', ''],\n",
       " ['48678541', '48480134'],\n",
       " ['6479945', ''],\n",
       " ['11546941', '13343751'],\n",
       " ['34805002', ''],\n",
       " ['21894266', ''],\n",
       " ['40202931', ''],\n",
       " ['41120230', ''],\n",
       " ['61653787', ''],\n",
       " ['30370202', ''],\n",
       " ['41315669', ''],\n",
       " ['76250257', ''],\n",
       " ['4122517', ''],\n",
       " ['71522410', ''],\n",
       " ['46924819', '75751275'],\n",
       " ['46924819', '47056311'],\n",
       " ['46924819', '33903836'],\n",
       " ['4925897', ''],\n",
       " ['9653400', ''],\n",
       " ['47608867', ''],\n",
       " ['21909791', ''],\n",
       " ['2910962', ''],\n",
       " ['47689611', ''],\n",
       " ['41333868', ''],\n",
       " ['12851109', ''],\n",
       " ['48010264', ''],\n",
       " ['55708499', ''],\n",
       " ['24354444', ''],\n",
       " ['2558656', ''],\n",
       " ['21092817', ''],\n",
       " ['61641625', ''],\n",
       " ['24294943', ''],\n",
       " ['5665481', '50096270'],\n",
       " ['5665481', '5820242'],\n",
       " ['5665481', '50165841'],\n",
       " ['5665481', '50144491'],\n",
       " ['17664420', ''],\n",
       " ['9513316', '37924409'],\n",
       " ['30173134', ''],\n",
       " ['48513318', ''],\n",
       " ['49244403', ''],\n",
       " ['39795788', ''],\n",
       " ['34757287', ''],\n",
       " ['27583382', ''],\n",
       " ['20157519', ''],\n",
       " ['28456696', '13979317'],\n",
       " ['28456696', '28495772'],\n",
       " ['20376508', ''],\n",
       " ['11695845', ''],\n",
       " ['44299936', ''],\n",
       " ['14882075', '12933854'],\n",
       " ['14788728', '58273579'],\n",
       " ['41209535', ''],\n",
       " ['41151647', ''],\n",
       " ['18445831', ''],\n",
       " ['41343198', ''],\n",
       " ['28577858', ''],\n",
       " ['38798521', ''],\n",
       " ['62371398', '17381885'],\n",
       " ['62371398', '10706382'],\n",
       " ['75995928', '45054432'],\n",
       " ['68358553', ''],\n",
       " ['23722119', ''],\n",
       " ['37857050', ''],\n",
       " ['22529282', ''],\n",
       " ['78122623', ''],\n",
       " ['10466497', ''],\n",
       " ['41164006', ''],\n",
       " ['26454883', ''],\n",
       " ['4970781', ''],\n",
       " ['10390994', ''],\n",
       " ['39879054', '48114713'],\n",
       " ['39879054', '75251938'],\n",
       " ['12627824', ''],\n",
       " ['43166750', ''],\n",
       " ['1066092', ''],\n",
       " ['41336770', ''],\n",
       " ['43039862', ''],\n",
       " ['38797216', ''],\n",
       " ['15016187', '33207680'],\n",
       " ['36780153', ''],\n",
       " ['36643490', ''],\n",
       " ['28737890', ''],\n",
       " ['10307904', ''],\n",
       " ['23868126', ''],\n",
       " ['39972783', ''],\n",
       " ['38937933', '58174272'],\n",
       " ['41496134', ''],\n",
       " ['38827890', ''],\n",
       " ['15247739', ''],\n",
       " ['20899547', '17381885'],\n",
       " ['20899547', '54195161'],\n",
       " ['53023736', ''],\n",
       " ['38764349', ''],\n",
       " ['71415626', ''],\n",
       " ['54917546', ''],\n",
       " ['71439214', ''],\n",
       " ['49436076', ''],\n",
       " ['54992365', ''],\n",
       " ['41304088', '41324761'],\n",
       " ['24304624', ''],\n",
       " ['39719760', ''],\n",
       " ['11415195', ''],\n",
       " ['31604510', ''],\n",
       " ['25962005', ''],\n",
       " ['39777387', '38913188'],\n",
       " ['41291987', ''],\n",
       " ['48288333', '65342808'],\n",
       " ['48288333', '19030169'],\n",
       " ['14772078', ''],\n",
       " ['62516668', '38365510'],\n",
       " ['62516668', '47846726'],\n",
       " ['21941140', ''],\n",
       " ['24772788', ''],\n",
       " ['49327894', '32901249'],\n",
       " ['49327894', '28124223'],\n",
       " ['49327894', '12484883'],\n",
       " ['49327894', '67970819'],\n",
       " ['49327894', '68074136'],\n",
       " ['23940295', ''],\n",
       " ['78051252', '52237589'],\n",
       " ['78051252', '20638218'],\n",
       " ['78051252', '19404397'],\n",
       " ['78051252', '46495393'],\n",
       " ['78051252', '75378824'],\n",
       " ['78051252', '75316565'],\n",
       " ['78051252', '66359362'],\n",
       " ['71640753', '36679873'],\n",
       " ['71640753', '48869488'],\n",
       " ['12810390', ''],\n",
       " ['78304440', ''],\n",
       " ['38454176', '20166414'],\n",
       " ['61149976', ''],\n",
       " ['14771338', ''],\n",
       " ['30347996', '20879532'],\n",
       " ['30347996', '64415468'],\n",
       " ['30347996', '16413154'],\n",
       " ['24063423', ''],\n",
       " ['4752672', ''],\n",
       " ['33246577', '77456662'],\n",
       " ['33246577', '24255044'],\n",
       " ['41619933', ''],\n",
       " ['41646861', '71603297'],\n",
       " ['58220404', ''],\n",
       " ['10101505', ''],\n",
       " ['21125761', ''],\n",
       " ['47975082', '64907113'],\n",
       " ['47975082', '67964144'],\n",
       " ['41134045', ''],\n",
       " ['33217458', ''],\n",
       " ['14891394', ''],\n",
       " ['14729714', ''],\n",
       " ['58295469', ''],\n",
       " ['39982987', ''],\n",
       " ['16889612', ''],\n",
       " ['58388309', '41395142'],\n",
       " ['58388309', '26547200'],\n",
       " ['58388309', '71375217'],\n",
       " ['58388309', '77644666'],\n",
       " ['58388309', '24279253'],\n",
       " ['71378273', ''],\n",
       " ['27746891', ''],\n",
       " ['31534190', '66536758'],\n",
       " ['69118961', '57723463'],\n",
       " ['68373032', ''],\n",
       " ['41411255', ''],\n",
       " ['68225895', ''],\n",
       " ['20980568', ''],\n",
       " ['9496751', '59075664'],\n",
       " ['26565898', '65064479'],\n",
       " ['26565898', '27376840'],\n",
       " ['26565898', '73444014'],\n",
       " ['58557307', '75084009'],\n",
       " ['58557307', '59646986'],\n",
       " ['58557307', '1244120'],\n",
       " ['58557307', '53089955'],\n",
       " ['16864312', ''],\n",
       " ['6037711', ''],\n",
       " ['17171119', '8991519'],\n",
       " ['173889', ''],\n",
       " ['10439370', '46108864'],\n",
       " ['5617161', ''],\n",
       " ['29148119', '17381885'],\n",
       " ['58294066', '14974314'],\n",
       " ['58294066', '71510534'],\n",
       " ['58294066', '38660355'],\n",
       " ['46057239', ''],\n",
       " ['24069155', ''],\n",
       " ['61572401', ''],\n",
       " ['56071758', ''],\n",
       " ['12578252', ''],\n",
       " ['12165989', ''],\n",
       " ['68299079', ''],\n",
       " ['66140144', ''],\n",
       " ['28893614', ''],\n",
       " ['34635686', ''],\n",
       " ['71251765', ''],\n",
       " ['50752517', ''],\n",
       " ['21972954', ''],\n",
       " ['1672961', '75546580'],\n",
       " ['59059111', ''],\n",
       " ['38924375', '47978889'],\n",
       " ['49317707', ''],\n",
       " ['71137680', ''],\n",
       " ['16108347', ''],\n",
       " ['28616654', ''],\n",
       " ['24430361', ''],\n",
       " ['69353883', ''],\n",
       " ['39048535', ''],\n",
       " ['39003766', '68175070'],\n",
       " ['61537477', ''],\n",
       " ['77120777', ''],\n",
       " ['24390096', '16921144'],\n",
       " ['30113491', ''],\n",
       " ['59483832', ''],\n",
       " ['72019098', '49392138'],\n",
       " ['68042128', ''],\n",
       " ['68901967', '41299827'],\n",
       " ['68901967', '56907856'],\n",
       " ['58392932', ''],\n",
       " ['18755216', ''],\n",
       " ['52940064', ''],\n",
       " ['27382572', '20366981'],\n",
       " ['27382572', '24384952'],\n",
       " ['66393674', ''],\n",
       " ['34485235', ''],\n",
       " ['15014594', '9956960'],\n",
       " ['4929958', '33481774'],\n",
       " ['4929958', '38835874'],\n",
       " ['47958938', ''],\n",
       " ['71282186', ''],\n",
       " ['23979720', ''],\n",
       " ['40166660', ''],\n",
       " ['47073715', '41245535'],\n",
       " ['1759342', '55585685'],\n",
       " ['1759342', '43412629'],\n",
       " ['1759342', '59764119'],\n",
       " ['61739905', ''],\n",
       " ['62552337', ''],\n",
       " ['39988416', ''],\n",
       " ['41155604', '58317297'],\n",
       " ['41155604', '37010405'],\n",
       " ['31161813', '44391295'],\n",
       " ['31161813', '63225143'],\n",
       " ['31161813', '77528604'],\n",
       " ['31161813', '48422067'],\n",
       " ['31161813', '77131749'],\n",
       " ['31161813', '4006956'],\n",
       " ['31161813', '35823628'],\n",
       " ['31161813', '52818692'],\n",
       " ['31161813', '50977401'],\n",
       " ['38856210', ''],\n",
       " ['11718927', ''],\n",
       " ['18538685', ''],\n",
       " ['33650615', ''],\n",
       " ['24305544', ''],\n",
       " ['66104530', ''],\n",
       " ['77143630', ''],\n",
       " ['7755678', '26278432'],\n",
       " ['23431945', '8431826'],\n",
       " ['23431945', '43499797'],\n",
       " ['48084177', ''],\n",
       " ['68172232', ''],\n",
       " ['24929027', '37404058'],\n",
       " ['47973358', ''],\n",
       " ['68157888', '37040165'],\n",
       " ['32043684', '14974314'],\n",
       " ['32043684', '23718325'],\n",
       " ['32043684', '28586168'],\n",
       " ['32043684', '33404747'],\n",
       " ['38950127', ''],\n",
       " ['21696827', ''],\n",
       " ['67857807', ''],\n",
       " ['21120101', ''],\n",
       " ['6628255', ''],\n",
       " ['38545472', ''],\n",
       " ['7607033', ''],\n",
       " ['34538987', ''],\n",
       " ['69237364', ''],\n",
       " ['16846973', ''],\n",
       " ['58265390', ''],\n",
       " ['43211472', ''],\n",
       " ['67416370', ''],\n",
       " ['41523113', ''],\n",
       " ['10715981', ''],\n",
       " ['6692256', ''],\n",
       " ['41628667', '71324843'],\n",
       " ['69506486', ''],\n",
       " ['68437247', '31252704'],\n",
       " ['68437247', '24244750'],\n",
       " ['62444762', ''],\n",
       " ['41261282', ''],\n",
       " ['11783496', ''],\n",
       " ['24381181', ''],\n",
       " ['9835099', ''],\n",
       " ['12808129', ''],\n",
       " ['31956150', ''],\n",
       " ['11686379', '2998155'],\n",
       " ['8163785', '41940338'],\n",
       " ['8163785', '8277831'],\n",
       " ['47882750', '71526972'],\n",
       " ['47882750', '28315643'],\n",
       " ['47882750', '71490262'],\n",
       " ['47882750', '48055965'],\n",
       " ['47882750', '33207680'],\n",
       " ['47882750', '66768360'],\n",
       " ['47882750', '58362423'],\n",
       " ['47882750', '14781818'],\n",
       " ['23956993', ''],\n",
       " ['38496230', ''],\n",
       " ['38832438', ''],\n",
       " ['76569872', ''],\n",
       " ['43193462', ''],\n",
       " ['41273776', ''],\n",
       " ['40578486', ''],\n",
       " ['48023609', ''],\n",
       " ['66163292', '43422690'],\n",
       " ['46973934', '43125900'],\n",
       " ['46973934', '34322828'],\n",
       " ['46973934', '16413154'],\n",
       " ['1927922', ''],\n",
       " ['31142879', '42786582'],\n",
       " ['37833861', ''],\n",
       " ['20931265', ''],\n",
       " ['41535039', ''],\n",
       " ['10648670', ''],\n",
       " ['39957493', ''],\n",
       " ['14999062', ''],\n",
       " ['35926213', ''],\n",
       " ['48021246', ''],\n",
       " ['24420113', ''],\n",
       " ['10455461', ''],\n",
       " ['24066961', ''],\n",
       " ['41088230', ''],\n",
       " ['71997781', ''],\n",
       " ['74134188', ''],\n",
       " ['24337290', ''],\n",
       " ['33835248', ''],\n",
       " ['14965504', ''],\n",
       " ['14402931', ''],\n",
       " ['41490200', '31177933'],\n",
       " ['6207388', '48721632'],\n",
       " ['6207388', '41187392'],\n",
       " ['6207388', '41028054'],\n",
       " ['6207388', '61517536'],\n",
       " ['10633811', ''],\n",
       " ['14783772', ''],\n",
       " ['39985569', ''],\n",
       " ['41725313', ''],\n",
       " ['24196018', ''],\n",
       " ['14762137', '33330788'],\n",
       " ['34732837', ''],\n",
       " ['2674219', ''],\n",
       " ['15008773', ''],\n",
       " ['69456069', ''],\n",
       " ['44326112', ''],\n",
       " ['33883329', ''],\n",
       " ['6464062', ''],\n",
       " ['77028800', ''],\n",
       " ['64032454', '77252024'],\n",
       " ['64032454', '75751275'],\n",
       " ['64032454', '72594068'],\n",
       " ['64032454', '33903836'],\n",
       " ['64032454', '60284597'],\n",
       " ['64032454', '45861848'],\n",
       " ['64032454', '60148955'],\n",
       " ['40337167', ''],\n",
       " ['29615978', ''],\n",
       " ['33071446', '32901249'],\n",
       " ['33071446', '33422831'],\n",
       " ['77784775', '68073453'],\n",
       " ['75900959', ''],\n",
       " ['39932592', '41355028'],\n",
       " ['27761735', '3970310'],\n",
       " ['41540672', ''],\n",
       " ['38980142', ''],\n",
       " ['23820527', ''],\n",
       " ['16851438', ''],\n",
       " ['51593907', ''],\n",
       " ['58231008', ''],\n",
       " ['55257031', ''],\n",
       " ['13936588', ''],\n",
       " ['68212704', ''],\n",
       " ['24129823', ''],\n",
       " ['47866510', '23834513'],\n",
       " ['47866510', '48827406'],\n",
       " ['23670828', ''],\n",
       " ['69221753', ''],\n",
       " ['52847233', ''],\n",
       " ['58294008', ''],\n",
       " ['46934107', ''],\n",
       " ['49708116', ''],\n",
       " ['20957475', ''],\n",
       " ['40353168', ''],\n",
       " ['31108320', ''],\n",
       " ['38948715', '37228044'],\n",
       " ['38960613', ''],\n",
       " ['40225243', '69410205'],\n",
       " ['65115729', ''],\n",
       " ['23878679', ''],\n",
       " ['15018469', '17381885'],\n",
       " ['10067253', ''],\n",
       " ['21315475', ''],\n",
       " ['52808930', ''],\n",
       " ['21129437', '24314496'],\n",
       " ['14548300', '55391329'],\n",
       " ['14548300', '61099218'],\n",
       " ['59216111', ''],\n",
       " ['1983199', '49993131'],\n",
       " ['1983199', '16834839'],\n",
       " ['1983199', '4288074'],\n",
       " ['24216621', ''],\n",
       " ['23782849', ''],\n",
       " ['12318084', ''],\n",
       " ['21858752', ''],\n",
       " ['14894633', ''],\n",
       " ['19218387', '56501993'],\n",
       " ['19218387', '5367473'],\n",
       " ['19218387', '63030640'],\n",
       " ['19218387', '67933305'],\n",
       " ['19218387', '77253272'],\n",
       " ['72904083', '71743364'],\n",
       " ['72904083', '7498248'],\n",
       " ['72904083', '27276773'],\n",
       " ['72904083', '70702647'],\n",
       " ['59368914', '58245489'],\n",
       " ['48150566', ''],\n",
       " ['38948950', ''],\n",
       " ['21138457', ''],\n",
       " ['41185283', ''],\n",
       " ['71083907', ''],\n",
       " ['31080932', ''],\n",
       " ['20013571', ''],\n",
       " ['10616097', '17333038'],\n",
       " ['10616097', '9759833'],\n",
       " ['10616097', '71470183'],\n",
       " ['10616097', '43082486'],\n",
       " ['10616097', '16413154'],\n",
       " ['41234969', ''],\n",
       " ['39819644', ''],\n",
       " ['14787934', '41262823'],\n",
       " ['14787934', '77413114'],\n",
       " ['48530851', ''],\n",
       " ['38863377', ''],\n",
       " ['14893477', ''],\n",
       " ['55011716', '21395569'],\n",
       " ['24403971', ''],\n",
       " ['16911523', ''],\n",
       " ['45962482', '61733113'],\n",
       " ['45962482', '61744733'],\n",
       " ['45962482', '61628183'],\n",
       " ['45962482', '61657848'],\n",
       " ['29722141', ''],\n",
       " ['26221140', ''],\n",
       " ['21871717', ''],\n",
       " ['24053479', '50404797'],\n",
       " ['15008394', ''],\n",
       " ['64291781', '36812151'],\n",
       " ['64291781', '40800471'],\n",
       " ['64291781', '58174272'],\n",
       " ['64291781', '19958304'],\n",
       " ['64291781', '71491749'],\n",
       " ['20885536', ''],\n",
       " ['38770686', '9901505'],\n",
       " ['12611772', ''],\n",
       " ['71193866', '21042288'],\n",
       " ['38067058', ''],\n",
       " ['21450194', ''],\n",
       " ['14984613', ''],\n",
       " ['28567899', '28546088'],\n",
       " ['28567899', '14868113'],\n",
       " ['28567899', '32000382'],\n",
       " ['28567899', '27265838'],\n",
       " ['28567899', '28848143'],\n",
       " ['6633898', ''],\n",
       " ['43202820', ''],\n",
       " ['48131695', ''],\n",
       " ['71486071', '30812052'],\n",
       " ['21014411', ''],\n",
       " ['47972313', ''],\n",
       " ['44615427', ''],\n",
       " ['67586613', ''],\n",
       " ['30214918', ''],\n",
       " ['9619870', '4740852'],\n",
       " ['61722493', ''],\n",
       " ['41179412', ''],\n",
       " ['71351592', '74036585'],\n",
       " ['5311446', ''],\n",
       " ['42737328', ''],\n",
       " ['62493828', '36679873'],\n",
       " ['43679269', ''],\n",
       " ['1697036', ''],\n",
       " ['21817641', ''],\n",
       " ['21085558', ''],\n",
       " ['21746157', ''],\n",
       " ['56075629', ''],\n",
       " ['6517968', ''],\n",
       " ['5215266', ''],\n",
       " ['41353835', '38815305'],\n",
       " ['41353835', '24403873'],\n",
       " ['58378272', ''],\n",
       " ['38357100', ''],\n",
       " ['54965102', ''],\n",
       " ['14941916', ''],\n",
       " ['61702258', ''],\n",
       " ['21165365', ''],\n",
       " ['8181729', ''],\n",
       " ['23850903', ''],\n",
       " ['74970707', ''],\n",
       " ['24660028', '77788902'],\n",
       " ['2900378', ''],\n",
       " ['43772312', '65342808'],\n",
       " ['43772312', '22668859'],\n",
       " ['43772312', '109145'],\n",
       " ['14952535', ''],\n",
       " ['24244122', '23507092'],\n",
       " ['24244122', '23816604'],\n",
       " ['24244122', '62248527'],\n",
       " ['46078226', ''],\n",
       " ['49314769', ''],\n",
       " ['34450948', ''],\n",
       " ['42607508', ''],\n",
       " ['69459119', '66345888'],\n",
       " ['38813673', ''],\n",
       " ['42612470', ''],\n",
       " ['9436498', ''],\n",
       " ['72309907', ''],\n",
       " ['59448821', '56549689'],\n",
       " ['48864586', '47347300'],\n",
       " ['48864586', '63007044'],\n",
       " ['14854788', '21142643'],\n",
       " ['62964936', ''],\n",
       " ['39813393', ''],\n",
       " ['54990868', ''],\n",
       " ['244415', ''],\n",
       " ['55836218', ''],\n",
       " ['12808064', ''],\n",
       " ['21930708', ''],\n",
       " ['71466084', ''],\n",
       " ['68056601', ''],\n",
       " ['24268156', ''],\n",
       " ['47975659', ''],\n",
       " ['58155116', '37010405'],\n",
       " ['58155116', '71336365'],\n",
       " ['67898170', '64905421'],\n",
       " ['39767500', ''],\n",
       " ['21921246', '33429162'],\n",
       " ['58317172', ''],\n",
       " ['11483884', ''],\n",
       " ['41361546', ''],\n",
       " ['67674302', ''],\n",
       " ['64308009', '34322828'],\n",
       " ['71345801', ''],\n",
       " ['58235807', ''],\n",
       " ['31124302', ''],\n",
       " ['47988679', '40701566'],\n",
       " ['47988679', '40877891'],\n",
       " ['47988679', '9684893'],\n",
       " ['4309759', ''],\n",
       " ['9935496', ''],\n",
       " ['62422696', '58415579'],\n",
       " ['14662223', ''],\n",
       " ['24251579', ''],\n",
       " ['63993077', '68139647'],\n",
       " ['17163798', '57032801'],\n",
       " ['1626843', ''],\n",
       " ['50840129', ''],\n",
       " ['24370677', ''],\n",
       " ['23869219', ''],\n",
       " ['16995198', ''],\n",
       " ['67752822', '71501627'],\n",
       " ['67752822', '14830295'],\n",
       " ['58381921', ''],\n",
       " ['74056945', ''],\n",
       " ['11558794', ''],\n",
       " ['9756582', ''],\n",
       " ['49538454', ''],\n",
       " ['53031778', ''],\n",
       " ['10566230', ''],\n",
       " ['14928262', ''],\n",
       " ['21144733', ''],\n",
       " ['48010415', '16873646'],\n",
       " ['38818322', ''],\n",
       " ['41813330', ''],\n",
       " ['22766353', ''],\n",
       " ['14680113', ''],\n",
       " ['57214130', ''],\n",
       " ['33358927', ''],\n",
       " ['15355189', '66089608'],\n",
       " ['15355189', '31158362'],\n",
       " ['15355189', '40003514'],\n",
       " ['15355189', '62686777'],\n",
       " ['27479155', ''],\n",
       " ['71507755', ''],\n",
       " ['41135041', ''],\n",
       " ['41634147', '4020716'],\n",
       " ['41367780', ''],\n",
       " ['63620020', ''],\n",
       " ['69340233', ''],\n",
       " ['47027008', ''],\n",
       " ['67783035', ''],\n",
       " ['41264117', ''],\n",
       " ['66306760', '7317661'],\n",
       " ['66306760', '72815933'],\n",
       " ['16892814', '32887382'],\n",
       " ['16892814', '71334724'],\n",
       " ['16892814', '41161384'],\n",
       " ['16892814', '41268197'],\n",
       " ['4891523', ''],\n",
       " ['19409257', '60246492'],\n",
       " ['23826802', '24423661'],\n",
       " ['48142438', '59472879'],\n",
       " ['48142438', '46136200'],\n",
       " ['27513086', ''],\n",
       " ['44479801', ''],\n",
       " ['21006102', ''],\n",
       " ['66567975', '41350659'],\n",
       " ['66567975', '60046126'],\n",
       " ['66567975', '44783549'],\n",
       " ['66567975', '23765505'],\n",
       " ['66567975', '17388721'],\n",
       " ['66567975', '69950127'],\n",
       " ['66567975', '38913188'],\n",
       " ['66567975', '22995825'],\n",
       " ['66567975', '22528813'],\n",
       " ['66567975', '67964144'],\n",
       " ['66567975', '71353185'],\n",
       " ['66567975', '66903997'],\n",
       " ['67597513', ''],\n",
       " ['50913227', ''],\n",
       " ['42593289', ''],\n",
       " ['49378726', ''],\n",
       " ['49552391', '73933566'],\n",
       " ['49552391', '10970928'],\n",
       " ['38947637', ''],\n",
       " ['21047047', ''],\n",
       " ['16990289', ''],\n",
       " ['21703693', '36644552'],\n",
       " ['21703693', '41949030'],\n",
       " ['21703693', '48803352'],\n",
       " ['42699746', '7490940'],\n",
       " ['71106615', ''],\n",
       " ['65129652', '75841301'],\n",
       " ['65129652', '53726733'],\n",
       " ['65129652', '69761024'],\n",
       " ['65129652', '15839643'],\n",
       " ['57186994', '33422831'],\n",
       " ['57186994', '16413154'],\n",
       " ['57186994', '33100950'],\n",
       " ['9419050', ''],\n",
       " ['11841907', ''],\n",
       " ['14924019', ''],\n",
       " ['41216997', ''],\n",
       " ['6042585', ''],\n",
       " ['38565232', '58457256'],\n",
       " ['38902165', ''],\n",
       " ['27344794', ''],\n",
       " ['41155750', ''],\n",
       " ['38856202', ''],\n",
       " ['76920239', ''],\n",
       " ['49467458', ''],\n",
       " ['48031991', ''],\n",
       " ['38765652', ''],\n",
       " ['34309825', '37412913'],\n",
       " ['34309825', '26281610'],\n",
       " ['34309825', '38778313'],\n",
       " ['34309825', '13279918'],\n",
       " ['34309825', '58368894'],\n",
       " ['40058920', ''],\n",
       " ['27329318', '60509363'],\n",
       " ['27329318', '55928691'],\n",
       " ['27329318', '59898081'],\n",
       " ['76194575', '66050644'],\n",
       " ['76194575', '63114727'],\n",
       " ['12240982', ''],\n",
       " ['58296157', ''],\n",
       " ['40495582', ''],\n",
       " ['1684108', ''],\n",
       " ['56064016', ''],\n",
       " ['28716098', ''],\n",
       " ['68365377', ''],\n",
       " ['22539189', ''],\n",
       " ['38502982', ''],\n",
       " ['16890916', ''],\n",
       " ['41216735', ''],\n",
       " ['21111187', ''],\n",
       " ['6255852', ''],\n",
       " ['31106144', ''],\n",
       " ['8860038', '65474181'],\n",
       " ['31303467', '36211714'],\n",
       " ['31303467', '70367579'],\n",
       " ['31303467', '66050644'],\n",
       " ['31303467', '62944125'],\n",
       " ['31303467', '76821305'],\n",
       " ['22586759', ''],\n",
       " ['403249', '78261732'],\n",
       " ['403249', '70407955'],\n",
       " ['403249', '70272252'],\n",
       " ['403249', '68578838'],\n",
       " ['403249', '62817513'],\n",
       " ['29788981', ''],\n",
       " ['38841336', ''],\n",
       " ['36229394', '36110110'],\n",
       " ['9408905', ''],\n",
       " ['17230802', ''],\n",
       " ['73896770', ''],\n",
       " ['21976641', ''],\n",
       " ['62576445', ''],\n",
       " ['71386196', ''],\n",
       " ['10405199', '67747575'],\n",
       " ['10405199', '77468618'],\n",
       " ['39745033', ''],\n",
       " ['22707080', '40726777'],\n",
       " ['22707080', '42029636'],\n",
       " ['22707080', '62761276'],\n",
       " ['22707080', '62704539'],\n",
       " ['59139202', ''],\n",
       " ['66653816', ''],\n",
       " ['68163705', '58200339'],\n",
       " ['7750955', ''],\n",
       " ['34779135', ''],\n",
       " ['58177942', '23763127'],\n",
       " ['38761039', '11393743'],\n",
       " ['66506552', ''],\n",
       " ['29650090', ''],\n",
       " ['41228860', ''],\n",
       " ['68337762', ''],\n",
       " ['73512758', ''],\n",
       " ['57199273', ''],\n",
       " ['71337884', '41262823'],\n",
       " ['71337884', '77413114'],\n",
       " ['71337884', '46753188'],\n",
       " ['77159177', ''],\n",
       " ['46151881', '58278131'],\n",
       " ['46151881', '23920215'],\n",
       " ['31236143', ''],\n",
       " ['44037751', ''],\n",
       " ['21817327', ''],\n",
       " ['2866430', ''],\n",
       " ['10285438', '41350659'],\n",
       " ['10285438', '9484855'],\n",
       " ['10285438', '33338932'],\n",
       " ['3133641', '48503344'],\n",
       " ['3133641', '37286128'],\n",
       " ['37618502', ''],\n",
       " ['47590265', '16371426'],\n",
       " ['10405870', ''],\n",
       " ['2685650', ''],\n",
       " ['21899259', ''],\n",
       " ['67062495', '48387333'],\n",
       " ['13048124', '42911931'],\n",
       " ['32025730', '32000583'],\n",
       " ['32025730', '71462516'],\n",
       " ['11420004', ''],\n",
       " ['64898447', ''],\n",
       " ['9435429', ''],\n",
       " ['47975140', ''],\n",
       " ['71190700', ''],\n",
       " ['24252592', ''],\n",
       " ['38815364', ''],\n",
       " ['47942072', ''],\n",
       " ['19213528', ''],\n",
       " ['16898991', '38513076'],\n",
       " ['16898991', '37070454'],\n",
       " ['16898991', '51227371'],\n",
       " ['16898991', '24418511'],\n",
       " ['16872270', ''],\n",
       " ['48038298', ''],\n",
       " ['41284004', ''],\n",
       " ['10657765', ''],\n",
       " ['61620832', ''],\n",
       " ['57108868', '21239648'],\n",
       " ['76434225', ''],\n",
       " ['16063983', '24224703'],\n",
       " ['23801630', '38998399'],\n",
       " ['23956273', ''],\n",
       " ['58302487', ''],\n",
       " ['68224577', ''],\n",
       " ['20900948', ''],\n",
       " ['68378734', '49893404'],\n",
       " ['18503873', ''],\n",
       " ['48521932', ''],\n",
       " ['67920798', '40023660'],\n",
       " ['16902011', ''],\n",
       " ['24322821', ''],\n",
       " ['41367206', '48092773'],\n",
       " ['41367206', '77021522'],\n",
       " ['61596692', ''],\n",
       " ['19655374', ''],\n",
       " ['1592679', ''],\n",
       " ['48013889', '74241229'],\n",
       " ['10489022', ''],\n",
       " ['38802798', ''],\n",
       " ['58300080', ''],\n",
       " ['27829406', ''],\n",
       " ['66596977', ''],\n",
       " ['10512181', ''],\n",
       " ['71467798', ''],\n",
       " ['39724992', ''],\n",
       " ['3174630', '39644464'],\n",
       " ['3174630', '37088758'],\n",
       " ['66022980', ''],\n",
       " ['39053188', ''],\n",
       " ['1065540', ''],\n",
       " ['15070655', ''],\n",
       " ['29767164', ''],\n",
       " ['41603672', ''],\n",
       " ['77495515', '58348094'],\n",
       " ['77495515', '20879532'],\n",
       " ['23747670', ''],\n",
       " ['16977103', ''],\n",
       " ['4905344', ''],\n",
       " ['24640450', ''],\n",
       " ['61724165', ''],\n",
       " ['12711052', ''],\n",
       " ['65122010', '42877393'],\n",
       " ['14907881', '37103907'],\n",
       " ['14907881', '33024776'],\n",
       " ['14907881', '26281756'],\n",
       " ['16977864', '77183501'],\n",
       " ['16977864', '38947960'],\n",
       " ['16977864', '71541909'],\n",
       " ['24149020', '39961477'],\n",
       " ['67687009', ''],\n",
       " ['47254152', '45680184'],\n",
       " ['47254152', '54901529'],\n",
       " ['47254152', '47330749'],\n",
       " ['45603731', '40875610'],\n",
       " ['46100859', '4860362'],\n",
       " ['46100859', '69509685'],\n",
       " ['58333388', '20592193'],\n",
       " ['58333388', '21969607'],\n",
       " ['41589229', ''],\n",
       " ['35777343', ''],\n",
       " ['54922972', ''],\n",
       " ['76291729', ''],\n",
       " ['24469530', ''],\n",
       " ['60059810', '50096270'],\n",
       " ['60059810', '5820242'],\n",
       " ['60059810', '50165841'],\n",
       " ['60059810', '50144491'],\n",
       " ['48150520', ''],\n",
       " ['20964404', ''],\n",
       " ['32852654', ''],\n",
       " ['77247659', '20969912'],\n",
       " ['42738182', ''],\n",
       " ['47916215', ''],\n",
       " ['38986996', ''],\n",
       " ['48763170', ''],\n",
       " ['71330758', '28465930'],\n",
       " ['71330758', '48833177'],\n",
       " ['32301829', '23486417'],\n",
       " ['32301829', '39114507'],\n",
       " ['32301829', '59263737'],\n",
       " ['32301829', '41879969'],\n",
       " ['32301829', '69180205'],\n",
       " ['32301829', '33872959'],\n",
       " ['41606624', ''],\n",
       " ['6442613', ''],\n",
       " ['17293231', '75245976'],\n",
       " ['17293231', '71491749'],\n",
       " ['62443436', '62444956'],\n",
       " ['62443436', '62432991'],\n",
       " ['62443436', '62444068'],\n",
       " ['41162374', ''],\n",
       " ['12279999', ''],\n",
       " ['14941163', ''],\n",
       " ['58368548', ''],\n",
       " ['8094077', ''],\n",
       " ...]"
      ]
     },
     "execution_count": 87,
     "metadata": {
      "tags": []
     },
     "output_type": "execute_result"
    }
   ],
   "source": [
    "df_data_frame = dataFrame_data.values.tolist() # converting to list\n",
    "df_data_frame"
   ]
  },
  {
   "cell_type": "code",
   "execution_count": 0,
   "metadata": {
    "colab": {},
    "colab_type": "code",
    "id": "zFDfskeggC2u"
   },
   "outputs": [],
   "source": [
    "g = nx.Graph() \n",
    "for i,k in df_data_frame:\n",
    "  g.add_edge(i,k)"
   ]
  },
  {
   "cell_type": "code",
   "execution_count": 89,
   "metadata": {
    "colab": {
     "base_uri": "https://localhost:8080/",
     "height": 51
    },
    "colab_type": "code",
    "executionInfo": {
     "elapsed": 2839973,
     "status": "ok",
     "timestamp": 1591787659551,
     "user": {
      "displayName": "manojrkumar manoj",
      "photoUrl": "https://lh3.googleusercontent.com/a-/AOh14Giz78jjQbySfCx3WXwrl7zWmaceqIU-GYEQAA8Y2Wc=s64",
      "userId": "15589870527357381641"
     },
     "user_tz": -600
    },
    "id": "9CH7l1QbjWWX",
    "outputId": "75f97071-b97f-4e9c-ea73-c6893085a3e7"
   },
   "outputs": [
    {
     "name": "stderr",
     "output_type": "stream",
     "text": [
      "Computing transition probabilities: 100%|██████████| 36929/36929 [05:30<00:00, 111.70it/s]\n",
      "Generating walks (CPU: 1): 100%|██████████| 50/50 [2:16:06<00:00, 163.33s/it]\n"
     ]
    }
   ],
   "source": [
    "from node2vec import Node2Vec  \n",
    "#pre-compute the probabilities and generate walks :\n",
    "node2vec = Node2Vec(g, dimensions=64, walk_length=30, num_walks=50, workers=1)\n",
    "#embed the nodes\n",
    "model = node2vec.fit(window=10, min_count=1, batch_words=4) "
   ]
  },
  {
   "cell_type": "code",
   "execution_count": 90,
   "metadata": {
    "colab": {
     "base_uri": "https://localhost:8080/",
     "height": 71
    },
    "colab_type": "code",
    "executionInfo": {
     "elapsed": 2881,
     "status": "ok",
     "timestamp": 1591787703112,
     "user": {
      "displayName": "manojrkumar manoj",
      "photoUrl": "https://lh3.googleusercontent.com/a-/AOh14Giz78jjQbySfCx3WXwrl7zWmaceqIU-GYEQAA8Y2Wc=s64",
      "userId": "15589870527357381641"
     },
     "user_tz": -600
    },
    "id": "HBhm54CZjvyP",
    "outputId": "6fab20db-7cc9-4677-b4d8-5a0a1b0da2c6"
   },
   "outputs": [
    {
     "name": "stderr",
     "output_type": "stream",
     "text": [
      "/usr/local/lib/python3.6/dist-packages/smart_open/smart_open_lib.py:253: UserWarning: This function is deprecated, use smart_open.open instead. See the migration notes for details: https://github.com/RaRe-Technologies/smart_open/blob/master/README.rst#migrating-to-the-new-open-function\n",
      "  'See the migration notes for details: %s' % _MIGRATION_NOTES_URL\n"
     ]
    }
   ],
   "source": [
    "model.wv.save_word2vec_format(\"node2vec_model_1.model\") # saving the model"
   ]
  },
  {
   "cell_type": "code",
   "execution_count": 176,
   "metadata": {
    "colab": {
     "base_uri": "https://localhost:8080/",
     "height": 71
    },
    "colab_type": "code",
    "executionInfo": {
     "elapsed": 4175,
     "status": "ok",
     "timestamp": 1591791368958,
     "user": {
      "displayName": "manojrkumar manoj",
      "photoUrl": "https://lh3.googleusercontent.com/a-/AOh14Giz78jjQbySfCx3WXwrl7zWmaceqIU-GYEQAA8Y2Wc=s64",
      "userId": "15589870527357381641"
     },
     "user_tz": -600
    },
    "id": "QylScksuvIYf",
    "outputId": "f9e704ce-25d3-429b-f06f-4bcd0c73f7f8"
   },
   "outputs": [
    {
     "name": "stderr",
     "output_type": "stream",
     "text": [
      "/usr/local/lib/python3.6/dist-packages/smart_open/smart_open_lib.py:253: UserWarning: This function is deprecated, use smart_open.open instead. See the migration notes for details: https://github.com/RaRe-Technologies/smart_open/blob/master/README.rst#migrating-to-the-new-open-function\n",
      "  'See the migration notes for details: %s' % _MIGRATION_NOTES_URL\n"
     ]
    }
   ],
   "source": [
    "from gensim.models import KeyedVectors\n",
    "from gensim.test.utils import datapath\n",
    "\n",
    "model = KeyedVectors.load_word2vec_format(datapath('/content/node2vec_model_1.model'), binary=False) # this was used to loaad the data"
   ]
  },
  {
   "cell_type": "code",
   "execution_count": 178,
   "metadata": {
    "colab": {
     "base_uri": "https://localhost:8080/",
     "height": 292
    },
    "colab_type": "code",
    "executionInfo": {
     "elapsed": 1139,
     "status": "ok",
     "timestamp": 1591791374360,
     "user": {
      "displayName": "manojrkumar manoj",
      "photoUrl": "https://lh3.googleusercontent.com/a-/AOh14Giz78jjQbySfCx3WXwrl7zWmaceqIU-GYEQAA8Y2Wc=s64",
      "userId": "15589870527357381641"
     },
     "user_tz": -600
    },
    "id": "65fN3Q3F3tKf",
    "outputId": "19c3e528-f43e-40af-b239-c84f98f01a3d"
   },
   "outputs": [
    {
     "name": "stderr",
     "output_type": "stream",
     "text": [
      "/usr/local/lib/python3.6/dist-packages/ipykernel_launcher.py:1: DeprecationWarning: Call to deprecated `wv` (Attribute will be removed in 4.0.0, use self instead).\n",
      "  \"\"\"Entry point for launching an IPython kernel.\n"
     ]
    },
    {
     "data": {
      "text/plain": [
       "array([-0.11655376,  0.8358815 , -0.10231619,  0.704559  , -0.8189773 ,\n",
       "        0.2896309 ,  0.2829392 , -1.5387546 , -0.25995147, -0.19554979,\n",
       "       -0.16386518,  0.10994651, -0.8486666 , -0.30176416, -0.56442624,\n",
       "        0.8485699 ,  0.5498052 ,  0.16211025,  0.34101722, -0.3059683 ,\n",
       "       -0.6366729 ,  0.44587937,  0.3199966 , -0.02523146,  0.5553733 ,\n",
       "       -1.0328075 , -1.0609416 ,  0.07226457, -0.4652664 ,  0.3212084 ,\n",
       "        0.09182694, -1.1047791 ,  0.02890974, -0.4607661 ,  0.48812017,\n",
       "        0.6883243 , -0.30942944,  0.11964292, -0.5831593 , -1.0829828 ,\n",
       "       -0.08990805, -0.5864012 , -0.28133008,  0.23900564, -0.31231403,\n",
       "        1.4264874 , -1.306025  ,  0.00969826,  0.1484893 ,  0.6185069 ,\n",
       "        0.06641734,  0.06443226, -1.0304673 , -0.495198  , -0.7498145 ,\n",
       "       -0.2566269 ,  0.17439368,  0.49498123, -0.40718514,  1.1804385 ,\n",
       "       -0.35188597,  0.00233223,  0.91608536,  0.4306803 ], dtype=float32)"
      ]
     },
     "execution_count": 178,
     "metadata": {
      "tags": []
     },
     "output_type": "execute_result"
    }
   ],
   "source": [
    "model.wv.get_vector('12828558')"
   ]
  },
  {
   "cell_type": "code",
   "execution_count": 179,
   "metadata": {
    "colab": {
     "base_uri": "https://localhost:8080/",
     "height": 34
    },
    "colab_type": "code",
    "executionInfo": {
     "elapsed": 1177,
     "status": "ok",
     "timestamp": 1591791385456,
     "user": {
      "displayName": "manojrkumar manoj",
      "photoUrl": "https://lh3.googleusercontent.com/a-/AOh14Giz78jjQbySfCx3WXwrl7zWmaceqIU-GYEQAA8Y2Wc=s64",
      "userId": "15589870527357381641"
     },
     "user_tz": -600
    },
    "id": "u2MKjkpFBGDi",
    "outputId": "2b0b0f7c-9428-42b5-f0e9-69438a17dbdc"
   },
   "outputs": [
    {
     "data": {
      "text/plain": [
       "pandas.core.frame.DataFrame"
      ]
     },
     "execution_count": 179,
     "metadata": {
      "tags": []
     },
     "output_type": "execute_result"
    }
   ],
   "source": [
    "data_labels = pd.read_csv(\"labels.txt\",sep= ' ',header=None) # reading the data\n",
    "type(data_labels)"
   ]
  },
  {
   "cell_type": "code",
   "execution_count": 0,
   "metadata": {
    "colab": {},
    "colab_type": "code",
    "id": "pPP5TyJRBGK6"
   },
   "outputs": [],
   "source": [
    "data_label=data_labels.rename(columns={0:\"nodes\",1:\"label\"}) # renaming the columns"
   ]
  },
  {
   "cell_type": "code",
   "execution_count": 181,
   "metadata": {
    "colab": {
     "base_uri": "https://localhost:8080/",
     "height": 419
    },
    "colab_type": "code",
    "executionInfo": {
     "elapsed": 482,
     "status": "ok",
     "timestamp": 1591791393701,
     "user": {
      "displayName": "manojrkumar manoj",
      "photoUrl": "https://lh3.googleusercontent.com/a-/AOh14Giz78jjQbySfCx3WXwrl7zWmaceqIU-GYEQAA8Y2Wc=s64",
      "userId": "15589870527357381641"
     },
     "user_tz": -600
    },
    "id": "xgYAoaiqIB7x",
    "outputId": "8b119306-e92a-4809-953f-b91b73601f78"
   },
   "outputs": [
    {
     "data": {
      "text/html": [
       "<div>\n",
       "<style scoped>\n",
       "    .dataframe tbody tr th:only-of-type {\n",
       "        vertical-align: middle;\n",
       "    }\n",
       "\n",
       "    .dataframe tbody tr th {\n",
       "        vertical-align: top;\n",
       "    }\n",
       "\n",
       "    .dataframe thead th {\n",
       "        text-align: right;\n",
       "    }\n",
       "</style>\n",
       "<table border=\"1\" class=\"dataframe\">\n",
       "  <thead>\n",
       "    <tr style=\"text-align: right;\">\n",
       "      <th></th>\n",
       "      <th>nodes</th>\n",
       "      <th>label</th>\n",
       "    </tr>\n",
       "  </thead>\n",
       "  <tbody>\n",
       "    <tr>\n",
       "      <th>0</th>\n",
       "      <td>12828558</td>\n",
       "      <td>0</td>\n",
       "    </tr>\n",
       "    <tr>\n",
       "      <th>1</th>\n",
       "      <td>66779408</td>\n",
       "      <td>0</td>\n",
       "    </tr>\n",
       "    <tr>\n",
       "      <th>2</th>\n",
       "      <td>38902949</td>\n",
       "      <td>0</td>\n",
       "    </tr>\n",
       "    <tr>\n",
       "      <th>3</th>\n",
       "      <td>33450563</td>\n",
       "      <td>0</td>\n",
       "    </tr>\n",
       "    <tr>\n",
       "      <th>4</th>\n",
       "      <td>57470294</td>\n",
       "      <td>0</td>\n",
       "    </tr>\n",
       "    <tr>\n",
       "      <th>...</th>\n",
       "      <td>...</td>\n",
       "      <td>...</td>\n",
       "    </tr>\n",
       "    <tr>\n",
       "      <th>18715</th>\n",
       "      <td>39790331</td>\n",
       "      <td>4</td>\n",
       "    </tr>\n",
       "    <tr>\n",
       "      <th>18716</th>\n",
       "      <td>47870669</td>\n",
       "      <td>4</td>\n",
       "    </tr>\n",
       "    <tr>\n",
       "      <th>18717</th>\n",
       "      <td>28485685</td>\n",
       "      <td>4</td>\n",
       "    </tr>\n",
       "    <tr>\n",
       "      <th>18718</th>\n",
       "      <td>48611755</td>\n",
       "      <td>4</td>\n",
       "    </tr>\n",
       "    <tr>\n",
       "      <th>18719</th>\n",
       "      <td>24384084</td>\n",
       "      <td>4</td>\n",
       "    </tr>\n",
       "  </tbody>\n",
       "</table>\n",
       "<p>18720 rows × 2 columns</p>\n",
       "</div>"
      ],
      "text/plain": [
       "          nodes  label\n",
       "0      12828558      0\n",
       "1      66779408      0\n",
       "2      38902949      0\n",
       "3      33450563      0\n",
       "4      57470294      0\n",
       "...         ...    ...\n",
       "18715  39790331      4\n",
       "18716  47870669      4\n",
       "18717  28485685      4\n",
       "18718  48611755      4\n",
       "18719  24384084      4\n",
       "\n",
       "[18720 rows x 2 columns]"
      ]
     },
     "execution_count": 181,
     "metadata": {
      "tags": []
     },
     "output_type": "execute_result"
    }
   ],
   "source": [
    "data_label"
   ]
  },
  {
   "cell_type": "code",
   "execution_count": 0,
   "metadata": {
    "colab": {},
    "colab_type": "code",
    "id": "04FnOxV0ICDn"
   },
   "outputs": [],
   "source": [
    "nodes=data_label.nodes.unique() #getting the unique node id\n"
   ]
  },
  {
   "cell_type": "code",
   "execution_count": 0,
   "metadata": {
    "colab": {},
    "colab_type": "code",
    "id": "mCXL1szgKdif"
   },
   "outputs": [],
   "source": []
  },
  {
   "cell_type": "code",
   "execution_count": 185,
   "metadata": {
    "colab": {
     "base_uri": "https://localhost:8080/",
     "height": 71
    },
    "colab_type": "code",
    "executionInfo": {
     "elapsed": 1285,
     "status": "ok",
     "timestamp": 1591791502745,
     "user": {
      "displayName": "manojrkumar manoj",
      "photoUrl": "https://lh3.googleusercontent.com/a-/AOh14Giz78jjQbySfCx3WXwrl7zWmaceqIU-GYEQAA8Y2Wc=s64",
      "userId": "15589870527357381641"
     },
     "user_tz": -600
    },
    "id": "pJ1-hxrIICGQ",
    "outputId": "dcb36ec0-9012-4007-e9b4-3e38b010c1e2"
   },
   "outputs": [
    {
     "name": "stderr",
     "output_type": "stream",
     "text": [
      "/usr/local/lib/python3.6/dist-packages/ipykernel_launcher.py:3: DeprecationWarning: Call to deprecated `wv` (Attribute will be removed in 4.0.0, use self instead).\n",
      "  This is separate from the ipykernel package so we can avoid doing imports until\n"
     ]
    }
   ],
   "source": [
    "model_data=[]\n",
    "for each in nodes:\n",
    "  model_for_node=model.wv.get_vector(str(each))\n",
    "  model_data.append(model_for_node) # appending the nodes and vectors as a list "
   ]
  },
  {
   "cell_type": "code",
   "execution_count": 0,
   "metadata": {
    "colab": {},
    "colab_type": "code",
    "id": "iKpZ-IuVICNH"
   },
   "outputs": [],
   "source": [
    "model_label=[]\n",
    "for i in data_label['label']:\n",
    "  model_label.append(i) # appending the labels to a list"
   ]
  },
  {
   "cell_type": "code",
   "execution_count": 188,
   "metadata": {
    "colab": {
     "base_uri": "https://localhost:8080/",
     "height": 34
    },
    "colab_type": "code",
    "executionInfo": {
     "elapsed": 808,
     "status": "ok",
     "timestamp": 1591791737748,
     "user": {
      "displayName": "manojrkumar manoj",
      "photoUrl": "https://lh3.googleusercontent.com/a-/AOh14Giz78jjQbySfCx3WXwrl7zWmaceqIU-GYEQAA8Y2Wc=s64",
      "userId": "15589870527357381641"
     },
     "user_tz": -600
    },
    "id": "4b2-V80OICR9",
    "outputId": "3eb864b0-aed4-4f97-a111-0f9ddcef3a20"
   },
   "outputs": [
    {
     "data": {
      "text/plain": [
       "18720"
      ]
     },
     "execution_count": 188,
     "metadata": {
      "tags": []
     },
     "output_type": "execute_result"
    }
   ],
   "source": [
    "len(model_label)"
   ]
  },
  {
   "cell_type": "code",
   "execution_count": 189,
   "metadata": {
    "colab": {
     "base_uri": "https://localhost:8080/",
     "height": 34
    },
    "colab_type": "code",
    "executionInfo": {
     "elapsed": 1048,
     "status": "ok",
     "timestamp": 1591791747967,
     "user": {
      "displayName": "manojrkumar manoj",
      "photoUrl": "https://lh3.googleusercontent.com/a-/AOh14Giz78jjQbySfCx3WXwrl7zWmaceqIU-GYEQAA8Y2Wc=s64",
      "userId": "15589870527357381641"
     },
     "user_tz": -600
    },
    "id": "pp8ko0ksICUv",
    "outputId": "91029e63-8388-48ec-b949-fa488fd164e2"
   },
   "outputs": [
    {
     "data": {
      "text/plain": [
       "18720"
      ]
     },
     "execution_count": 189,
     "metadata": {
      "tags": []
     },
     "output_type": "execute_result"
    }
   ],
   "source": [
    "len(model_data)"
   ]
  },
  {
   "cell_type": "code",
   "execution_count": 0,
   "metadata": {
    "colab": {},
    "colab_type": "code",
    "id": "qghNEUhIICW7"
   },
   "outputs": [],
   "source": [
    "from sklearn.model_selection import train_test_split # splitting the data \n",
    "X_train, X_test, y_train, y_test = train_test_split(model_data, model_label, test_size=0.8, random_state=42) # splitting train -80 and test as 20 per"
   ]
  },
  {
   "cell_type": "code",
   "execution_count": 0,
   "metadata": {
    "colab": {},
    "colab_type": "code",
    "id": "Wl61ihPpWyES"
   },
   "outputs": [],
   "source": [
    "d"
   ]
  },
  {
   "cell_type": "markdown",
   "metadata": {
    "colab_type": "text",
    "id": "pzuU0ZvnW7fW"
   },
   "source": [
    "# Model building and finding the accuracy for AdaBoostClassifier "
   ]
  },
  {
   "cell_type": "code",
   "execution_count": 193,
   "metadata": {
    "colab": {
     "base_uri": "https://localhost:8080/",
     "height": 34
    },
    "colab_type": "code",
    "executionInfo": {
     "elapsed": 63541,
     "status": "ok",
     "timestamp": 1591792259809,
     "user": {
      "displayName": "manojrkumar manoj",
      "photoUrl": "https://lh3.googleusercontent.com/a-/AOh14Giz78jjQbySfCx3WXwrl7zWmaceqIU-GYEQAA8Y2Wc=s64",
      "userId": "15589870527357381641"
     },
     "user_tz": -600
    },
    "id": "ixPtudTpICQR",
    "outputId": "6c828dd9-e705-4266-e3ef-a7b98de282b5"
   },
   "outputs": [
    {
     "name": "stdout",
     "output_type": "stream",
     "text": [
      "Accuracy =  0.4029113247863248\n"
     ]
    }
   ],
   "source": [
    "from sklearn.ensemble import AdaBoostClassifier # \n",
    "from sklearn.metrics import accuracy_score\n",
    "\n",
    "model = AdaBoostClassifier(random_state = 0, n_estimators=1500)\n",
    "\n",
    "adabost = model.fit(X_train, y_train)\n",
    "\n",
    "y_pred = adabost.predict(X_test)\n",
    "\n",
    "print('Accuracy = ', accuracy_score(y_test, y_pred))"
   ]
  },
  {
   "cell_type": "markdown",
   "metadata": {
    "colab_type": "text",
    "id": "AMaAf0C_XGQw"
   },
   "source": [
    "# Model building and finding the accuracy for MLPClassifier"
   ]
  },
  {
   "cell_type": "code",
   "execution_count": 194,
   "metadata": {
    "colab": {
     "base_uri": "https://localhost:8080/",
     "height": 71
    },
    "colab_type": "code",
    "executionInfo": {
     "elapsed": 7306,
     "status": "ok",
     "timestamp": 1591793640093,
     "user": {
      "displayName": "manojrkumar manoj",
      "photoUrl": "https://lh3.googleusercontent.com/a-/AOh14Giz78jjQbySfCx3WXwrl7zWmaceqIU-GYEQAA8Y2Wc=s64",
      "userId": "15589870527357381641"
     },
     "user_tz": -600
    },
    "id": "say02G8wICK4",
    "outputId": "29c9d385-2a57-4ebf-f629-4f661913102f"
   },
   "outputs": [
    {
     "name": "stderr",
     "output_type": "stream",
     "text": [
      "/usr/local/lib/python3.6/dist-packages/sklearn/neural_network/_multilayer_perceptron.py:571: ConvergenceWarning: Stochastic Optimizer: Maximum iterations (200) reached and the optimization hasn't converged yet.\n",
      "  % self.max_iter, ConvergenceWarning)\n"
     ]
    }
   ],
   "source": [
    "from sklearn.neural_network import MLPClassifier\n",
    "from sklearn.metrics import accuracy_score\n",
    "\n",
    "MLP = MLPClassifier(random_state=1, max_iter=200).fit(X_train, y_train)"
   ]
  },
  {
   "cell_type": "code",
   "execution_count": 195,
   "metadata": {
    "colab": {
     "base_uri": "https://localhost:8080/",
     "height": 34
    },
    "colab_type": "code",
    "executionInfo": {
     "elapsed": 948,
     "status": "ok",
     "timestamp": 1591793672724,
     "user": {
      "displayName": "manojrkumar manoj",
      "photoUrl": "https://lh3.googleusercontent.com/a-/AOh14Giz78jjQbySfCx3WXwrl7zWmaceqIU-GYEQAA8Y2Wc=s64",
      "userId": "15589870527357381641"
     },
     "user_tz": -600
    },
    "id": "axnX5y-LICJH",
    "outputId": "161cad19-775c-449d-8f73-1f259eaae653"
   },
   "outputs": [
    {
     "name": "stdout",
     "output_type": "stream",
     "text": [
      "Accuracy =  0.5952857905982906\n"
     ]
    }
   ],
   "source": [
    "y_pred = MLP.predict(X_test)\n",
    "\n",
    "print('Accuracy = ', accuracy_score(y_test, y_pred))"
   ]
  },
  {
   "cell_type": "markdown",
   "metadata": {},
   "source": [
    "# Reference\n",
    "https://towardsdatascience.com/alternating-least-square-for-implicit-dataset-with-code-8e7999277f4b"
   ]
  },
  {
   "cell_type": "code",
   "execution_count": null,
   "metadata": {},
   "outputs": [],
   "source": []
  }
 ],
 "metadata": {
  "colab": {
   "authorship_tag": "ABX9TyM6QD+sde7Qpyw5/H0D5tj0",
   "collapsed_sections": [],
   "name": "Part_B.ipynb",
   "provenance": []
  },
  "kernelspec": {
   "display_name": "Python 3",
   "language": "python",
   "name": "python3"
  },
  "language_info": {
   "codemirror_mode": {
    "name": "ipython",
    "version": 3
   },
   "file_extension": ".py",
   "mimetype": "text/x-python",
   "name": "python",
   "nbconvert_exporter": "python",
   "pygments_lexer": "ipython3",
   "version": "3.7.3"
  }
 },
 "nbformat": 4,
 "nbformat_minor": 1
}
