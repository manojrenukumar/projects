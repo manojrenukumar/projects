{
 "cells": [
  {
   "cell_type": "markdown",
   "metadata": {
    "nbpresent": {
     "id": "7fda257b-bc22-490d-8e20-e5f06db3ec7e"
    }
   },
   "source": [
    "# Wine taste prediction"
   ]
  },
  {
   "cell_type": "markdown",
   "metadata": {
    "nbpresent": {
     "id": "15d77973-1777-473b-8b8f-8d8f239b565c"
    }
   },
   "source": [
    "---"
   ]
  },
  {
   "cell_type": "markdown",
   "metadata": {},
   "source": [
    "# Contents"
   ]
  },
  {
   "cell_type": "markdown",
   "metadata": {},
   "source": [
    "* [Introduction](#Introduction)\n",
    "* [Read the Data (**A**)](#A-—-Read-the-Data)\n",
    "* [Exploratory Data Analysis (**B**)](#B-—-Exploratory-Data-Analysis)\n",
    "* [Stepwise Selection by Cross-Validation (**C**)](#C-—-Stepwise-Selection-by-Cross-Validation)\n",
    "* [$L_2$ and $L_1$ Regularisation (**D**)](#D-—-$L_2$-and-$L_1$-Regularisation)\n",
    "* [Discussion (**E**)](#E-—-Discussion)\n",
    "* [Conclusion](#Conclusion)\n",
    "* [References](#References)"
   ]
  },
  {
   "cell_type": "markdown",
   "metadata": {},
   "source": [
    "---"
   ]
  },
  {
   "cell_type": "markdown",
   "metadata": {
    "nbpresent": {
     "id": "321934f5-be4e-4004-a7ae-1a69da8bb795"
    }
   },
   "source": [
    "# Introduction"
   ]
  },
  {
   "cell_type": "markdown",
   "metadata": {
    "nbpresent": {
     "id": "8c082e97-3767-445f-bc2c-e7cc8439e66a"
    }
   },
   "source": [
    "The files \"Wine_training.csv\" (training set) and \"Wine_testing.csv\" (test set) consist of data relating to wine, in particular, values for a binary response (*quality*: \"good\" or \"bad\") as well as for eleven potential predictors: *fixed acidity*, *volatile acidity*, *citric acid*, *residual sugar*, *chlorides*, *free sulfur dioxide*, *total sulfur dioxide*, *density*, *ph*, *sulphates*, and *alcohol*.  Different model selection methods are used — in particular, forward stepwise selection by cross-validation, $L_2$ regularisation, and $L_1$ regularisation — to determine the best logistic regression model for the given data, being the most predictive model as measured by area under the receiving operator characteristic (ROC) curve (AUC), in relation to predictions for the test set."
   ]
  },
  {
   "cell_type": "markdown",
   "metadata": {
    "nbpresent": {
     "id": "e32afd8e-5560-44d7-86e7-65a706a3ea0b"
    }
   },
   "source": [
    "---"
   ]
  },
  {
   "cell_type": "markdown",
   "metadata": {
    "nbpresent": {
     "id": "5d29a3b7-f1a5-4ef9-83b4-f26609718534"
    }
   },
   "source": [
    "# A — Read the Data"
   ]
  },
  {
   "cell_type": "markdown",
   "metadata": {
    "nbpresent": {
     "id": "f1ba8c30-3ef0-4534-8079-746f2d0f29c5"
    }
   },
   "source": [
    "Read the training and testing sets (in \"Wine_training.csv\" and \"Wine_testing.csv\").  Abbreviate the variable (column) names."
   ]
  },
  {
   "cell_type": "code",
   "execution_count": 1,
   "metadata": {
    "nbpresent": {
     "id": "a0d0dc61-e959-4225-adc4-5640e7453b65"
    }
   },
   "outputs": [],
   "source": [
    "# Read the training set (in \"Wine_training.csv\").\n",
    "d <- read.csv(\"Wine_training.csv\")\n",
    "\n",
    "# Read the testing set (in \"Wine_testing.csv\").\n",
    "d_test <- read.csv(\"Wine_testing.csv\")"
   ]
  },
  {
   "cell_type": "code",
   "execution_count": 2,
   "metadata": {
    "nbpresent": {
     "id": "454cef7d-044e-41b8-ada5-bfe5817d022c"
    }
   },
   "outputs": [
    {
     "data": {
      "text/html": [
       "<table>\n",
       "<tbody>\n",
       "\t<tr><th scope=row>1</th><td>fixed.acidity</td><td>fi           </td></tr>\n",
       "\t<tr><th scope=row>2</th><td>volatile.acidity</td><td>vo              </td></tr>\n",
       "\t<tr><th scope=row>3</th><td>citric.acid</td><td>ci         </td></tr>\n",
       "\t<tr><th scope=row>4</th><td>residual.sugar</td><td>re            </td></tr>\n",
       "\t<tr><th scope=row>5</th><td>chlorides</td><td>ch       </td></tr>\n",
       "\t<tr><th scope=row>6</th><td>free.sulfur.dioxide</td><td>fr                 </td></tr>\n",
       "\t<tr><th scope=row>7</th><td>total.sulfur.dioxide</td><td>to                  </td></tr>\n",
       "\t<tr><th scope=row>8</th><td>density</td><td>de     </td></tr>\n",
       "\t<tr><th scope=row>9</th><td>pH</td><td>ph</td></tr>\n",
       "\t<tr><th scope=row>10</th><td>sulphates</td><td>su       </td></tr>\n",
       "\t<tr><th scope=row>11</th><td>alcohol</td><td>al     </td></tr>\n",
       "\t<tr><th scope=row>12</th><td>quality</td><td>qu     </td></tr>\n",
       "</tbody>\n",
       "</table>\n"
      ],
      "text/latex": [
       "\\begin{tabular}{r|ll}\n",
       "\t1 & fixed.acidity & fi           \\\\\n",
       "\t2 & volatile.acidity & vo              \\\\\n",
       "\t3 & citric.acid & ci         \\\\\n",
       "\t4 & residual.sugar & re            \\\\\n",
       "\t5 & chlorides & ch       \\\\\n",
       "\t6 & free.sulfur.dioxide & fr                 \\\\\n",
       "\t7 & total.sulfur.dioxide & to                  \\\\\n",
       "\t8 & density & de     \\\\\n",
       "\t9 & pH & ph\\\\\n",
       "\t10 & sulphates & su       \\\\\n",
       "\t11 & alcohol & al     \\\\\n",
       "\t12 & quality & qu     \\\\\n",
       "\\end{tabular}\n"
      ],
      "text/plain": [
       "                          \n",
       "1         fixed.acidity fi\n",
       "2      volatile.acidity vo\n",
       "3           citric.acid ci\n",
       "4        residual.sugar re\n",
       "5             chlorides ch\n",
       "6   free.sulfur.dioxide fr\n",
       "7  total.sulfur.dioxide to\n",
       "8               density de\n",
       "9                    pH ph\n",
       "10            sulphates su\n",
       "11              alcohol al\n",
       "12              quality qu"
      ]
     },
     "metadata": {},
     "output_type": "display_data"
    }
   ],
   "source": [
    "# Define the original variable (column) names.\n",
    "names_ <- names(d)\n",
    "\n",
    "# Abbreviate each variable (column) name to its first two letters (training).\n",
    "colnames(d) <- tolower(substr(colnames(d), 1, 2))\n",
    "\n",
    "# Abbreviate each variable (column) name to its first two letters (test).\n",
    "colnames(d_test) <- tolower(substr(colnames(d_test), 1, 2))\n",
    "\n",
    "# Return the original and abbreviated variable (column) names.\n",
    "names_ <- data.frame(cbind(names_, colnames(d)))\n",
    "colnames(names_) <- NULL\n",
    "names_"
   ]
  },
  {
   "cell_type": "markdown",
   "metadata": {
    "nbpresent": {
     "id": "a47ffa4c-edd4-4486-a56e-a6a58f98fc60"
    }
   },
   "source": [
    "---"
   ]
  },
  {
   "cell_type": "markdown",
   "metadata": {
    "nbpresent": {
     "id": "58fab838-b017-4be6-ab3c-5da1bef3d481"
    }
   },
   "source": [
    "# B — Exploratory Data Analysis"
   ]
  },
  {
   "cell_type": "markdown",
   "metadata": {},
   "source": [
    "There are eleven potential predictors, all continuous, and a single, binary, response: *quality* (*qu*).  Out of 3,283 observations, 2,178 observations (approximately 66%) are classified as \"good\", and 1,105 observations (approximately 34%) are classified as \"bad\".\n",
    "\n",
    "Summary statistics, and histograms and box plots for each of the (potential) predictors (by response), are shown below.  The main observations are:\n",
    "* the distribution of values for \"good\" and \"bad\" observations is only noticeably different for *alcohol* (*al*);\n",
    "* for most predictors, there are at least some outliers by conventional definition (as shown on the box plots);\n",
    "* the distribution of values (for both \"good\" and \"bad\" observations) appears to be:\n",
    "    * approximately normal for *fixed acidity* (*fi*), *total sulfur dioxide* (*to*), *density* (*de*), *ph* (*ph*), and *sulphates* (*su*);\n",
    "    * skewed for *volatile acidity* (*vo*), *citric acid* (*ci*), *residual sugar* (*re*), *chlorides* (*ch*) [strongly skewed, with a large number of outliers], *free sulfur dioxide* (*fr*), and *alcohol* (*al*) [the distribution of values for \"good\" observations is skewed, the distribution of values for \"bad\" observations is more symmetrical];\n",
    "* each of *residual sugar* (*re*) and *density* (*de*) appear to contain an extreme outlier value;\n",
    "* there appears to be a reasonably strong (linear) correlation between some of the predictors, for example, between *density* (*de*) and *residual sugar* (*re*), between *alcohol* (*al*) and *density* (*de*), between *total sulfur dioxide* (*to*) and *free sulfur dioxide* (*fr*), and between *density* (*de*) and *total sulfur dioxide* (*to*); and\n",
    "* the range and magnitude of values for each of the predictors will be relevant for the interpretation of the coefficients for any logistic regression model.\n",
    "\n",
    "It is unecessary (and, although not shown here, demonstrably ineffectual) to transform the values for any of the predictors.  That is, the logistic regression model does not assume, for example, that the distribution of values for any of the predictors is normal (James et al, 2015, pp 151; Hastie et al, 2009, pp 127-128).  Neither does it appear to make any practical difference to remove observations with even the most extreme outlier values."
   ]
  },
  {
   "cell_type": "code",
   "execution_count": 3,
   "metadata": {
    "scrolled": true
   },
   "outputs": [
    {
     "data": {
      "text/html": [
       "<table>\n",
       "<thead><tr><th></th><th scope=col>fi</th><th scope=col>vo</th><th scope=col>ci</th><th scope=col>re</th><th scope=col>ch</th><th scope=col>fr</th><th scope=col>to</th><th scope=col>de</th><th scope=col>ph</th><th scope=col>su</th><th scope=col>al</th><th scope=col>qu</th></tr></thead>\n",
       "<tbody>\n",
       "\t<tr><th scope=row>1</th><td>7    </td><td>0.27 </td><td>0.36 </td><td>20.7 </td><td>0.045</td><td>45   </td><td>170  </td><td>1.001</td><td>3    </td><td>0.45 </td><td>8.8  </td><td>good </td></tr>\n",
       "\t<tr><th scope=row>2</th><td>6.3  </td><td>0.3  </td><td>0.34 </td><td>1.6  </td><td>0.049</td><td>14   </td><td>132  </td><td>0.994</td><td>3.3  </td><td>0.49 </td><td>9.5  </td><td>good </td></tr>\n",
       "\t<tr><th scope=row>3</th><td>7.2   </td><td>0.23  </td><td>0.32  </td><td>8.5   </td><td>0.058 </td><td>47    </td><td>186   </td><td>0.9956</td><td>3.19  </td><td>0.4   </td><td>9.9   </td><td>good  </td></tr>\n",
       "\t<tr><th scope=row>4</th><td>8.1   </td><td>0.28  </td><td>0.4   </td><td>6.9   </td><td>0.05  </td><td>30    </td><td>97    </td><td>0.9951</td><td>3.26  </td><td>0.44  </td><td>10.1  </td><td>good  </td></tr>\n",
       "\t<tr><th scope=row>5</th><td>6.2   </td><td>0.32  </td><td>0.16  </td><td>7     </td><td>0.045 </td><td>30    </td><td>136   </td><td>0.9949</td><td>3.18  </td><td>0.47  </td><td>9.6   </td><td>good  </td></tr>\n",
       "\t<tr><th scope=row>6</th><td>8.1   </td><td>0.27  </td><td>0.41  </td><td>1.45  </td><td>0.033 </td><td>11    </td><td>63    </td><td>0.9908</td><td>2.99  </td><td>0.56  </td><td>12    </td><td>bad   </td></tr>\n",
       "</tbody>\n",
       "</table>\n"
      ],
      "text/latex": [
       "\\begin{tabular}{r|llllllllllll}\n",
       "  & fi & vo & ci & re & ch & fr & to & de & ph & su & al & qu\\\\\n",
       "\\hline\n",
       "\t1 & 7     & 0.27  & 0.36  & 20.7  & 0.045 & 45    & 170   & 1.001 & 3     & 0.45  & 8.8   & good \\\\\n",
       "\t2 & 6.3   & 0.3   & 0.34  & 1.6   & 0.049 & 14    & 132   & 0.994 & 3.3   & 0.49  & 9.5   & good \\\\\n",
       "\t3 & 7.2    & 0.23   & 0.32   & 8.5    & 0.058  & 47     & 186    & 0.9956 & 3.19   & 0.4    & 9.9    & good  \\\\\n",
       "\t4 & 8.1    & 0.28   & 0.4    & 6.9    & 0.05   & 30     & 97     & 0.9951 & 3.26   & 0.44   & 10.1   & good  \\\\\n",
       "\t5 & 6.2    & 0.32   & 0.16   & 7      & 0.045  & 30     & 136    & 0.9949 & 3.18   & 0.47   & 9.6    & good  \\\\\n",
       "\t6 & 8.1    & 0.27   & 0.41   & 1.45   & 0.033  & 11     & 63     & 0.9908 & 2.99   & 0.56   & 12     & bad   \\\\\n",
       "\\end{tabular}\n"
      ],
      "text/plain": [
       "   fi   vo   ci    re    ch fr  to     de   ph   su   al   qu\n",
       "1 7.0 0.27 0.36 20.70 0.045 45 170 1.0010 3.00 0.45  8.8 good\n",
       "2 6.3 0.30 0.34  1.60 0.049 14 132 0.9940 3.30 0.49  9.5 good\n",
       "3 7.2 0.23 0.32  8.50 0.058 47 186 0.9956 3.19 0.40  9.9 good\n",
       "4 8.1 0.28 0.40  6.90 0.050 30  97 0.9951 3.26 0.44 10.1 good\n",
       "5 6.2 0.32 0.16  7.00 0.045 30 136 0.9949 3.18 0.47  9.6 good\n",
       "6 8.1 0.27 0.41  1.45 0.033 11  63 0.9908 2.99 0.56 12.0  bad"
      ]
     },
     "metadata": {},
     "output_type": "display_data"
    }
   ],
   "source": [
    "# Return the head of the data.\n",
    "head(d)"
   ]
  },
  {
   "cell_type": "code",
   "execution_count": 4,
   "metadata": {
    "scrolled": true
   },
   "outputs": [
    {
     "data": {
      "text/plain": [
       "       fi               vo               ci               re        \n",
       " Min.   : 3.800   Min.   :0.0800   Min.   :0.0000   Min.   : 0.600  \n",
       " 1st Qu.: 6.300   1st Qu.:0.2100   1st Qu.:0.2700   1st Qu.: 1.700  \n",
       " Median : 6.800   Median :0.2600   Median :0.3200   Median : 4.800  \n",
       " Mean   : 6.852   Mean   :0.2803   Mean   :0.3357   Mean   : 6.031  \n",
       " 3rd Qu.: 7.300   3rd Qu.:0.3275   3rd Qu.:0.3900   3rd Qu.: 9.000  \n",
       " Max.   :14.200   Max.   :1.1000   Max.   :1.6600   Max.   :65.800  \n",
       "       ch                fr               to              de        \n",
       " Min.   :0.00900   Min.   :  2.00   Min.   :  9.0   Min.   :0.9871  \n",
       " 1st Qu.:0.03600   1st Qu.: 23.00   1st Qu.:107.0   1st Qu.:0.9917  \n",
       " Median :0.04300   Median : 33.00   Median :133.0   Median :0.9936  \n",
       " Mean   :0.04604   Mean   : 35.05   Mean   :137.7   Mean   :0.9938  \n",
       " 3rd Qu.:0.05000   3rd Qu.: 45.00   3rd Qu.:166.0   3rd Qu.:0.9958  \n",
       " Max.   :0.34600   Max.   :289.00   Max.   :440.0   Max.   :1.0390  \n",
       "       ph              su               al           qu      \n",
       " Min.   :2.720   Min.   :0.2200   Min.   : 8.40   bad :1105  \n",
       " 1st Qu.:3.090   1st Qu.:0.4100   1st Qu.: 9.50   good:2178  \n",
       " Median :3.180   Median :0.4800   Median :10.40              \n",
       " Mean   :3.195   Mean   :0.4904   Mean   :10.58              \n",
       " 3rd Qu.:3.290   3rd Qu.:0.5500   3rd Qu.:11.40              \n",
       " Max.   :3.820   Max.   :1.0800   Max.   :14.00              "
      ]
     },
     "metadata": {},
     "output_type": "display_data"
    }
   ],
   "source": [
    "# Return summary statistics for each of the variables.\n",
    "summary(d)"
   ]
  },
  {
   "cell_type": "code",
   "execution_count": 5,
   "metadata": {},
   "outputs": [
    {
     "name": "stdout",
     "output_type": "stream",
     "text": [
      "    a  b   cor\n",
      "1  de re  0.82\n",
      "2  al de -0.76\n",
      "3  to fr  0.63\n",
      "4  de to  0.53\n",
      "5  al to -0.45\n",
      "6  ph fi -0.43\n",
      "7  al re -0.40\n",
      "8  to re  0.40\n",
      "9  al ch -0.36\n",
      "10 ci fi  0.30\n"
     ]
    }
   ],
   "source": [
    "# Return the correlations between each of the predictors,\n",
    "# in descending order of magnitude.\n",
    "cor_ <- as.data.frame.table(cor(d[ , -ncol(d)]))\n",
    "colnames(cor_) <- c(\"a\", \"b\", \"cor\")\n",
    "cor_ <- cor_[cor_$a != cor_$b, ]\n",
    "cor_ <- cor_[order(abs(cor_$cor), decreasing = TRUE), ]\n",
    "cor_ <- cor_[seq(1, nrow(cor_), 2), ]\n",
    "cor_$cor <- round(cor_$cor, 2)\n",
    "rownames(cor_) <- 1:nrow(cor_)\n",
    "print(cor_[1:10, ])"
   ]
  },
  {
   "cell_type": "code",
   "execution_count": 6,
   "metadata": {
    "nbpresent": {
     "id": "464417b0-edb8-4ec2-8060-cf97746ea2ce"
    },
    "scrolled": false
   },
   "outputs": [
    {
     "data": {
      "image/png": "[encoded data removed]",
      "text/plain": [
       "Plot with title \"Boxplot: vo\""
      ]
     },
     "metadata": {
      "image/svg+xml": {
       "isolated": true
      }
     },
     "output_type": "display_data"
    },
    {
     "data": {
      "image/png": "[encoded data removed]",
      "text/plain": [
       "Plot with title \"Boxplot: re\""
      ]
     },
     "metadata": {
      "image/svg+xml": {
       "isolated": true
      }
     },
     "output_type": "display_data"
    },
    {
     "data": {
      "image/png": "[encoded data removed]",
      "text/plain": [
       "Plot with title \"Boxplot: fr\""
      ]
     },
     "metadata": {
      "image/svg+xml": {
       "isolated": true
      }
     },
     "output_type": "display_data"
    },
    {
     "data": {
      "image/png": "[encoded data removed]",
      "text/plain": [
       "Plot with title \"Boxplot: de\""
      ]
     },
     "metadata": {
      "image/svg+xml": {
       "isolated": true
      }
     },
     "output_type": "display_data"
    },
    {
     "data": {
      "image/png": "[encoded data removed]",
      "text/plain": [
       "Plot with title \"Boxplot: su\""
      ]
     },
     "metadata": {
      "image/svg+xml": {
       "isolated": true
      }
     },
     "output_type": "display_data"
    },
    {
     "data": {
      "image/png": "[encoded data removed]",
      "text/plain": [
       "Plot with title \"Boxplot: al\""
      ]
     },
     "metadata": {
      "image/svg+xml": {
       "isolated": true
      }
     },
     "output_type": "display_data"
    }
   ],
   "source": [
    "# Define a two-row by two-column plotting area.\n",
    "par(mfrow = c(2, 2))\n",
    "\n",
    "# Plot a histogram and box plot for each of the predictors,\n",
    "# by response (\"good\" or \"bad\").\n",
    "for (x in colnames(d[-ncol(d)])) {\n",
    "    min_d <- min(d[ , x])\n",
    "    max_d <- max(d[ , x])\n",
    "    b <- seq(min_d, max_d, length.out = 20)\n",
    "    hist(d[ , x][d$qu == \"good\"], col = rgb(0, 1, 0, 0.35), breaks = b,\n",
    "         main = paste(\"Histogram: \", x, sep = \"\"), xlab = x)\n",
    "    hist(d[ , x][d$qu == \"bad\"], col = rgb(1, 0, 0, 0.35), breaks = b,\n",
    "         add = TRUE)\n",
    "    mtext(c(\"Good\", \"Bad\"), adj = c(0.25, 0.75), col = c(\"green\", \"red\"))\n",
    "    boxplot(d[ , x] ~ d$qu, main = paste(\"Boxplot: \", x, sep = \"\"))\n",
    "}"
   ]
  },
  {
   "cell_type": "markdown",
   "metadata": {
    "nbpresent": {
     "id": "39541eb4-c01c-4a2b-883c-4c58973d4430"
    }
   },
   "source": [
    "---"
   ]
  },
  {
   "cell_type": "markdown",
   "metadata": {
    "nbpresent": {
     "id": "5018a5d2-64b6-4584-a268-2f84b73771a2"
    }
   },
   "source": [
    "# C — Stepwise Selection by Cross-Validation"
   ]
  },
  {
   "cell_type": "markdown",
   "metadata": {
    "nbpresent": {
     "id": "15a8f18b-972b-4eff-b134-80c1834ce6d0"
    }
   },
   "source": [
    "## C.1 — Load Package *pROC*"
   ]
  },
  {
   "cell_type": "markdown",
   "metadata": {
    "nbpresent": {
     "id": "19df6ac4-124e-4939-9139-2f03bfdf47e4"
    }
   },
   "source": [
    "Load the package *pROC*, which provides for:\n",
    "* computing and plotting ROC curves;\n",
    "* calculating AUC; and\n",
    "* estimating the variance (and standard error) of AUC."
   ]
  },
  {
   "cell_type": "code",
   "execution_count": 7,
   "metadata": {
    "nbpresent": {
     "id": "e32112df-9cd3-49b9-bd39-45f9076b1a80"
    },
    "scrolled": true
   },
   "outputs": [
    {
     "name": "stderr",
     "output_type": "stream",
     "text": [
      "Type 'citation(\"pROC\")' for a citation.\n",
      "\n",
      "Attaching package: 'pROC'\n",
      "\n",
      "The following objects are masked from 'package:stats':\n",
      "\n",
      "    cov, smooth, var\n",
      "\n"
     ]
    }
   ],
   "source": [
    "# Load the package *pROC*.\n",
    "library(pROC)"
   ]
  },
  {
   "cell_type": "markdown",
   "metadata": {
    "nbpresent": {
     "id": "94281a8d-dbf0-4fcb-a2e0-c620e62dd105"
    }
   },
   "source": [
    "## C.2 — Define Functions"
   ]
  },
  {
   "cell_type": "markdown",
   "metadata": {
    "nbpresent": {
     "id": "2d6335b1-b759-48df-ac2d-a34d870bfa7b"
    }
   },
   "source": [
    "### C.2.1 — Function: Create *k* Cross-Validation Folds"
   ]
  },
  {
   "cell_type": "markdown",
   "metadata": {
    "nbpresent": {
     "id": "c20a6153-afc5-4e46-b371-0b6f7328e119"
    }
   },
   "source": [
    "Define a function to create *k* cross-validation folds.\n",
    "\n",
    "Note that this method produces cross-validation folds of the same size (or as close to the same size as possible), by randomly \"shuffling\" *n* + 1 repetitions of the values 1 to *k* (where *n* is the number of observations per cross-validatoin fold).  This is in contrast to the method used by James et al (2015, p 250), which produces randomly-sized cross-validation folds."
   ]
  },
  {
   "cell_type": "code",
   "execution_count": 8,
   "metadata": {
    "nbpresent": {
     "id": "9a739e16-5581-459f-a728-68588b7f4495"
    }
   },
   "outputs": [],
   "source": [
    "# Create *k* cross-validation folds for the data *d*.\n",
    "# Parameters:\n",
    "#   d:  data (data frame)\n",
    "#   k:  number of folds (default 10)\n",
    "# Returns:\n",
    "#   id: vector of values, from 1 to k,\n",
    "#       indicating the relevant fold for each row of *d*\n",
    "fold <- function(d, k = 10) {\n",
    "    \n",
    "    # The number of rows in *d*.\n",
    "    r <- nrow(d)\n",
    "    \n",
    "    # The number of rows per fold.\n",
    "    n <- r %/% k\n",
    "    \n",
    "    # Minimally \"over-sample\" from the values 1 to *k*,\n",
    "    # by \"shuffling\" *n* + 1 repetitions of the values 1 to *k*,\n",
    "    # and \"take\" *r* values (to account for an uneven division of *r*).\n",
    "    id <- sample(rep(1:k, n + 1))[1:r]\n",
    "    \n",
    "    return(id)\n",
    "}"
   ]
  },
  {
   "cell_type": "markdown",
   "metadata": {
    "nbpresent": {
     "id": "9e26ce7d-fdc9-4183-86a2-0d65a8c31dae"
    }
   },
   "source": [
    "### C.2.2 — Function: Cross-Validation"
   ]
  },
  {
   "cell_type": "markdown",
   "metadata": {},
   "source": [
    "Define a function to cross-validate AUC for specified predictors (for a logistic regression model) in relation to given data.\n",
    "\n",
    "Although not shown here, for the purpose of implementing the so-called one-standard-error rule (James et al, 2015, p 214), various methods can be used for determining cross-validated AUC and, in particular, the standard error for cross-validated AUC.  Cross-validated AUC can be calculated as the mean of the AUC for each of the *k* cross-validation folds.  The standard error can be estimated based on these *k* values (including via bootstrapping).  This appears to be the method used by, for example, the `cv.glmnet` function in the package *glmnet* (see Friedman et al, 2016, p 5).  However, given random variation between different cross-validation folds, for a value of *k* of ten (that is, ten-fold cross-validation, producing ten AUC values, one for each of the ten cross-validation folds), the estimated standard error is \"unstable\" (that is, there is a large amount of variation in the estimated standard error for different cross-validation \"splits\").\n",
    "\n",
    "As such, a different approach has been used.  Instead of averaging the AUC values for each of the *k* cross-validation folds, the predictions (and \"true\" class values) for each of the *k* cross-validation folds are accumulated (the predictions for each of the folds is independent to the extent that the test sets are disjoint, although the training sets overlap, but this is the same whether AUC values are averaged or accumulated), and a single ROC curve (and corresponding AUC) is calculated for the predictions for all *k* cross-validation folds (as to generating ROC curves by ranking a set of predictions: Fawcett, 2005, pp 863, 866).  (Although not shown here, as you would expect, unless a given model is \"unstable\", the single AUC value for the predictions for all *k* cross-validation folds, and the average of each of *k* AUC values for the predictions of each of *k* cross-validation folds, are extremely similar.)  The standard error for the single AUC value is calculated using the so-called DeLong method, as implemented in the `var.roc` function of the package *pROC* (see Robin et al, 2016, pp 6, 78-82).  The standard error for cross-validated AUC calculated in this way is consistent with the standard error calculated on the basis of AUC values for each of *k* cross-validated folds but, crucially, is much more stable (there is considerably less variation in the estimated standard error for different cross-validation \"splits\")."
   ]
  },
  {
   "cell_type": "code",
   "execution_count": 9,
   "metadata": {
    "collapsed": true,
    "nbpresent": {
     "id": "288aa4f5-1b3a-4ce0-ad23-2b7f7299b71b"
    }
   },
   "outputs": [],
   "source": [
    "# Cross-validate AUC for the predictors specified in *f*,\n",
    "# for a logistic regression model, for the data *d*.\n",
    "# Parameters:\n",
    "#   d: data (data frame)\n",
    "#   f: formula specifying the predictors\n",
    "#   k: number of folds (default 10)\n",
    "#   s: random seed (default 1)\n",
    "# Returns:\n",
    "#   list:\n",
    "#     - AUC\n",
    "#     - AUC standard error\n",
    "#     - ROC curve (roc object)\n",
    "xv <- function(d, f, k = 10, s = 1) {\n",
    "    \n",
    "    # Set the random seed.\n",
    "    set.seed(s)\n",
    "    \n",
    "    # Create *k* cross-validation folds for the data *d*.\n",
    "    id <- fold(d, k)\n",
    "    \n",
    "    # Initialise the set of all prediction probabilities,\n",
    "    # for all *k* cross-validation folds.\n",
    "    p_ <- NULL\n",
    "    \n",
    "    # Initialise the set of all \"true\" class values,\n",
    "    # for all *k* cross-validation folds.\n",
    "    t_ <- NULL\n",
    "    \n",
    "    # For each of *k* folds:\n",
    "    for (i in 1:k) {\n",
    "        \n",
    "        # Define the training set.\n",
    "        tr <- d[i != id, ]\n",
    "        \n",
    "        # Define the test set.\n",
    "        te <- d[i == id, ]\n",
    "        \n",
    "        # Fit a logistic regression model for the specified predictors.\n",
    "        m <- glm(f, tr, family = binomial)\n",
    "        \n",
    "        # Apply the model to the test set.\n",
    "        p <- predict(m, te, \"response\")\n",
    "        \n",
    "        # Accumulate the prediction probabilities.\n",
    "        p_ <- c(p_, p)\n",
    "        \n",
    "        # Accumulate the \"true\" class values.\n",
    "        t_ <- c(t_, as.vector(te$qu))\n",
    "    }\n",
    "\n",
    "    # Compute the ROC curve for the set of all prediction probabilities.\n",
    "    r <- roc(t_, p_)\n",
    "    \n",
    "    # Compute AUC.\n",
    "    a <- pROC::auc(r)\n",
    "    \n",
    "    # Compute AUC standard error.\n",
    "    se <- sqrt(var(r))\n",
    "    \n",
    "    return(list(\"AUC\" = a, \"SE\" = se, \"ROC\" = r))\n",
    "}"
   ]
  },
  {
   "cell_type": "markdown",
   "metadata": {
    "nbpresent": {
     "id": "564e3851-2293-428d-acd5-a8f935b67690"
    }
   },
   "source": [
    "### C.2.3 — Function: Stepwise Variable Selection by Cross-Validation"
   ]
  },
  {
   "cell_type": "markdown",
   "metadata": {
    "nbpresent": {
     "id": "f51f105f-ad0b-4dfb-9d9a-e790e68bf8ae"
    }
   },
   "source": [
    "Define a function to perform forward stepwise variable selection using cross-validated AUC.\n",
    "\n",
    "This function uses cross-validated AUC for variable selection at each step, in accordance with the following procedure:\n",
    "<i>\n",
    "* Until all predictors are included in the current model:\n",
    "    * For each predictor not yet included in the current model:\n",
    "        * Calculate cross-validated AUC for the current model plus the given predictor.\n",
    "    * Add the predictor corresponding to the largest increase in AUC (versus the current model) to the current model.\n",
    "</i>\n",
    "\n",
    "This method provides for both variable selection and best-single-model selection: the step corresponding to the highest AUC score represents the best subset of predictors (within the limitations of a stepwise procedure) and, equivalently, the single best model (as cross-validated AUC is used as the stepwise metric, all possible models for each step are tested within the stepwise procedure itself).  Note that this is similar to the method suggested by Charpentier (2015).\n",
    "\n",
    "This is in contrast to the method suggested by James et al (2015, p 250), which involves best-subset selection within each of *k* cross-validation folds, calculating prediction error for each subset, for each cross-validation fold, and taking the average error for models of each size (over the *k* cross-validation folds).  This method produces models with different subsets of predictors for each fold.  As such, although it might indicate the best average number of predictors, it does not identify a particuar subset of predictors."
   ]
  },
  {
   "cell_type": "code",
   "execution_count": 10,
   "metadata": {
    "nbpresent": {
     "id": "0cf8e289-665f-43f9-88b7-c50ffd25983a"
    }
   },
   "outputs": [],
   "source": [
    "# Perform forward stepwise selection using cross-validated AUC,\n",
    "# for a logistic regression model, for the data *d*.\n",
    "# Parameters:\n",
    "#   d: data (data frame)\n",
    "# Returns:\n",
    "#   best (data frame):\n",
    "#     - step number\n",
    "#     - predictor name\n",
    "#     - AUC\n",
    "#     - AUC standard error\n",
    "step_xv <- function(d) {\n",
    "    \n",
    "    # The set of predictors.\n",
    "    x <- colnames(d[1:(ncol(d) - 1)])\n",
    "    \n",
    "    # The response.\n",
    "    y <- colnames(d[ncol(d)])\n",
    "\n",
    "    # The number of predictors.\n",
    "    n <- length(x)\n",
    "    \n",
    "    # Initialise the return value (data frame).\n",
    "    best <- data.frame(\"Step\" = 1:n, \"Var\" = \"\", \"AUC\" = 0, \"SE\" = 0,\n",
    "                       stringsAsFactors = FALSE)\n",
    "\n",
    "    # For each of *n* predictors:\n",
    "    for (i in 1:n) {\n",
    "        \n",
    "        # Start a new plot.\n",
    "        plot.new()\n",
    "        plot.window(xlim = c(1, 0), ylim = c(0, 1))\n",
    "        grid()\n",
    "        box()\n",
    "        abline(1, -1, col = \"blue\", lty = 2)\n",
    "        l <- seq(0,1,0.2)\n",
    "        axis(1, at = rev(l), labels = format(l, 2))\n",
    "        axis(2)\n",
    "        title(main = \"ROC Curves\", xlab = \"FPR\", ylab = \"TPR\")\n",
    "        \n",
    "        # The number of predictors not yet in the model.\n",
    "        m <- length(x)\n",
    "\n",
    "        # For each of *m* predictors not yet in the model:\n",
    "        for (j in 1:m) {\n",
    "            \n",
    "            # Define the formula for the current model plus the predictor.\n",
    "            f <- paste(y, paste(c(best$Var[1:i], x[j]), collapse = \" + \"),\n",
    "                       sep = \" ~ \")\n",
    "            f <- formula(f)\n",
    "            \n",
    "            # Cross-validate AUC for the candidate model.\n",
    "            xv_j <- xv(d, f)\n",
    "            \n",
    "            # Plot the ROC curve.\n",
    "            plot(xv_j$ROC, col = \"grey\", lwd = 1, add = TRUE)\n",
    "            \n",
    "            # If the AUC is larger than the current largest AUC,\n",
    "            # update the best candidate model.\n",
    "            if (xv_j$AUC > best$AUC[i]) {\n",
    "                best$AUC[i] <- xv_j$AUC\n",
    "                best$SE[i] <- xv_j$SE\n",
    "                best_r <- xv_j$ROC\n",
    "                best_j <- j\n",
    "            }\n",
    "        }\n",
    "        \n",
    "        # Add the best predictor to the current model.\n",
    "        best$Var[i] <- x[best_j]\n",
    "        \n",
    "        # Remove the best predictor,\n",
    "        # from the set of predictors not yet in the model.\n",
    "        x <- x[-best_j]\n",
    "        \n",
    "        # Plot the ROC curve for the new model.\n",
    "        plot(best_r, col = \"red\", lwd = 1, add = TRUE)\n",
    "        text(0, 0, paste(\"AUC: \", round(best$AUC[i], 6), sep = \"\"),\n",
    "             pos = 2, col = \"red\")\n",
    "        mtext(paste(\"Step \", i, \": Add *\", best$Var[i], \"*\", sep = \"\"))\n",
    "    }\n",
    "    \n",
    "    return(best)\n",
    "}"
   ]
  },
  {
   "cell_type": "markdown",
   "metadata": {
    "nbpresent": {
     "id": "3bd33b92-1c2d-47bf-a4a5-996dd3158df0"
    }
   },
   "source": [
    "## C.3 — Perform Stepwise Variable Selection by Cross-Validation"
   ]
  },
  {
   "cell_type": "markdown",
   "metadata": {
    "nbpresent": {
     "id": "3921a59b-6c09-4294-840b-0e6cb3a0e757"
    }
   },
   "source": [
    "Perform forward stepwise selection by cross-validated AUC.\n",
    "\n",
    "AUC represents the area under the ROC curve which, in turn, is a function of the true-positive rate (a.k.a. sensitivity) and false-positive rate (a.k.a. 1 - specificity or, equivalently, 1 - true-negative rate) for the predictions of a model.  In other words, AUC represents the predictive performance a model, \"balancing\" the accuracy of the model in terms of correctly identifying positive obeservations (in this case, observations classified as \"good\"), and the accuracy of the model in terms of correctly identifying negative observations (in this case, observations classified as \"bad\").  An AUC value close to 0.5 (corresponding to an ROC curve close to the diagonal) represents random predictions.  An AUC value close to 1 indicates close-to-perfect accuracy in terms of identifying both positive and negative observations.  (Fawcett, 2005, pp 862-864, 868-869; James et al, 2015, pp 145-149).\n",
    "\n",
    "A plot for each step in the stepwise selection procedure, below, shows:\n",
    "* in <span style=\"color:red\">red</span>, the ROC curve for the predictor corresponding to the largest increase in AUC (versus the current model);\n",
    "* in <span style=\"color:gray\">grey</span>, the ROC curves for the other predictors considered in that step.\n",
    "\n",
    "Also show below is a table listing the predictor added at each step, and the corresponding AUC and standard error, as well as a plot showing the change in AUC for each step (with the standard error).  As noted above, in each case, the ROC curves (and corresponding AUC values) represent the accumulated predictions over all *k* cross-validation folds, and the so-called DeLong method has been used to estimate the AUC standard error.\n",
    "\n",
    "It is evident that:\n",
    "* the predictor *alcohol* (*al*) corresponds to the largest increase in AUC (versus the null model); and\n",
    "* the predictor *volatile acidity* (*vo*) corresponds to the largest increase in AUC (versus the model including only *al*).\n",
    "\n",
    "However, from the third step onwards, the increase in AUC for each model (versus the previous model) is marginal.  This is self-evident from the ROC curves for each step: from the third step onwards, the differences between candidate models are imperceptible.  It is also foreshadowed in the ROC curves for the first step, from which it is evident that many of the predictors, on their own, produce close-to-marginal ROC curves (that is, the ROC curves are close to the diagonal).\n",
    "\n",
    "The AUC value increases from step one to step nine (that is, a nine-predictor model), after which it decreases (although the differences are small).  In other words, a nine-predictor model produces the highest AUC value.  However, it is clear from the results of the stepwise procedure that, even for a nine-predictor model, most of the predictors contribute very little to the AUC value.  Following the so-called one-standard-error rule (James et al, 2015, p 214), the model with the fewest number of predictors, but with an AUC value within one standard error of the AUC value of the model with the highest AUC value, is a four-predictor model including, in particular, the predictors *alcohol* (*al*), *volatile acidity* (*vo*), *residual sugar* (*re*), and *fixed acidity* (*fi*).  Note that, as mentioned above, as cross-validated AUC has been used as the stepwise metric, the stepwise procedure has already selected the single best model (within the limitations of a stepwise procedure), as each possible model for each step has already been considered (in terms of cross-validated AUC) within the stepwise procedure itself.\n",
    "\n",
    "Note also that, strictly speaking, these results are dependent on (among other things), the particular cross-validation folds.  However, although not shown here, for the given training set, the results appear to be similar if not the same for different cross-validation folds (and under repeated cross-validation, which is simply too slow when implemented with the present functions to be demonstrated here).  (The random seed for the cross-validation folds can be set as an argument (e.g. \"s = 1\") of the call to the `xv` function within the `step_xv` function.)"
   ]
  },
  {
   "cell_type": "code",
   "execution_count": 11,
   "metadata": {
    "nbpresent": {
     "id": "e2f92053-ca6e-4872-9593-a9507feb26a7"
    },
    "scrolled": false
   },
   "outputs": [
    {
     "data": {
      "image/png": "[encoded data removed]",
      "text/plain": [
       "Plot with title \"ROC Curves\""
      ]
     },
     "metadata": {
      "image/svg+xml": {
       "isolated": true
      }
     },
     "output_type": "display_data"
    },
    {
     "data": {
      "image/png": "[encoded data removed]",
      "text/plain": [
       "Plot with title \"ROC Curves\""
      ]
     },
     "metadata": {
      "image/svg+xml": {
       "isolated": true
      }
     },
     "output_type": "display_data"
    },
    {
     "data": {
      "image/png": "[encoded data removed]",
      "text/plain": [
       "Plot with title \"ROC Curves\""
      ]
     },
     "metadata": {
      "image/svg+xml": {
       "isolated": true
      }
     },
     "output_type": "display_data"
    }
   ],
   "source": [
    "# Define a two-column (with equally-sized rows) plotting area.\n",
    "par(mfrow = c(2, 2))\n",
    "\n",
    "# Perform stepwise selection by cross-validated AUC,\n",
    "# for a logistic regression model, for the data *d*.\n",
    "st <- step_xv(d)"
   ]
  },
  {
   "cell_type": "code",
   "execution_count": 12,
   "metadata": {
    "nbpresent": {
     "id": "e7f79c89-954b-4ce5-9799-33c4452ce9fe"
    }
   },
   "outputs": [
    {
     "data": {
      "text/html": [
       "<table>\n",
       "<thead><tr><th></th><th scope=col>Step</th><th scope=col>Var</th><th scope=col>AUC</th><th scope=col>SE</th></tr></thead>\n",
       "<tbody>\n",
       "\t<tr><th scope=row>1</th><td>1                  </td><td>al                 </td><td>0.754460690824327  </td><td>0.00857372937846022</td></tr>\n",
       "\t<tr><th scope=row>2</th><td>2                  </td><td>vo                 </td><td>0.795524558626163  </td><td>0.00805564612229573</td></tr>\n",
       "\t<tr><th scope=row>3</th><td>3                  </td><td>re                 </td><td>0.80181951144518   </td><td>0.00798859400081263</td></tr>\n",
       "\t<tr><th scope=row>4</th><td>4                  </td><td>fi                 </td><td>0.805252442150838  </td><td>0.00789712471948007</td></tr>\n",
       "\t<tr><th scope=row>5</th><td>5                  </td><td>su                 </td><td>0.808067511810827  </td><td>0.00782127353974585</td></tr>\n",
       "\t<tr><th scope=row>6</th><td>6                  </td><td>fr                 </td><td>0.809750736488704  </td><td>0.00778937940378813</td></tr>\n",
       "\t<tr><th scope=row>7</th><td>7                  </td><td>to                 </td><td>0.809896579950056  </td><td>0.00778716388377009</td></tr>\n",
       "\t<tr><th scope=row>8</th><td>8                 </td><td>ph                </td><td>0.810053642139204 </td><td>0.0077938153241844</td></tr>\n",
       "\t<tr><th scope=row>9</th><td>9                  </td><td>de                 </td><td>0.810975239852245  </td><td>0.00776713919796375</td></tr>\n",
       "\t<tr><th scope=row>10</th><td>10                 </td><td>ci                 </td><td>0.810863052574282  </td><td>0.00776850119219252</td></tr>\n",
       "\t<tr><th scope=row>11</th><td>11                 </td><td>ch                 </td><td>0.810605852851842  </td><td>0.00777120447031768</td></tr>\n",
       "</tbody>\n",
       "</table>\n"
      ],
      "text/latex": [
       "\\begin{tabular}{r|llll}\n",
       "  & Step & Var & AUC & SE\\\\\n",
       "\\hline\n",
       "\t1 & 1                   & al                  & 0.754460690824327   & 0.00857372937846022\\\\\n",
       "\t2 & 2                   & vo                  & 0.795524558626163   & 0.00805564612229573\\\\\n",
       "\t3 & 3                   & re                  & 0.80181951144518    & 0.00798859400081263\\\\\n",
       "\t4 & 4                   & fi                  & 0.805252442150838   & 0.00789712471948007\\\\\n",
       "\t5 & 5                   & su                  & 0.808067511810827   & 0.00782127353974585\\\\\n",
       "\t6 & 6                   & fr                  & 0.809750736488704   & 0.00778937940378813\\\\\n",
       "\t7 & 7                   & to                  & 0.809896579950056   & 0.00778716388377009\\\\\n",
       "\t8 & 8                  & ph                 & 0.810053642139204  & 0.0077938153241844\\\\\n",
       "\t9 & 9                   & de                  & 0.810975239852245   & 0.00776713919796375\\\\\n",
       "\t10 & 10                  & ci                  & 0.810863052574282   & 0.00776850119219252\\\\\n",
       "\t11 & 11                  & ch                  & 0.810605852851842   & 0.00777120447031768\\\\\n",
       "\\end{tabular}\n"
      ],
      "text/plain": [
       "   Step Var       AUC          SE\n",
       "1     1  al 0.7544607 0.008573729\n",
       "2     2  vo 0.7955246 0.008055646\n",
       "3     3  re 0.8018195 0.007988594\n",
       "4     4  fi 0.8052524 0.007897125\n",
       "5     5  su 0.8080675 0.007821274\n",
       "6     6  fr 0.8097507 0.007789379\n",
       "7     7  to 0.8098966 0.007787164\n",
       "8     8  ph 0.8100536 0.007793815\n",
       "9     9  de 0.8109752 0.007767139\n",
       "10   10  ci 0.8108631 0.007768501\n",
       "11   11  ch 0.8106059 0.007771204"
      ]
     },
     "metadata": {},
     "output_type": "display_data"
    }
   ],
   "source": [
    "# Return the results of stepwise selection.\n",
    "st"
   ]
  },
  {
   "cell_type": "code",
   "execution_count": 13,
   "metadata": {
    "nbpresent": {
     "id": "00ee1207-d51e-4c0e-9c5d-0616d69a56d2"
    }
   },
   "outputs": [
    {
     "data": {
      "text/html": [
       "<table>\n",
       "<thead><tr><th></th><th scope=col>Step</th><th scope=col>Var</th><th scope=col>AUC</th><th scope=col>SE</th></tr></thead>\n",
       "<tbody>\n",
       "\t<tr><th scope=row>9</th><td>9                  </td><td>de                 </td><td>0.810975239852245  </td><td>0.00776713919796375</td></tr>\n",
       "</tbody>\n",
       "</table>\n"
      ],
      "text/latex": [
       "\\begin{tabular}{r|llll}\n",
       "  & Step & Var & AUC & SE\\\\\n",
       "\\hline\n",
       "\t9 & 9                   & de                  & 0.810975239852245   & 0.00776713919796375\\\\\n",
       "\\end{tabular}\n"
      ],
      "text/plain": [
       "  Step Var       AUC          SE\n",
       "9    9  de 0.8109752 0.007767139"
      ]
     },
     "metadata": {},
     "output_type": "display_data"
    }
   ],
   "source": [
    "# Return the model (step) with the highest AUC value.\n",
    "st[st$AUC == max(st$AUC), ]"
   ]
  },
  {
   "cell_type": "code",
   "execution_count": 14,
   "metadata": {
    "nbpresent": {
     "id": "8fd79ca3-f2bf-4c94-8d54-a347de958603"
    },
    "scrolled": true
   },
   "outputs": [
    {
     "data": {
      "text/html": [
       "<table>\n",
       "<thead><tr><th></th><th scope=col>Step</th><th scope=col>Var</th><th scope=col>AUC</th><th scope=col>SE</th></tr></thead>\n",
       "<tbody>\n",
       "\t<tr><th scope=row>4</th><td>4                  </td><td>fi                 </td><td>0.805252442150838  </td><td>0.00789712471948007</td></tr>\n",
       "\t<tr><th scope=row>5</th><td>5                  </td><td>su                 </td><td>0.808067511810827  </td><td>0.00782127353974585</td></tr>\n",
       "\t<tr><th scope=row>6</th><td>6                  </td><td>fr                 </td><td>0.809750736488704  </td><td>0.00778937940378813</td></tr>\n",
       "\t<tr><th scope=row>7</th><td>7                  </td><td>to                 </td><td>0.809896579950056  </td><td>0.00778716388377009</td></tr>\n",
       "\t<tr><th scope=row>8</th><td>8                 </td><td>ph                </td><td>0.810053642139204 </td><td>0.0077938153241844</td></tr>\n",
       "\t<tr><th scope=row>9</th><td>9                  </td><td>de                 </td><td>0.810975239852245  </td><td>0.00776713919796375</td></tr>\n",
       "\t<tr><th scope=row>10</th><td>10                 </td><td>ci                 </td><td>0.810863052574282  </td><td>0.00776850119219252</td></tr>\n",
       "\t<tr><th scope=row>11</th><td>11                 </td><td>ch                 </td><td>0.810605852851842  </td><td>0.00777120447031768</td></tr>\n",
       "</tbody>\n",
       "</table>\n"
      ],
      "text/latex": [
       "\\begin{tabular}{r|llll}\n",
       "  & Step & Var & AUC & SE\\\\\n",
       "\\hline\n",
       "\t4 & 4                   & fi                  & 0.805252442150838   & 0.00789712471948007\\\\\n",
       "\t5 & 5                   & su                  & 0.808067511810827   & 0.00782127353974585\\\\\n",
       "\t6 & 6                   & fr                  & 0.809750736488704   & 0.00778937940378813\\\\\n",
       "\t7 & 7                   & to                  & 0.809896579950056   & 0.00778716388377009\\\\\n",
       "\t8 & 8                  & ph                 & 0.810053642139204  & 0.0077938153241844\\\\\n",
       "\t9 & 9                   & de                  & 0.810975239852245   & 0.00776713919796375\\\\\n",
       "\t10 & 10                  & ci                  & 0.810863052574282   & 0.00776850119219252\\\\\n",
       "\t11 & 11                  & ch                  & 0.810605852851842   & 0.00777120447031768\\\\\n",
       "\\end{tabular}\n"
      ],
      "text/plain": [
       "   Step Var       AUC          SE\n",
       "4     4  fi 0.8052524 0.007897125\n",
       "5     5  su 0.8080675 0.007821274\n",
       "6     6  fr 0.8097507 0.007789379\n",
       "7     7  to 0.8098966 0.007787164\n",
       "8     8  ph 0.8100536 0.007793815\n",
       "9     9  de 0.8109752 0.007767139\n",
       "10   10  ci 0.8108631 0.007768501\n",
       "11   11  ch 0.8106059 0.007771204"
      ]
     },
     "metadata": {},
     "output_type": "display_data"
    }
   ],
   "source": [
    "# Return the models (steps) within one standard error of the AUC value,\n",
    "# of the model with the the highest AUC value.\n",
    "st[st$AUC >= max(st$AUC) - st$SE[st$AUC == max(st$AUC)], ]"
   ]
  },
  {
   "cell_type": "code",
   "execution_count": 15,
   "metadata": {
    "nbpresent": {
     "id": "865f7fea-5906-4f37-9cb9-2ce8c5aebcef"
    },
    "scrolled": false
   },
   "outputs": [
    {
     "data": {
      "image/png": "[encoded data removed]",
      "text/plain": [
       "Plot with title \"AUC by Variable\""
      ]
     },
     "metadata": {
      "image/svg+xml": {
       "isolated": true
      }
     },
     "output_type": "display_data"
    }
   ],
   "source": [
    "# Calculate the minimum and maximum y (AUC) values.\n",
    "min_y <- min(st$AUC) - max(st$SE)\n",
    "max_y <- max(st$AUC) + max(st$SE)\n",
    "\n",
    "# Plot the AUC values for each step.\n",
    "plot(st$AUC, xlab = \"Variable\", ylab = \"AUC\", main = \"AUC by Variable\",\n",
    "     xaxt = \"n\", ylim = c(min_y, max_y))\n",
    "grid()\n",
    "mtext(\"In Order of Addition to the Model\")\n",
    "axis(1, at = 1:11, labels = st$Var)\n",
    "lines(st$AUC, col = \"grey\", lty = 2)\n",
    "\n",
    "# Show bars (modified arrows) for the AUC standard error for each step.\n",
    "# Source: <stackoverflow.com/questions/13032777/scatter-plot-with-error-bars>.\n",
    "arrows(st$Step, st$AUC - st$SE, st$Step, st$AUC + st$SE, code = 3, angle = 90,\n",
    "       length = 0.05, col = \"red\")"
   ]
  },
  {
   "cell_type": "markdown",
   "metadata": {
    "nbpresent": {
     "id": "517fd3f0-a793-4289-8dd9-6bcdc99e2bae"
    }
   },
   "source": [
    "## C.4 — Fit the Stepwise Model"
   ]
  },
  {
   "cell_type": "markdown",
   "metadata": {
    "nbpresent": {
     "id": "c8e3afbb-ed7e-41a8-adc4-08b892b600cb"
    }
   },
   "source": [
    "Fit a logistic regression model, using the whole training set, using the variables identified by forward stepwise selection by cross-validated AUC (that is, in other words, the single best model as identified by stepwise selection), in particular:\n",
    "* *alcohol* (*al*);\n",
    "* *volatile acidity* (*vo*);\n",
    "* *residual sugar* (*re*); and\n",
    "* *fixed acidity* (*fi*)."
   ]
  },
  {
   "cell_type": "code",
   "execution_count": 16,
   "metadata": {
    "nbpresent": {
     "id": "392c4d8c-a014-49ab-9ea3-a9691ac02784"
    }
   },
   "outputs": [],
   "source": [
    "# Define the vector of predictors for the stepwise model.\n",
    "x_st <- st$Var[1:4]\n",
    "\n",
    "# Define the formula for the stepwise model.\n",
    "f_st <- paste(\"qu\", paste(x_st, collapse = \" + \"), sep = \" ~ \")\n",
    "\n",
    "# Fit the stepwise model using the whole training set.\n",
    "m_st <- glm(f_st, d, family = binomial)"
   ]
  },
  {
   "cell_type": "markdown",
   "metadata": {
    "nbpresent": {
     "id": "328060bd-3585-44a3-829c-e74aecd2a502"
    }
   },
   "source": [
    "## C.5 — Interpretation of the Stepwise Model"
   ]
  },
  {
   "cell_type": "markdown",
   "metadata": {
    "nbpresent": {
     "id": "f072af34-d897-4589-b0f7-4d3d806aa306"
    }
   },
   "source": [
    "Relevant statistics for the stepwise model are shown below.  The stepwise model is statistically significant: the proportion of deviance explained by the model (being the difference between the null deviance and the residual deviance) corresponds to a *p* value of effectively zero.  There is a statistically-significant relationship between at least one of the predictors and the response pursuant to the model (see IDRE (2); R Documentation: anova.glm).\n",
    "\n",
    "All four of the predictors are statistically significant: for each of the four predictors, the relatively low magnitude of the standard error relative to the relatively large magnitude of the coefficient corresonds to a large *z* statistic (and an equivalently low *p* value, i.e., the probability of observing a coefficient of the given magnitude were the null hypothesis true).  In other words, for each of the four predictors, the null hypothesis (that the \"true\" coefficient for the predictor is zero) is rejected (see James et al, 2015, p 134).  Further, the relatively higher *z* statistic and relatively lower *p* values (and relatively larger decrease in deviance) for *alcohol* (*al*) and *volatile acidity* (*vo*), relative to *residual sugar* (*re*) and *fixed acidity* (*fi*), is consistent with the relative increase in AUC for each of these varaibles in the stepwise selection procedure.\n",
    "\n",
    "The coefficients represent the change in the log odds of the response for a one-unit change in the predictors, such that exponentiating the coefficients gives the change in the odds of the response for a one-unit change in the predictors (see IDRE (1); IDRE (2); see also James et al, 2015, pp 132-137).  In particular, for the stepwise model, the odds of a classification of \"good\" are:\n",
    "* increased by a factor of approximately 3 ($e^{1.0887}$) for a one-unit increase in *alcohol* (*al*);\n",
    "* decreased by a factor of approximately 1,000 ($e^{-6.9741}$) for a one-unit increase in *volatile acidity* (*vo*) (but note the small magnitude and limited range of values of *volatile acidity* (*vo*));\n",
    "* increased by approximately 6% ($e^{0.0625}$) for a one-unit increase in *residual sugar* (*re*); and\n",
    "* decreased by approximately 20% ($e^{-0.2460}$) for a one-unit increase in *fixed acidity* (*fi*).\n",
    "\n",
    "In each case, these changes have to be interpreted in the context of the range and magnitude of the values for the relevant predictor.\n",
    "\n",
    "Additionally, the ANOVA table for the model shows that the \"order\" of the predictors (as determined by forward stepwise selection) corresponds to the \"order\" of the predictors in terms of reduction in deviance.  In other words, successive predictors account for (exponentially) decreasing reduction in deviance.  This can be compared to the result of conventional forward stepwise selection (using the whole training set) by, for example, BIC, which produces a six-predictor model with the same first four predictors in the same order."
   ]
  },
  {
   "cell_type": "code",
   "execution_count": 17,
   "metadata": {
    "scrolled": true
   },
   "outputs": [
    {
     "data": {
      "text/html": [
       "0"
      ],
      "text/latex": [
       "0"
      ],
      "text/markdown": [
       "0"
      ],
      "text/plain": [
       "[1] 0"
      ]
     },
     "metadata": {},
     "output_type": "display_data"
    }
   ],
   "source": [
    "# Return the *p* value for the model.\n",
    "1 - pchisq(m_st$null.deviance - m_st$deviance, m_st$df.null - m_st$df.residual)"
   ]
  },
  {
   "cell_type": "code",
   "execution_count": 18,
   "metadata": {
    "nbpresent": {
     "id": "2774c2de-5925-4d0e-a42e-bd3f8b40dbb1"
    }
   },
   "outputs": [
    {
     "data": {
      "text/plain": [
       "\n",
       "Call:\n",
       "glm(formula = f_st, family = binomial, data = d)\n",
       "\n",
       "Deviance Residuals: \n",
       "    Min       1Q   Median       3Q      Max  \n",
       "-3.1762  -0.8953   0.4309   0.7935   2.3890  \n",
       "\n",
       "Coefficients:\n",
       "             Estimate Std. Error z value Pr(>|z|)    \n",
       "(Intercept) -7.325750   0.615586 -11.900  < 2e-16 ***\n",
       "al           1.088730   0.049285  22.091  < 2e-16 ***\n",
       "vo          -6.974085   0.477879 -14.594  < 2e-16 ***\n",
       "re           0.062544   0.009288   6.734 1.65e-11 ***\n",
       "fi          -0.246003   0.049640  -4.956 7.20e-07 ***\n",
       "---\n",
       "Signif. codes:  0 '***' 0.001 '**' 0.01 '*' 0.05 '.' 0.1 ' ' 1\n",
       "\n",
       "(Dispersion parameter for binomial family taken to be 1)\n",
       "\n",
       "    Null deviance: 4194.0  on 3282  degrees of freedom\n",
       "Residual deviance: 3267.6  on 3278  degrees of freedom\n",
       "AIC: 3277.6\n",
       "\n",
       "Number of Fisher Scoring iterations: 5\n"
      ]
     },
     "metadata": {},
     "output_type": "display_data"
    }
   ],
   "source": [
    "# Return the summary statistics for the model.\n",
    "summary(m_st)"
   ]
  },
  {
   "cell_type": "code",
   "execution_count": 19,
   "metadata": {
    "nbpresent": {
     "id": "1c7956b7-329c-4bbd-8f85-a568ca167d37"
    }
   },
   "outputs": [
    {
     "data": {
      "text/html": [
       "<table>\n",
       "<thead><tr><th></th><th scope=col>Df</th><th scope=col>Deviance</th><th scope=col>Resid. Df</th><th scope=col>Resid. Dev</th><th scope=col>Pr(&gt;Chi)</th></tr></thead>\n",
       "<tbody>\n",
       "\t<tr><th scope=row>NULL</th><td>NA      </td><td>NA      </td><td>3282    </td><td>4193.984</td><td>NA      </td></tr>\n",
       "\t<tr><th scope=row>al</th><td>1       </td><td>631.5361</td><td>3281    </td><td>3562.447</td><td>0       </td></tr>\n",
       "\t<tr><th scope=row>vo</th><td>1       </td><td>226.3404</td><td>3280    </td><td>3336.107</td><td>0       </td></tr>\n",
       "\t<tr><th scope=row>re</th><td>1       </td><td>43.5915 </td><td>3279    </td><td>3292.515</td><td>0       </td></tr>\n",
       "\t<tr><th scope=row>fi</th><td>1       </td><td>24.8840 </td><td>3278    </td><td>3267.631</td><td>0       </td></tr>\n",
       "</tbody>\n",
       "</table>\n"
      ],
      "text/latex": [
       "\\begin{tabular}{r|lllll}\n",
       "  & Df & Deviance & Resid. Df & Resid. Dev & Pr(>Chi)\\\\\n",
       "\\hline\n",
       "\tNULL & NA       & NA       & 3282     & 4193.984 & NA      \\\\\n",
       "\tal & 1        & 631.5361 & 3281     & 3562.447 & 0       \\\\\n",
       "\tvo & 1        & 226.3404 & 3280     & 3336.107 & 0       \\\\\n",
       "\tre & 1        & 43.5915  & 3279     & 3292.515 & 0       \\\\\n",
       "\tfi & 1        & 24.8840  & 3278     & 3267.631 & 0       \\\\\n",
       "\\end{tabular}\n"
      ],
      "text/plain": [
       "     Df Deviance Resid. Df Resid. Dev Pr(>Chi)\n",
       "NULL NA       NA      3282   4193.984       NA\n",
       "al    1 631.5361      3281   3562.447        0\n",
       "vo    1 226.3404      3280   3336.107        0\n",
       "re    1  43.5915      3279   3292.515        0\n",
       "fi    1  24.8840      3278   3267.631        0"
      ]
     },
     "metadata": {},
     "output_type": "display_data"
    }
   ],
   "source": [
    "# Return the ANOVA table for the model.\n",
    "format(round(anova(m_st, test = \"Chisq\"), digits = 4), 4)"
   ]
  },
  {
   "cell_type": "code",
   "execution_count": 20,
   "metadata": {
    "scrolled": true
   },
   "outputs": [
    {
     "data": {
      "text/html": [
       "<dl class=dl-horizontal>\n",
       "\t<dt>al</dt>\n",
       "\t\t<dd>1.0887</dd>\n",
       "\t<dt>vo</dt>\n",
       "\t\t<dd>-6.9741</dd>\n",
       "\t<dt>re</dt>\n",
       "\t\t<dd>0.0625</dd>\n",
       "\t<dt>fi</dt>\n",
       "\t\t<dd>-0.246</dd>\n",
       "</dl>\n"
      ],
      "text/latex": [
       "\\begin{description*}\n",
       "\\item[al] 1.0887\n",
       "\\item[vo] -6.9741\n",
       "\\item[re] 0.0625\n",
       "\\item[fi] -0.246\n",
       "\\end{description*}\n"
      ],
      "text/markdown": [
       "al\n",
       ":   1.0887vo\n",
       ":   -6.9741re\n",
       ":   0.0625fi\n",
       ":   -0.246\n",
       "\n"
      ],
      "text/plain": [
       "     al      vo      re      fi \n",
       " 1.0887 -6.9741  0.0625 -0.2460 "
      ]
     },
     "metadata": {},
     "output_type": "display_data"
    },
    {
     "data": {
      "text/html": [
       "<dl class=dl-horizontal>\n",
       "\t<dt>al</dt>\n",
       "\t\t<dd>2.97041</dd>\n",
       "\t<dt>vo</dt>\n",
       "\t\t<dd>0.000936</dd>\n",
       "\t<dt>re</dt>\n",
       "\t\t<dd>1.064494</dd>\n",
       "\t<dt>fi</dt>\n",
       "\t\t<dd>0.781922</dd>\n",
       "</dl>\n"
      ],
      "text/latex": [
       "\\begin{description*}\n",
       "\\item[al] 2.97041\n",
       "\\item[vo] 0.000936\n",
       "\\item[re] 1.064494\n",
       "\\item[fi] 0.781922\n",
       "\\end{description*}\n"
      ],
      "text/markdown": [
       "al\n",
       ":   2.97041vo\n",
       ":   0.000936re\n",
       ":   1.064494fi\n",
       ":   0.781922\n",
       "\n"
      ],
      "text/plain": [
       "      al       vo       re       fi \n",
       "2.970410 0.000936 1.064494 0.781922 "
      ]
     },
     "metadata": {},
     "output_type": "display_data"
    }
   ],
   "source": [
    "# Return the coefficients and exponentiated coefficients for the model.\n",
    "co_step <- round(summary(m_st)$coefficients[ , 1][-1], 4)\n",
    "co_step\n",
    "round(exp(co_step), 6)"
   ]
  },
  {
   "cell_type": "code",
   "execution_count": 21,
   "metadata": {
    "nbpresent": {
     "id": "d42cb4b4-37c0-4f5c-9358-b32c2b924721"
    }
   },
   "outputs": [
    {
     "data": {
      "text/html": [
       "<table>\n",
       "<thead><tr><th></th><th scope=col>Df</th><th scope=col>Deviance</th><th scope=col>Resid. Df</th><th scope=col>Resid. Dev</th><th scope=col>Pr(&gt;Chi)</th></tr></thead>\n",
       "<tbody>\n",
       "\t<tr><th scope=row>NULL</th><td>NA      </td><td>NA      </td><td>3282    </td><td>4193.984</td><td>NA      </td></tr>\n",
       "\t<tr><th scope=row>al</th><td>1       </td><td>631.5361</td><td>3281    </td><td>3562.447</td><td>0.000   </td></tr>\n",
       "\t<tr><th scope=row>vo</th><td>1       </td><td>226.3404</td><td>3280    </td><td>3336.107</td><td>0.000   </td></tr>\n",
       "\t<tr><th scope=row>re</th><td>1       </td><td>43.5915 </td><td>3279    </td><td>3292.515</td><td>0.000   </td></tr>\n",
       "\t<tr><th scope=row>fi</th><td>1       </td><td>24.8840 </td><td>3278    </td><td>3267.631</td><td>0.000   </td></tr>\n",
       "\t<tr><th scope=row>su</th><td>1       </td><td>18.7294 </td><td>3277    </td><td>3248.902</td><td>0.000   </td></tr>\n",
       "\t<tr><th scope=row>fr</th><td>1       </td><td>10.7705 </td><td>3276    </td><td>3238.132</td><td>0.001   </td></tr>\n",
       "</tbody>\n",
       "</table>\n"
      ],
      "text/latex": [
       "\\begin{tabular}{r|lllll}\n",
       "  & Df & Deviance & Resid. Df & Resid. Dev & Pr(>Chi)\\\\\n",
       "\\hline\n",
       "\tNULL & NA       & NA       & 3282     & 4193.984 & NA      \\\\\n",
       "\tal & 1        & 631.5361 & 3281     & 3562.447 & 0.000   \\\\\n",
       "\tvo & 1        & 226.3404 & 3280     & 3336.107 & 0.000   \\\\\n",
       "\tre & 1        & 43.5915  & 3279     & 3292.515 & 0.000   \\\\\n",
       "\tfi & 1        & 24.8840  & 3278     & 3267.631 & 0.000   \\\\\n",
       "\tsu & 1        & 18.7294  & 3277     & 3248.902 & 0.000   \\\\\n",
       "\tfr & 1        & 10.7705  & 3276     & 3238.132 & 0.001   \\\\\n",
       "\\end{tabular}\n"
      ],
      "text/plain": [
       "     Df Deviance Resid. Df Resid. Dev Pr(>Chi)\n",
       "NULL NA       NA      3282   4193.984       NA\n",
       "al    1 631.5361      3281   3562.447    0.000\n",
       "vo    1 226.3404      3280   3336.107    0.000\n",
       "re    1  43.5915      3279   3292.515    0.000\n",
       "fi    1  24.8840      3278   3267.631    0.000\n",
       "su    1  18.7294      3277   3248.902    0.000\n",
       "fr    1  10.7705      3276   3238.132    0.001"
      ]
     },
     "metadata": {},
     "output_type": "display_data"
    }
   ],
   "source": [
    "# Define a minimal logistic regression model (intercept only).\n",
    "m_min <- glm(qu ~ 1, d, family = binomial)\n",
    "\n",
    "# Define a maximal logistic regression model (all predictors).\n",
    "f_max <- formula(glm(qu ~ ., d, family = binomial))\n",
    "\n",
    "# Perform forward stepwise variable selection by BIC.\n",
    "m_st_BIC <- step(m_min, scope = f_max, direction = \"forward\", k = log(nrow(d)),\n",
    "                 trace = 0)\n",
    "\n",
    "# Return the ANOVA table for the model.\n",
    "format(round(anova(m_st_BIC, test = \"Chisq\"), 4), 4)"
   ]
  },
  {
   "cell_type": "markdown",
   "metadata": {
    "nbpresent": {
     "id": "06ed400b-c4ce-4811-9189-5d88b5e90fe1"
    }
   },
   "source": [
    "## C.6 — Performance of the Stepwise Model"
   ]
  },
  {
   "cell_type": "markdown",
   "metadata": {
    "nbpresent": {
     "id": "fcfe6e2b-60f0-4d1c-baed-bc0edc13513b"
    }
   },
   "source": [
    "Apply the stepwise model to the test set.  A confusion matrix and ROC curve for the predicitons of the stepwise model in relation to the test set are shown below.\n",
    "\n",
    "For the stepwise model, in relation to the test set:\n",
    "* predictive accuracy is approximately 0.7 (equivalently, prediction error is approximately 0.3); and\n",
    "* AUC is approximately 0.75, and the ROC curve is relatively \"smooth\" and deviates meaningfully from the diagonal, both indicating meaningful predictive performance.\n",
    "\n",
    "More specifically:\n",
    "* sensitivity (a.k.a. recall, true-positive rate), being the proportion of positive values (i.e. \"good\") in the test set correctly identified by the model, is approximately 0.85; and\n",
    "* specificity (a.k.a. true-negative rate), being the proportion of negative values (i.e. \"bad\") in the test set correctly identified by the model, is approximately 0.43 (less than 50%).\n",
    "\n",
    "(See James et al, 2015, pp 145-149; Fawcett, 2005, pp 862)."
   ]
  },
  {
   "cell_type": "code",
   "execution_count": 22,
   "metadata": {
    "nbpresent": {
     "id": "876a08fc-ecb2-4e65-b0ba-0d77d16aa3d2"
    }
   },
   "outputs": [],
   "source": [
    "# Apply the stepwise model to the test set.\n",
    "p_st <- predict(m_st, d_test, \"response\")"
   ]
  },
  {
   "cell_type": "code",
   "execution_count": 23,
   "metadata": {
    "nbpresent": {
     "id": "e88db7bf-54cc-4f1a-832b-0255180aa616"
    }
   },
   "outputs": [
    {
     "data": {
      "text/html": [
       "<table>\n",
       "<thead><tr><th></th><th scope=col>Pred</th><th scope=col>True</th><th scope=col>Count</th><th scope=col>Proportion</th></tr></thead>\n",
       "<tbody>\n",
       "\t<tr><th scope=row>TN</th><td>bad </td><td>bad </td><td>104 </td><td>0.15</td></tr>\n",
       "\t<tr><th scope=row>FP</th><td>good</td><td>bad </td><td>139 </td><td>0.21</td></tr>\n",
       "\t<tr><th scope=row>FN</th><td>bad </td><td>good</td><td>64  </td><td>0.09</td></tr>\n",
       "\t<tr><th scope=row>TP</th><td>good</td><td>good</td><td>371 </td><td>0.55</td></tr>\n",
       "</tbody>\n",
       "</table>\n"
      ],
      "text/latex": [
       "\\begin{tabular}{r|llll}\n",
       "  & Pred & True & Count & Proportion\\\\\n",
       "\\hline\n",
       "\tTN & bad  & bad  & 104  & 0.15\\\\\n",
       "\tFP & good & bad  & 139  & 0.21\\\\\n",
       "\tFN & bad  & good & 64   & 0.09\\\\\n",
       "\tTP & good & good & 371  & 0.55\\\\\n",
       "\\end{tabular}\n"
      ],
      "text/plain": [
       "   Pred True Count Proportion\n",
       "TN  bad  bad   104       0.15\n",
       "FP good  bad   139       0.21\n",
       "FN  bad good    64       0.09\n",
       "TP good good   371       0.55"
      ]
     },
     "metadata": {},
     "output_type": "display_data"
    }
   ],
   "source": [
    "# Return the confusion matrix for the predictions of the stepwise model.\n",
    "mat <- table(ifelse(p_st > 0.5, \"good\", \"bad\"), d_test$qu)\n",
    "mat <- data.frame(mat)\n",
    "colnames(mat) <- c(\"Pred\", \"True\", \"Count\")\n",
    "rownames(mat) <- c(\"TN\", \"FP\", \"FN\", \"TP\")\n",
    "mat[\"Proportion\"] <- round(mat[\"Count\"] / sum(mat[\"Count\"]), 2)\n",
    "mat"
   ]
  },
  {
   "cell_type": "code",
   "execution_count": 24,
   "metadata": {
    "nbpresent": {
     "id": "18d5cb63-5058-4992-aea7-a43fb0cb8ca5"
    },
    "scrolled": false
   },
   "outputs": [
    {
     "data": {
      "image/png": "[encoded data removed]",
      "text/plain": [
       "Plot with title \"ROC Curve: Test Set Predictions\""
      ]
     },
     "metadata": {
      "image/svg+xml": {
       "isolated": true
      }
     },
     "output_type": "display_data"
    }
   ],
   "source": [
    "# The ROC curve for the predictions of the four-variable model,\n",
    "# in relation to the test set.\n",
    "r_st <- roc(as.vector(d_test$qu), p_st)\n",
    "\n",
    "# Plot the ROC curve for the model in relation to the test set.\n",
    "plot.new()\n",
    "plot.window(xlim = c(1, 0), ylim = c(0, 1))\n",
    "grid()\n",
    "box()\n",
    "abline(1, -1, col = \"blue\", lty = 2)\n",
    "l <- seq(0,1,0.2)\n",
    "axis(1, at = rev(l), labels = format(l, 2))\n",
    "axis(2)\n",
    "title(main = \"ROC Curve: Test Set Predictions\", xlab = \"FPR\", ylab = \"TPR\")\n",
    "lines(r_st, lwd = 1)\n",
    "text(0, 0, paste(\"AUC: \", round(pROC::auc(r_st), 6), sep = \"\"), pos = 2)\n",
    "mtext(\"Stepwise Model\")"
   ]
  },
  {
   "cell_type": "markdown",
   "metadata": {
    "nbpresent": {
     "id": "304c55ee-8124-480a-8b0a-9f428900b8a3"
    }
   },
   "source": [
    "---"
   ]
  },
  {
   "cell_type": "markdown",
   "metadata": {
    "nbpresent": {
     "id": "89442f29-5845-43f1-abca-d8b034cc5f8a"
    }
   },
   "source": [
    "# D — $L_2$ and $L_1$ Regularisation"
   ]
  },
  {
   "cell_type": "markdown",
   "metadata": {
    "nbpresent": {
     "id": "e5108983-be79-47ea-b720-a1090f475a10"
    }
   },
   "source": [
    "## D.1 — Load Package *glmnet*"
   ]
  },
  {
   "cell_type": "markdown",
   "metadata": {},
   "source": [
    "Load the package *glmnet*, which provides for:\n",
    "* $L_2$ and $L_1$ regularisation; and\n",
    "* the optimisation of the tuning parameter $\\lambda$ by cross-validation."
   ]
  },
  {
   "cell_type": "code",
   "execution_count": 25,
   "metadata": {
    "nbpresent": {
     "id": "c89ab891-4387-4e9c-a6b1-99f9b399ec89"
    }
   },
   "outputs": [
    {
     "name": "stderr",
     "output_type": "stream",
     "text": [
      "Loading required package: Matrix\n",
      "Loading required package: foreach\n",
      "Loaded glmnet 2.0-5\n",
      "\n",
      "\n",
      "Attaching package: 'glmnet'\n",
      "\n",
      "The following object is masked from 'package:pROC':\n",
      "\n",
      "    auc\n",
      "\n"
     ]
    }
   ],
   "source": [
    "# Load the package *glmnet*.\n",
    "library(glmnet)"
   ]
  },
  {
   "cell_type": "markdown",
   "metadata": {
    "nbpresent": {
     "id": "9a54b968-bbe9-41e1-a1e8-9c62482289df"
    }
   },
   "source": [
    "## D.2 — Define Model Matrices and $\\lambda$ Grid"
   ]
  },
  {
   "cell_type": "markdown",
   "metadata": {},
   "source": [
    "Define:\n",
    "* model matrices for the training and test sets (for use with the `glmnet`, `cv.glmnet`, and `predict` functions of the package *glmnet*); and\n",
    "* a \"grid\" of values for the tuning parameter $\\lambda$ (to be optimised by cross-validation, separately for each of the $L_2$ and $L_1$ shrinkage penalties)."
   ]
  },
  {
   "cell_type": "code",
   "execution_count": 26,
   "metadata": {
    "collapsed": true,
    "nbpresent": {
     "id": "9e9b4c05-7eda-46f5-b063-b2c14895090a"
    }
   },
   "outputs": [],
   "source": [
    "# Define a model matrix for the training set (remove the intercept: redundant).\n",
    "x_tr <- model.matrix(qu ~ ., d)[ , -1]\n",
    "\n",
    "# Define a model matrix for the test set (remove the intercept: redundant).\n",
    "x_te <- model.matrix(qu ~ ., d_test)[ , -1]"
   ]
  },
  {
   "cell_type": "code",
   "execution_count": 27,
   "metadata": {
    "nbpresent": {
     "id": "05bfdd01-42f2-4af5-bd6b-83d196b34206"
    }
   },
   "outputs": [],
   "source": [
    "# Define a \"grid\" of lambda values, being 10^*s*,\n",
    "# where *s* is a sequence of *n* values from *a* to *b*.\n",
    "a <- -5\n",
    "b <-  5\n",
    "n <- 100\n",
    "s <- seq(a, b, (b - a) / n)\n",
    "g <- 10^s"
   ]
  },
  {
   "cell_type": "markdown",
   "metadata": {
    "nbpresent": {
     "id": "f3fecc51-eb3e-45c3-adb6-f53de6d6c7d8"
    }
   },
   "source": [
    "## D.3 — $L_2$ Regularisation (Ridge Penalty)"
   ]
  },
  {
   "cell_type": "markdown",
   "metadata": {
    "nbpresent": {
     "id": "a084a370-cc11-4bf2-8b25-74cda212a695"
    }
   },
   "source": [
    "### D.3.1 — Optimise $\\lambda$ for the $L_2$ Shrinkage Penalty by Cross-Validation"
   ]
  },
  {
   "cell_type": "markdown",
   "metadata": {},
   "source": [
    "Find the value of the tuning parameter $\\lambda$ (between $10^{-5}$ and $10^{5}$) for the $L_2$ shrinkage penalty which optimises (maximises) average AUC, by cross-validation.\n",
    "\n",
    "Plots for average AUC (cross-validated) and coefficient magnitude (not cross-validated) by $\\lambda$ value are shown below.  It is evident that average AUC is more or less unchanged for low values of $\\lambda$.  The $L_2$ penalty does not reduce the coefficients for any of the predictors to zero, meaning that the model is still functional even for relatively high values of $\\lambda$ (average AUC does not drop below approximately 0.75, even for relatively high values of $\\lambda$).  The value of $\\lambda$ which maximises average AUC is effectively zero (that is, no penalty).  Following the so-called one-standard-error rule, the optimal value of $\\lambda$, being the largest value of $\\lambda$ corresponding to an average AUC within one standard error of the maximum average AUC, is approximately 0.1259."
   ]
  },
  {
   "cell_type": "code",
   "execution_count": 28,
   "metadata": {
    "nbpresent": {
     "id": "29741292-2235-428f-9b60-5c99a4b28568"
    }
   },
   "outputs": [],
   "source": [
    "# Set the random seed.\n",
    "set.seed(1)\n",
    "\n",
    "# Cross-validate lambda for the L2 shrinkage penalty,\n",
    "# for a logistic regression model, for the training set,\n",
    "# optimising (maximising) the average AUC value.\n",
    "m_L2_xv <- cv.glmnet(x_tr, d$qu, alpha = 0, lambda = g, family = \"binomial\",\n",
    "                     type.measure = \"auc\")\n",
    "\n",
    "# Define the largest lambda value corresponding to an average AUC value,\n",
    "# within 1 standard error of the maximum average AUC value.\n",
    "lambda_L2 <- m_L2_xv$lambda.1se"
   ]
  },
  {
   "cell_type": "code",
   "execution_count": 29,
   "metadata": {
    "nbpresent": {
     "id": "d6e659fc-325c-41cd-b7ad-6d864f75d7ae"
    }
   },
   "outputs": [
    {
     "data": {
      "image/png": "[encoded data removed]"
     },
     "metadata": {
      "image/svg+xml": {
       "isolated": true
      }
     },
     "output_type": "display_data"
    },
    {
     "data": {
      "image/png": "[encoded data removed]"
     },
     "metadata": {
      "image/svg+xml": {
       "isolated": true
      }
     },
     "output_type": "display_data"
    }
   ],
   "source": [
    "# Plot cross-validated average AUC value by lambda value (log).\n",
    "plot(m_L2_xv)\n",
    "title(bquote(atop(bold(\"Av. AUC by Lambda (Log)\")), \"\"))\n",
    "\n",
    "# Plot coefficient magnitude by lambda value (log).\n",
    "m_temp_L2 <- glmnet(x_tr, d$qu, alpha = 0, family = \"binomial\", lower = -25)\n",
    "plot(m_temp_L2, xvar = \"lambda\")\n",
    "title(bquote(atop(bold(\"Coefficients by Lambda (Log)\"), \"\")))"
   ]
  },
  {
   "cell_type": "code",
   "execution_count": 30,
   "metadata": {},
   "outputs": [
    {
     "data": {
      "text/html": [
       "0.000501"
      ],
      "text/latex": [
       "0.000501"
      ],
      "text/markdown": [
       "0.000501"
      ],
      "text/plain": [
       "[1] 0.000501"
      ]
     },
     "metadata": {},
     "output_type": "display_data"
    },
    {
     "data": {
      "text/html": [
       "0.125893"
      ],
      "text/latex": [
       "0.125893"
      ],
      "text/markdown": [
       "0.125893"
      ],
      "text/plain": [
       "[1] 0.125893"
      ]
     },
     "metadata": {},
     "output_type": "display_data"
    }
   ],
   "source": [
    "# Return the lambda value corresponding to the maximum average AUC value.\n",
    "round(m_L2_xv$lambda.min, 6)\n",
    "\n",
    "# Return the largest lambda value corresponding to an average AUC value,\n",
    "# within 1 standard error of the maximum average AUC value.\n",
    "round(m_L2_xv$lambda.1se, 6)"
   ]
  },
  {
   "cell_type": "code",
   "execution_count": 31,
   "metadata": {},
   "outputs": [
    {
     "data": {
      "text/html": [
       "<table>\n",
       "<thead><tr><th></th><th scope=col>Max. AUC</th><th scope=col>1-SE</th></tr></thead>\n",
       "<tbody>\n",
       "\t<tr><th scope=row>de</th><td>-148.0327</td><td> -67.4367</td></tr>\n",
       "\t<tr><th scope=row>vo</th><td>-6.4043</td><td>-3.0537</td></tr>\n",
       "\t<tr><th scope=row>su</th><td>1.9349</td><td>0.9039</td></tr>\n",
       "\t<tr><th scope=row>ph</th><td>1.1263</td><td>0.5949</td></tr>\n",
       "\t<tr><th scope=row>al</th><td>0.9112</td><td>0.4066</td></tr>\n",
       "\t<tr><th scope=row>ch</th><td>-0.6587</td><td>-5.3794</td></tr>\n",
       "\t<tr><th scope=row>ci</th><td>0.3541</td><td>0.3442</td></tr>\n",
       "\t<tr><th scope=row>re</th><td>0.1129</td><td>0.0208</td></tr>\n",
       "\t<tr><th scope=row>fi</th><td>-0.0801</td><td>-0.0845</td></tr>\n",
       "\t<tr><th scope=row>fr</th><td>0.0111</td><td>0.0060</td></tr>\n",
       "\t<tr><th scope=row>to</th><td>-0.0018</td><td>-0.0023</td></tr>\n",
       "</tbody>\n",
       "</table>\n"
      ],
      "text/latex": [
       "\\begin{tabular}{r|ll}\n",
       "  & Max. AUC & 1-SE\\\\\n",
       "\\hline\n",
       "\tde & -148.0327 &  -67.4367\\\\\n",
       "\tvo & -6.4043 & -3.0537\\\\\n",
       "\tsu & 1.9349 & 0.9039\\\\\n",
       "\tph & 1.1263 & 0.5949\\\\\n",
       "\tal & 0.9112 & 0.4066\\\\\n",
       "\tch & -0.6587 & -5.3794\\\\\n",
       "\tci & 0.3541 & 0.3442\\\\\n",
       "\tre & 0.1129 & 0.0208\\\\\n",
       "\tfi & -0.0801 & -0.0845\\\\\n",
       "\tfr & 0.0111 & 0.0060\\\\\n",
       "\tto & -0.0018 & -0.0023\\\\\n",
       "\\end{tabular}\n"
      ],
      "text/markdown": [
       "1. -148.0327\n",
       "2. -6.4043\n",
       "3. 1.9349\n",
       "4. 1.1263\n",
       "5. 0.9112\n",
       "6. -0.6587\n",
       "7. 0.3541\n",
       "8. 0.1129\n",
       "9. -0.0801\n",
       "10. 0.0111\n",
       "11. -0.0018\n",
       "12. -67.4367\n",
       "13. -3.0537\n",
       "14. 0.9039\n",
       "15. 0.5949\n",
       "16. 0.4066\n",
       "17. -5.3794\n",
       "18. 0.3442\n",
       "19. 0.0208\n",
       "20. -0.0845\n",
       "21. 0.006\n",
       "22. -0.0023\n",
       "\n",
       "\n"
      ],
      "text/plain": [
       "    Max. AUC     1-SE\n",
       "de -148.0327 -67.4367\n",
       "vo   -6.4043  -3.0537\n",
       "su    1.9349   0.9039\n",
       "ph    1.1263   0.5949\n",
       "al    0.9112   0.4066\n",
       "ch   -0.6587  -5.3794\n",
       "ci    0.3541   0.3442\n",
       "re    0.1129   0.0208\n",
       "fi   -0.0801  -0.0845\n",
       "fr    0.0111   0.0060\n",
       "to   -0.0018  -0.0023"
      ]
     },
     "metadata": {},
     "output_type": "display_data"
    }
   ],
   "source": [
    "# Return the coefficients for:\n",
    "#   - the lambda value for the maximum AUC\n",
    "#   - the within-1-SE lambda value\n",
    "co_L2_xv <- cbind(coef(m_L2_xv, \"lambda.min\")[ , 1],\n",
    "                  coef(m_L2_xv, \"lambda.1se\")[ , 1])[-1, ]\n",
    "co_L2_xv <- co_L2_xv[order(abs(co_L2_xv[ , 1]), decreasing = TRUE), ]\n",
    "colnames(co_L2_xv) <- c(\"Max. AUC\", \"1-SE\")\n",
    "round(co_L2_xv, 4)"
   ]
  },
  {
   "cell_type": "markdown",
   "metadata": {},
   "source": [
    "### D.3.2 — Fit the $L_2$ Model"
   ]
  },
  {
   "cell_type": "markdown",
   "metadata": {},
   "source": [
    "Fit a logistic regression model using the $L_2$ shrinkage penalty, with the optimised value for the tuning parameter $\\lambda$, using the whole training set."
   ]
  },
  {
   "cell_type": "code",
   "execution_count": 32,
   "metadata": {
    "nbpresent": {
     "id": "051da92c-b6d4-4230-ad9c-d4c74869b0c6"
    }
   },
   "outputs": [],
   "source": [
    "# Fit a logistic regression model using the L2 shrinkage penalty,\n",
    "# with the optimised lambda value, using the whole training set.\n",
    "m_L2 <- glmnet(x_tr, d$qu, alpha = 0, lambda = lambda_L2, family = \"binomial\")"
   ]
  },
  {
   "cell_type": "markdown",
   "metadata": {
    "nbpresent": {
     "id": "45fa6b7a-b093-4e98-8abe-d1edf86ac2b5"
    }
   },
   "source": [
    "### D.3.3 — Interpretation of the $L_2$ Model"
   ]
  },
  {
   "cell_type": "markdown",
   "metadata": {},
   "source": [
    "The $L_2$ model is statistically significant (there is a statistically-significant relationship between at least one of the predictors and the response, pursuant to the model).  The proportion of deviance explained by the model (being the difference between the null deviance and the residual deviance) corresponds to a *p* value of effectively zero (see IDRE (2); R Documentation: anova.glm).\n",
    "\n",
    "The $L_2$ penalty does not reduce the coefficients for any of the predictors to zero.  The coefficients represent the change in the log odds of the response for a one-unit change in the predictors, such that exponentiating the coefficients gives the change in the odds of the response for a one-unit change in the predictors (see IDRE (1); IDRE (2); see also James et al, 2015, pp 132-137).  In particular, for the $L_2$ model, the odds of a classification of \"good\" are:\n",
    "* decreased, in essence, to zero ($e^{-67}$) for a one-unit increase in *density* (*de*) (but note the limited range of values for *de*);\n",
    "* decreased by a factor of approximately 200 ($e^{-5.375}$) for a one-unit increase in *chlorides* (*ch*) (but note the limited range of values for *chlorides* (*ch*));\n",
    "* decreased by a factor of approximately 20 ($e^{-3.0536}$) for a one-unit increase in *volatile acidity* (*vo*);\n",
    "* increased by a factor of approximately 2.5 ($e^{0.904}$) for a one-unit increase in *sulphates* (*su*);\n",
    "* increased by a factor of approximately 1.8 ($e^{0.5951}$) for a one-unit increase in *ph* (*ph*);\n",
    "* increased by a factor of approximately 1.5 ($e^{0.4067}$) for a one-unit increase in *alcohol* (*al*);\n",
    "* increased by a factor of approximately 1.4 ($e^{0.3447}$) for a one-unit increase in *citric acid* (*ci*);\n",
    "* decreased by approximately 10% ($e^{-0.0845}$) for a one-unit increase in *fixed acidity* (*fi*);\n",
    "* increased by approximately 2% ($e^{0.0208}$) for a one-unit increase in *residual sugar* (*re*);\n",
    "* increased by approximately 1% ($e^{0.006}$) for a one-unit increase in *free sulfur dioxide* (*fr*); and\n",
    "* decreased by less than 1% ($e^{-0.0023}$) for a one-unit increase in *total sulfur dioxide* (*to*).\n",
    "\n",
    "In each case, these changes have to be interpreted in the context of the range and magnitude of the values for the relevant predictor."
   ]
  },
  {
   "cell_type": "code",
   "execution_count": 33,
   "metadata": {},
   "outputs": [
    {
     "data": {
      "text/html": [
       "0"
      ],
      "text/latex": [
       "0"
      ],
      "text/markdown": [
       "0"
      ],
      "text/plain": [
       "[1] 0"
      ]
     },
     "metadata": {},
     "output_type": "display_data"
    }
   ],
   "source": [
    "# Return the *p* value for the model.\n",
    "1 - pchisq(m_L2$dev.ratio * m_L2$nulldev, m_L2$df)"
   ]
  },
  {
   "cell_type": "code",
   "execution_count": 34,
   "metadata": {},
   "outputs": [
    {
     "data": {
      "text/html": [
       "<dl class=dl-horizontal>\n",
       "\t<dt>de</dt>\n",
       "\t\t<dd>-67.4495</dd>\n",
       "\t<dt>ch</dt>\n",
       "\t\t<dd>-5.375</dd>\n",
       "\t<dt>vo</dt>\n",
       "\t\t<dd>-3.0536</dd>\n",
       "\t<dt>su</dt>\n",
       "\t\t<dd>0.904</dd>\n",
       "\t<dt>ph</dt>\n",
       "\t\t<dd>0.5951</dd>\n",
       "\t<dt>al</dt>\n",
       "\t\t<dd>0.4067</dd>\n",
       "\t<dt>ci</dt>\n",
       "\t\t<dd>0.3447</dd>\n",
       "\t<dt>fi</dt>\n",
       "\t\t<dd>-0.0845</dd>\n",
       "\t<dt>re</dt>\n",
       "\t\t<dd>0.0208</dd>\n",
       "\t<dt>fr</dt>\n",
       "\t\t<dd>0.006</dd>\n",
       "\t<dt>to</dt>\n",
       "\t\t<dd>-0.0023</dd>\n",
       "</dl>\n"
      ],
      "text/latex": [
       "\\begin{description*}\n",
       "\\item[de] -67.4495\n",
       "\\item[ch] -5.375\n",
       "\\item[vo] -3.0536\n",
       "\\item[su] 0.904\n",
       "\\item[ph] 0.5951\n",
       "\\item[al] 0.4067\n",
       "\\item[ci] 0.3447\n",
       "\\item[fi] -0.0845\n",
       "\\item[re] 0.0208\n",
       "\\item[fr] 0.006\n",
       "\\item[to] -0.0023\n",
       "\\end{description*}\n"
      ],
      "text/markdown": [
       "de\n",
       ":   -67.4495ch\n",
       ":   -5.375vo\n",
       ":   -3.0536su\n",
       ":   0.904ph\n",
       ":   0.5951al\n",
       ":   0.4067ci\n",
       ":   0.3447fi\n",
       ":   -0.0845re\n",
       ":   0.0208fr\n",
       ":   0.006to\n",
       ":   -0.0023\n",
       "\n"
      ],
      "text/plain": [
       "      de       ch       vo       su       ph       al       ci       fi \n",
       "-67.4495  -5.3750  -3.0536   0.9040   0.5951   0.4067   0.3447  -0.0845 \n",
       "      re       fr       to \n",
       "  0.0208   0.0060  -0.0023 "
      ]
     },
     "metadata": {},
     "output_type": "display_data"
    }
   ],
   "source": [
    "# Return the coefficients for the L2 model,\n",
    "# in decreasing order of magnitude.\n",
    "co_L2 <- coef(m_L2)[-1, 1]\n",
    "co_L2 <- co_L2[order(abs(co_L2), decreasing = TRUE)]\n",
    "round(co_L2, 4)"
   ]
  },
  {
   "cell_type": "code",
   "execution_count": 35,
   "metadata": {},
   "outputs": [
    {
     "data": {
      "text/html": [
       "<dl class=dl-horizontal>\n",
       "\t<dt>de</dt>\n",
       "\t\t<dd>0</dd>\n",
       "\t<dt>ch</dt>\n",
       "\t\t<dd>0.004631</dd>\n",
       "\t<dt>vo</dt>\n",
       "\t\t<dd>0.047187</dd>\n",
       "\t<dt>su</dt>\n",
       "\t\t<dd>2.469439</dd>\n",
       "\t<dt>ph</dt>\n",
       "\t\t<dd>1.813154</dd>\n",
       "\t<dt>al</dt>\n",
       "\t\t<dd>1.501881</dd>\n",
       "\t<dt>ci</dt>\n",
       "\t\t<dd>1.411503</dd>\n",
       "\t<dt>fi</dt>\n",
       "\t\t<dd>0.919016</dd>\n",
       "\t<dt>re</dt>\n",
       "\t\t<dd>1.021039</dd>\n",
       "\t<dt>fr</dt>\n",
       "\t\t<dd>1.006001</dd>\n",
       "\t<dt>to</dt>\n",
       "\t\t<dd>0.997721</dd>\n",
       "</dl>\n"
      ],
      "text/latex": [
       "\\begin{description*}\n",
       "\\item[de] 0\n",
       "\\item[ch] 0.004631\n",
       "\\item[vo] 0.047187\n",
       "\\item[su] 2.469439\n",
       "\\item[ph] 1.813154\n",
       "\\item[al] 1.501881\n",
       "\\item[ci] 1.411503\n",
       "\\item[fi] 0.919016\n",
       "\\item[re] 1.021039\n",
       "\\item[fr] 1.006001\n",
       "\\item[to] 0.997721\n",
       "\\end{description*}\n"
      ],
      "text/markdown": [
       "de\n",
       ":   0ch\n",
       ":   0.004631vo\n",
       ":   0.047187su\n",
       ":   2.469439ph\n",
       ":   1.813154al\n",
       ":   1.501881ci\n",
       ":   1.411503fi\n",
       ":   0.919016re\n",
       ":   1.021039fr\n",
       ":   1.006001to\n",
       ":   0.997721\n",
       "\n"
      ],
      "text/plain": [
       "      de       ch       vo       su       ph       al       ci       fi \n",
       "0.000000 0.004631 0.047187 2.469439 1.813154 1.501881 1.411503 0.919016 \n",
       "      re       fr       to \n",
       "1.021039 1.006001 0.997721 "
      ]
     },
     "metadata": {},
     "output_type": "display_data"
    }
   ],
   "source": [
    "# Return the exponentiated coefficients for the L2 model.\n",
    "round(exp(co_L2), 6)"
   ]
  },
  {
   "cell_type": "markdown",
   "metadata": {},
   "source": [
    "### D.3.4 — Performance of the $L_2$ Model"
   ]
  },
  {
   "cell_type": "markdown",
   "metadata": {},
   "source": [
    "Apply the $L_2$ model to the test set.  A confusion matrix and ROC curve for the predicitons of the $L_2$ model in relation to the test set are shown below.\n",
    "\n",
    "For the $L_2$ model, in relation to the test set:\n",
    "* predictive accuracy is approximately 0.71 (equivalently, prediction error is approximately 0.29); and\n",
    "* AUC is approximately 0.76, and the ROC curve is relatively \"smooth\" and deviates meaningfully from the diagonal, both indicating meaningful predictive performance.\n",
    "\n",
    "More specifically:\n",
    "* the sensitivity (a.k.a. recall, true-positive rate), being the proportion of positive values (i.e. \"good\") in the test set correctly identified by the model, is approximately 0.93; and\n",
    "* the specificity (a.k.a. true-negative rate), being the proportion of negative values (i.e. \"bad\") in the test set correctly identified by the model, is approximately 0.30 (less than 50%).\n",
    "\n",
    "(See James et al, 2015, pp 145-149; Fawcett, 2005, pp 862)."
   ]
  },
  {
   "cell_type": "code",
   "execution_count": 36,
   "metadata": {
    "nbpresent": {
     "id": "b68adc95-88e2-454c-bd43-875ac89aa760"
    }
   },
   "outputs": [],
   "source": [
    "# Apply the L2 model to the test set.\n",
    "p_L2 <- predict(m_L2, newx = x_te, type = \"response\")\n",
    "\n",
    "# Compute the ROC curve for the L2 model in relation to the test set.\n",
    "r_L2 <- roc(as.vector(d_test$qu), as.vector(p_L2))"
   ]
  },
  {
   "cell_type": "code",
   "execution_count": 37,
   "metadata": {
    "nbpresent": {
     "id": "2cf15319-0f0b-40b9-a414-045723f92edc"
    }
   },
   "outputs": [
    {
     "data": {
      "text/html": [
       "<table>\n",
       "<thead><tr><th></th><th scope=col>Pred</th><th scope=col>True</th><th scope=col>Count</th><th scope=col>Proportion</th></tr></thead>\n",
       "<tbody>\n",
       "\t<tr><th scope=row>TN</th><td>bad </td><td>bad </td><td>73  </td><td>0.11</td></tr>\n",
       "\t<tr><th scope=row>FP</th><td>good</td><td>bad </td><td>170 </td><td>0.25</td></tr>\n",
       "\t<tr><th scope=row>FN</th><td>bad </td><td>good</td><td>30  </td><td>0.04</td></tr>\n",
       "\t<tr><th scope=row>TP</th><td>good</td><td>good</td><td>405 </td><td>0.6 </td></tr>\n",
       "</tbody>\n",
       "</table>\n"
      ],
      "text/latex": [
       "\\begin{tabular}{r|llll}\n",
       "  & Pred & True & Count & Proportion\\\\\n",
       "\\hline\n",
       "\tTN & bad  & bad  & 73   & 0.11\\\\\n",
       "\tFP & good & bad  & 170  & 0.25\\\\\n",
       "\tFN & bad  & good & 30   & 0.04\\\\\n",
       "\tTP & good & good & 405  & 0.6 \\\\\n",
       "\\end{tabular}\n"
      ],
      "text/plain": [
       "   Pred True Count Proportion\n",
       "TN  bad  bad    73       0.11\n",
       "FP good  bad   170       0.25\n",
       "FN  bad good    30       0.04\n",
       "TP good good   405       0.60"
      ]
     },
     "metadata": {},
     "output_type": "display_data"
    }
   ],
   "source": [
    "# Return the confusion matrix for the predictions of the L2 model,\n",
    "# in relation to the test set.\n",
    "mat <- table(ifelse(p_L2 > 0.5, \"good\", \"bad\"), d_test$qu)\n",
    "mat <- data.frame(mat)\n",
    "colnames(mat) <- c(\"Pred\", \"True\", \"Count\")\n",
    "rownames(mat) <- c(\"TN\", \"FP\", \"FN\", \"TP\")\n",
    "# mat <- mat[c(\"TP\", \"FP\", \"TN\", \"FN\"), ]\n",
    "mat[\"Proportion\"] <- round(mat[\"Count\"] / sum(mat[\"Count\"]), 2)\n",
    "mat"
   ]
  },
  {
   "cell_type": "code",
   "execution_count": 38,
   "metadata": {
    "nbpresent": {
     "id": "35a3c89b-deb4-4427-96af-b175308d9dd7"
    }
   },
   "outputs": [
    {
     "data": {
      "image/png": "[encoded data removed]",
      "text/plain": [
       "Plot with title \"ROC Curve: Test Set Predictions\""
      ]
     },
     "metadata": {
      "image/svg+xml": {
       "isolated": true
      }
     },
     "output_type": "display_data"
    }
   ],
   "source": [
    "# Plot the ROC curve for the L2 model in relation to the test set.\n",
    "plot.new()\n",
    "plot.window(xlim = c(1, 0), ylim = c(0, 1))\n",
    "grid()\n",
    "box()\n",
    "abline(1, -1, col = \"blue\", lty = 2)\n",
    "l <- seq(0,1,0.2)\n",
    "axis(1, at = rev(l), labels = format(l, 2))\n",
    "axis(2)\n",
    "title(main = \"ROC Curve: Test Set Predictions\", xlab = \"FPR\", ylab = \"TPR\")\n",
    "# plot(r_L2, lwd = 1, add = TRUE)\n",
    "lines(r_L2, lwd = 1)\n",
    "text(0, 0, paste(\"AUC: \", round(pROC::auc(r_L2), 6), sep = \"\"), pos = 2)\n",
    "mtext(expression(L[2] ~ \"Model\" ~ (lambda ~ \"= 0.1259\")))"
   ]
  },
  {
   "cell_type": "markdown",
   "metadata": {
    "nbpresent": {
     "id": "3ea16796-9cb6-4639-830e-ff6a52987ee5"
    }
   },
   "source": [
    "## D.4 — $L_1$ Regularisation (Lasso Penalty)"
   ]
  },
  {
   "cell_type": "markdown",
   "metadata": {
    "nbpresent": {
     "id": "701f6dee-076e-4861-a0d6-d237fb0fae94"
    }
   },
   "source": [
    "### D.4.1 — Optimise $\\lambda$ for the $L_1$ Shrinkage Penalty by Cross-Validation"
   ]
  },
  {
   "cell_type": "markdown",
   "metadata": {},
   "source": [
    "Find the value of the tuning parameter $\\lambda$ (between $10^{-5}$ and $10^5$) for the $L_1$ shrinkage penalty which optimises (maximises) average AUC, by cross-validation.\n",
    "\n",
    "Plots for average AUC (cross-validated) and coefficient magnitude (not cross-validated) by $\\lambda$ value are shown below.  As for the $L_2$ penalty, average AUC is more or less unchanged for low values of $\\lambda$ for the $L_1$ penalty.  In contrast to the $L_2$ penalty, large values of $\\lambda$ for the $L_1$ penalty reduce each of the coefficients to zero (producing, in effect, a null model), resulting in average AUC values close to 0.5 (representing random predictions).  The value of $\\lambda$ which maximises average AUC is effectively zero (that is, no penalty).  Following the one-standard-error rule, the optimal value of $\\lambda$, being the largest value of $\\lambda$ corresponding to an average AUC within one standard error of the maximum average AUC, is 0.019953.  The optimal value of $\\lambda$ reduces the coefficients for the predictors *citric acid* (*ci*), *chlorides* (*ch*), *total sulfur dioxide* (*to*), and *density* (*de*) to zero.  This is in contrast to the $L_2$ penalty, for which the predictors *ch* and *de* (effectively excluded from the model under the $L_1$ penalty) are the two predictors with the largest coefficients (-5.375 and -67.4495)."
   ]
  },
  {
   "cell_type": "code",
   "execution_count": 39,
   "metadata": {
    "nbpresent": {
     "id": "6065ecb3-0b3e-48d6-9686-511ccdbb119c"
    }
   },
   "outputs": [],
   "source": [
    "# Set the random seed.\n",
    "set.seed(1)\n",
    "\n",
    "# Cross-validate lambda for the L1 shrinkage penalty,\n",
    "# for a logistic regression model, for the training set,\n",
    "# optimising (maximising) the average AUC value.\n",
    "m_L1_xv <- cv.glmnet(x_tr, d$qu, alpha = 1, lambda = g, family = \"binomial\",\n",
    "                     type.measure = \"auc\")\n",
    "\n",
    "# Define the largest lambda value corresponding to an average AUC value,\n",
    "# within 1 standard error of the maximum average AUC value.\n",
    "lambda_L1 <- m_L1_xv$lambda.1se"
   ]
  },
  {
   "cell_type": "code",
   "execution_count": 40,
   "metadata": {
    "nbpresent": {
     "id": "2bf8e5e0-d044-476f-a1e1-42f66e90b26b"
    }
   },
   "outputs": [
    {
     "data": {
      "image/png": "[encoded data removed]"
     },
     "metadata": {
      "image/svg+xml": {
       "isolated": true
      }
     },
     "output_type": "display_data"
    },
    {
     "data": {
      "image/png": "[encoded data removed]"
     },
     "metadata": {
      "image/svg+xml": {
       "isolated": true
      }
     },
     "output_type": "display_data"
    }
   ],
   "source": [
    "# Plot cross-validated average AUC value by lambda value (log).\n",
    "plot(m_L1_xv)\n",
    "title(bquote(atop(bold(\"Av. AUC by Lambda (Log)\"), \"\")))\n",
    "mtext(\"Cross-Validated\", cex = 0.75)\n",
    "\n",
    "# Plot coefficient magnitude by lambda value (log).\n",
    "m_temp_L1 <- glmnet(x_tr, d$qu, alpha = 1, family = \"binomial\", lower = -25)\n",
    "plot(m_temp_L1, xvar = \"lambda\")\n",
    "title(bquote(atop(bold(\"Coefficients by Lambda (Log)\"), \"\")))\n",
    "mtext(\"Not Cross-Validated\", cex = 0.75)"
   ]
  },
  {
   "cell_type": "code",
   "execution_count": 41,
   "metadata": {},
   "outputs": [
    {
     "data": {
      "text/html": [
       "5e-05"
      ],
      "text/latex": [
       "5e-05"
      ],
      "text/markdown": [
       "5e-05"
      ],
      "text/plain": [
       "[1] 5e-05"
      ]
     },
     "metadata": {},
     "output_type": "display_data"
    },
    {
     "data": {
      "text/html": [
       "0.019953"
      ],
      "text/latex": [
       "0.019953"
      ],
      "text/markdown": [
       "0.019953"
      ],
      "text/plain": [
       "[1] 0.019953"
      ]
     },
     "metadata": {},
     "output_type": "display_data"
    }
   ],
   "source": [
    "# Return the lambda value corresponding to the maximum average AUC value.\n",
    "round(m_L1_xv$lambda.min, 6)\n",
    "\n",
    "# Return the largest lambda value  corresponding to the largest average AUC value,\n",
    "# within 1 standard error of the maximum average AUC value.\n",
    "round(m_L1_xv$lambda.1se, 6)"
   ]
  },
  {
   "cell_type": "code",
   "execution_count": 42,
   "metadata": {},
   "outputs": [
    {
     "data": {
      "text/html": [
       "<table>\n",
       "<thead><tr><th></th><th scope=col>Max. AUC</th><th scope=col>1-SE</th></tr></thead>\n",
       "<tbody>\n",
       "\t<tr><th scope=row>de</th><td>-151.5906</td><td>   0.0000</td></tr>\n",
       "\t<tr><th scope=row>vo</th><td>-6.4459</td><td>-4.8959</td></tr>\n",
       "\t<tr><th scope=row>su</th><td>1.9460</td><td>0.4577</td></tr>\n",
       "\t<tr><th scope=row>ph</th><td>1.1398</td><td>0.0589</td></tr>\n",
       "\t<tr><th scope=row>al</th><td>0.9150</td><td>0.8397</td></tr>\n",
       "\t<tr><th scope=row>ch</th><td>-0.5384</td><td> 0.0000</td></tr>\n",
       "\t<tr><th scope=row>ci</th><td>0.3485</td><td>0.0000</td></tr>\n",
       "\t<tr><th scope=row>re</th><td>0.1151</td><td>0.0144</td></tr>\n",
       "\t<tr><th scope=row>fi</th><td>-0.0775</td><td>-0.0819</td></tr>\n",
       "\t<tr><th scope=row>fr</th><td>0.0110</td><td>0.0032</td></tr>\n",
       "\t<tr><th scope=row>to</th><td>-0.0018</td><td> 0.0000</td></tr>\n",
       "</tbody>\n",
       "</table>\n"
      ],
      "text/latex": [
       "\\begin{tabular}{r|ll}\n",
       "  & Max. AUC & 1-SE\\\\\n",
       "\\hline\n",
       "\tde & -151.5906 &    0.0000\\\\\n",
       "\tvo & -6.4459 & -4.8959\\\\\n",
       "\tsu & 1.9460 & 0.4577\\\\\n",
       "\tph & 1.1398 & 0.0589\\\\\n",
       "\tal & 0.9150 & 0.8397\\\\\n",
       "\tch & -0.5384 &  0.0000\\\\\n",
       "\tci & 0.3485 & 0.0000\\\\\n",
       "\tre & 0.1151 & 0.0144\\\\\n",
       "\tfi & -0.0775 & -0.0819\\\\\n",
       "\tfr & 0.0110 & 0.0032\\\\\n",
       "\tto & -0.0018 &  0.0000\\\\\n",
       "\\end{tabular}\n"
      ],
      "text/markdown": [
       "1. -151.5906\n",
       "2. -6.4459\n",
       "3. 1.946\n",
       "4. 1.1398\n",
       "5. 0.915\n",
       "6. -0.5384\n",
       "7. 0.3485\n",
       "8. 0.1151\n",
       "9. -0.0775\n",
       "10. 0.011\n",
       "11. -0.0018\n",
       "12. 0\n",
       "13. -4.8959\n",
       "14. 0.4577\n",
       "15. 0.0589\n",
       "16. 0.8397\n",
       "17. 0\n",
       "18. 0\n",
       "19. 0.0144\n",
       "20. -0.0819\n",
       "21. 0.0032\n",
       "22. 0\n",
       "\n",
       "\n"
      ],
      "text/plain": [
       "    Max. AUC    1-SE\n",
       "de -151.5906  0.0000\n",
       "vo   -6.4459 -4.8959\n",
       "su    1.9460  0.4577\n",
       "ph    1.1398  0.0589\n",
       "al    0.9150  0.8397\n",
       "ch   -0.5384  0.0000\n",
       "ci    0.3485  0.0000\n",
       "re    0.1151  0.0144\n",
       "fi   -0.0775 -0.0819\n",
       "fr    0.0110  0.0032\n",
       "to   -0.0018  0.0000"
      ]
     },
     "metadata": {},
     "output_type": "display_data"
    }
   ],
   "source": [
    "# Return the coefficients for:\n",
    "#   - the lambda value for the maximum AUC\n",
    "#   - the within-1-SE lambda value\n",
    "co_L1_xv <- cbind(coef(m_L1_xv, \"lambda.min\")[ , 1],\n",
    "                  coef(m_L1_xv, \"lambda.1se\")[ , 1])[-1, ]\n",
    "co_L1_xv <- co_L1_xv[order(abs(co_L1_xv[ , 1]), decreasing = TRUE), ]\n",
    "colnames(co_L1_xv) <- c(\"Max. AUC\", \"1-SE\")\n",
    "round(co_L1_xv, 4)"
   ]
  },
  {
   "cell_type": "markdown",
   "metadata": {
    "nbpresent": {
     "id": "65138075-3761-40e5-affc-6bd25208ce38"
    }
   },
   "source": [
    "### D.4.2 — Fit the $L_1$ Model"
   ]
  },
  {
   "cell_type": "markdown",
   "metadata": {},
   "source": [
    "Fit a logistic regression model using the $L_1$ shrinkage penalty, with the optimised value for the tuning parameter $\\lambda$, using the whole training set."
   ]
  },
  {
   "cell_type": "code",
   "execution_count": 43,
   "metadata": {
    "nbpresent": {
     "id": "79360b7c-0c6d-4108-aa49-67f2a4404218"
    }
   },
   "outputs": [],
   "source": [
    "# Fit a logistic regression model using the L1 shrinkage penalty,\n",
    "# with the optimised lambda value, using the whole training set.\n",
    "m_L1 <- glmnet(x_tr, d$qu, lambda = lambda_L1, alpha = 1, family = \"binomial\")"
   ]
  },
  {
   "cell_type": "markdown",
   "metadata": {},
   "source": [
    "### D.4.3 — Interpretation of the $L_1$ Model"
   ]
  },
  {
   "cell_type": "markdown",
   "metadata": {},
   "source": [
    "The $L_1$ model is statistically significant (there is a statistically-significant relationship between at least one of the predictors and the response, pursuant to the model).  The proportion of deviance explained by the model (being the difference between the null deviance and the residual deviance) corresponds to a *p* value of effectively zero (see IDRE (2); R Documentation: anova.glm).\n",
    "\n",
    "The $L_1$ penalty reduces the coefficients for the predictors *chlorides* (*ch*), *citric acid* (*ci*), *density* (*de*), and *total sulfur dioxide* (*to*) to zero (effectively excluding these predictors from the model).  The coefficients for the \"remaining\" predictors represent the change in the log odds of the response for a one-unit change in the predictors, such that exponentiating the coefficients gives the change in the odds of the response for a one-unit change in the predictors (see IDRE (1); IDRE (2); see also James et al, 2015, pp 132-137).  In particular, for the $L_1$ model, the odds of a classification of \"good\" are:\n",
    "* decreased by a factor of approximately 133 ($e^{-4.896}$) for a one-unit increase in *volatile acidity* (*vo*) (but note the range and magnitude of values for *volatile acidity* (*vo*));\n",
    "* increased by a factor of approximately 2.3 ($e^{0.8397}$) for a one-unit increase in *alcohol* (*al*);\n",
    "* increased by a factor of approximately 1.6 ($e^{0.4577}$) for a one-unit increase in *sulphates* (*su*);\n",
    "* decreased by approximately 8% ($e^{-0.0819}$) for a one-unit increase in *fixed acidity* (*fi*);\n",
    "* increased by approximately 6% ($e^{0.0589}$) for a one-unit increase in *ph* (*ph*);\n",
    "* increased by approximately 1% ($e^{0.0144}$) for a one-unit increase in *residual sugar* (*re*); and\n",
    "* increased by less than 1% ($e^{0.0032}$) for a one-unit increase in *free sulfur dioxide* (*fr*).\n",
    "\n",
    "In each case, these changes have to be interpreted in the context of the range and magnitude of the values for the relevant predictor."
   ]
  },
  {
   "cell_type": "code",
   "execution_count": 44,
   "metadata": {},
   "outputs": [
    {
     "data": {
      "text/html": [
       "0"
      ],
      "text/latex": [
       "0"
      ],
      "text/markdown": [
       "0"
      ],
      "text/plain": [
       "[1] 0"
      ]
     },
     "metadata": {},
     "output_type": "display_data"
    }
   ],
   "source": [
    "# Return the *p* value for the model.\n",
    "1 - pchisq(m_L1$dev.ratio * m_L1$nulldev, m_L1$df)"
   ]
  },
  {
   "cell_type": "code",
   "execution_count": 45,
   "metadata": {},
   "outputs": [
    {
     "data": {
      "text/html": [
       "<dl class=dl-horizontal>\n",
       "\t<dt>vo</dt>\n",
       "\t\t<dd>-4.896</dd>\n",
       "\t<dt>al</dt>\n",
       "\t\t<dd>0.8397</dd>\n",
       "\t<dt>su</dt>\n",
       "\t\t<dd>0.4577</dd>\n",
       "\t<dt>fi</dt>\n",
       "\t\t<dd>-0.0819</dd>\n",
       "\t<dt>ph</dt>\n",
       "\t\t<dd>0.0589</dd>\n",
       "\t<dt>re</dt>\n",
       "\t\t<dd>0.0144</dd>\n",
       "\t<dt>fr</dt>\n",
       "\t\t<dd>0.0032</dd>\n",
       "\t<dt>ci</dt>\n",
       "\t\t<dd>0</dd>\n",
       "\t<dt>ch</dt>\n",
       "\t\t<dd>0</dd>\n",
       "\t<dt>to</dt>\n",
       "\t\t<dd>0</dd>\n",
       "\t<dt>de</dt>\n",
       "\t\t<dd>0</dd>\n",
       "</dl>\n"
      ],
      "text/latex": [
       "\\begin{description*}\n",
       "\\item[vo] -4.896\n",
       "\\item[al] 0.8397\n",
       "\\item[su] 0.4577\n",
       "\\item[fi] -0.0819\n",
       "\\item[ph] 0.0589\n",
       "\\item[re] 0.0144\n",
       "\\item[fr] 0.0032\n",
       "\\item[ci] 0\n",
       "\\item[ch] 0\n",
       "\\item[to] 0\n",
       "\\item[de] 0\n",
       "\\end{description*}\n"
      ],
      "text/markdown": [
       "vo\n",
       ":   -4.896al\n",
       ":   0.8397su\n",
       ":   0.4577fi\n",
       ":   -0.0819ph\n",
       ":   0.0589re\n",
       ":   0.0144fr\n",
       ":   0.0032ci\n",
       ":   0ch\n",
       ":   0to\n",
       ":   0de\n",
       ":   0\n",
       "\n"
      ],
      "text/plain": [
       "     vo      al      su      fi      ph      re      fr      ci      ch      to \n",
       "-4.8960  0.8397  0.4577 -0.0819  0.0589  0.0144  0.0032  0.0000  0.0000  0.0000 \n",
       "     de \n",
       " 0.0000 "
      ]
     },
     "metadata": {},
     "output_type": "display_data"
    }
   ],
   "source": [
    "# Return the coefficients for the L1 model,\n",
    "# in decreasing order of magnitude.\n",
    "co_L1 <- coef(m_L1)[-1, 1]\n",
    "co_L1 <- co_L1[order(abs(co_L1), decreasing = TRUE)]\n",
    "round(co_L1, 4)"
   ]
  },
  {
   "cell_type": "code",
   "execution_count": 46,
   "metadata": {},
   "outputs": [
    {
     "data": {
      "text/html": [
       "<dl class=dl-horizontal>\n",
       "\t<dt>vo</dt>\n",
       "\t\t<dd>0.007476</dd>\n",
       "\t<dt>al</dt>\n",
       "\t\t<dd>2.315772</dd>\n",
       "\t<dt>su</dt>\n",
       "\t\t<dd>1.580462</dd>\n",
       "\t<dt>fi</dt>\n",
       "\t\t<dd>0.921401</dd>\n",
       "\t<dt>ph</dt>\n",
       "\t\t<dd>1.060624</dd>\n",
       "\t<dt>re</dt>\n",
       "\t\t<dd>1.014482</dd>\n",
       "\t<dt>fr</dt>\n",
       "\t\t<dd>1.003162</dd>\n",
       "</dl>\n"
      ],
      "text/latex": [
       "\\begin{description*}\n",
       "\\item[vo] 0.007476\n",
       "\\item[al] 2.315772\n",
       "\\item[su] 1.580462\n",
       "\\item[fi] 0.921401\n",
       "\\item[ph] 1.060624\n",
       "\\item[re] 1.014482\n",
       "\\item[fr] 1.003162\n",
       "\\end{description*}\n"
      ],
      "text/markdown": [
       "vo\n",
       ":   0.007476al\n",
       ":   2.315772su\n",
       ":   1.580462fi\n",
       ":   0.921401ph\n",
       ":   1.060624re\n",
       ":   1.014482fr\n",
       ":   1.003162\n",
       "\n"
      ],
      "text/plain": [
       "      vo       al       su       fi       ph       re       fr \n",
       "0.007476 2.315772 1.580462 0.921401 1.060624 1.014482 1.003162 "
      ]
     },
     "metadata": {},
     "output_type": "display_data"
    }
   ],
   "source": [
    "# Return the exponentiated coefficients for the L1 model.\n",
    "round(exp(co_L1), 6)[1:7]"
   ]
  },
  {
   "cell_type": "markdown",
   "metadata": {},
   "source": [
    "### D.4.4 — Performance of the $L_1$ Model"
   ]
  },
  {
   "cell_type": "markdown",
   "metadata": {},
   "source": [
    "Apply the $L_1$ model to the test set.  A confusion matrix and ROC curve for the predicitons of the $L_1$ model in relation to the test set are shown below.\n",
    "\n",
    "For the $L_1$ model, in relation to the test set:\n",
    "* predictive accuracy is approximately 0.71 (equivalently, prediction error is approximately 0.29); and\n",
    "* AUC is approximately 0.75, and the ROC curve is relatively \"smooth\" and deviates meaningfully from the diagonal, both indicating meaningful predictive performance.\n",
    "\n",
    "More specifically:\n",
    "* sensitivity (a.k.a. recall, true-positive rate), being the proportion of positive values (i.e. \"good\") in the test set correctly identified by the model, is approximately 0.88; and\n",
    "* specificity (a.k.a. true-negative rate), being the proportion of negative values (i.e. \"bad\") in the test set correctly identified by the model, is approximately 0.39 (less than 50%).\n",
    "\n",
    "(See James et al, 2015, pp 145-149; Fawcett, 2005, pp 862)."
   ]
  },
  {
   "cell_type": "code",
   "execution_count": 47,
   "metadata": {
    "nbpresent": {
     "id": "02556bbd-dbde-4075-bfaa-15cd29c8c3f2"
    }
   },
   "outputs": [],
   "source": [
    "# Apply the L_1 model to the test set.\n",
    "p_L1 <- predict(m_L1, newx = x_te, type = \"response\")\n",
    "\n",
    "# Compute the ROC curve for the L_1 model in relation to the test set.\n",
    "r_L1 <- roc(as.vector(d_test$qu), as.vector(p_L1))"
   ]
  },
  {
   "cell_type": "code",
   "execution_count": 48,
   "metadata": {},
   "outputs": [
    {
     "data": {
      "text/html": [
       "<table>\n",
       "<thead><tr><th></th><th scope=col>Pred</th><th scope=col>True</th><th scope=col>Count</th><th scope=col>Proportion</th></tr></thead>\n",
       "<tbody>\n",
       "\t<tr><th scope=row>TN</th><td>bad </td><td>bad </td><td>95  </td><td>0.14</td></tr>\n",
       "\t<tr><th scope=row>FP</th><td>good</td><td>bad </td><td>148 </td><td>0.22</td></tr>\n",
       "\t<tr><th scope=row>FN</th><td>bad </td><td>good</td><td>52  </td><td>0.08</td></tr>\n",
       "\t<tr><th scope=row>TP</th><td>good</td><td>good</td><td>383 </td><td>0.56</td></tr>\n",
       "</tbody>\n",
       "</table>\n"
      ],
      "text/latex": [
       "\\begin{tabular}{r|llll}\n",
       "  & Pred & True & Count & Proportion\\\\\n",
       "\\hline\n",
       "\tTN & bad  & bad  & 95   & 0.14\\\\\n",
       "\tFP & good & bad  & 148  & 0.22\\\\\n",
       "\tFN & bad  & good & 52   & 0.08\\\\\n",
       "\tTP & good & good & 383  & 0.56\\\\\n",
       "\\end{tabular}\n"
      ],
      "text/plain": [
       "   Pred True Count Proportion\n",
       "TN  bad  bad    95       0.14\n",
       "FP good  bad   148       0.22\n",
       "FN  bad good    52       0.08\n",
       "TP good good   383       0.56"
      ]
     },
     "metadata": {},
     "output_type": "display_data"
    }
   ],
   "source": [
    "# Return the confusion matrix for the predictions of the L_1 model,\n",
    "# in relation to the test set.\n",
    "mat <- table(ifelse(p_L1 > 0.5, \"good\", \"bad\"), d_test$qu)\n",
    "mat <- data.frame(mat)\n",
    "colnames(mat) <- c(\"Pred\", \"True\", \"Count\")\n",
    "rownames(mat) <- c(\"TN\", \"FP\", \"FN\", \"TP\")\n",
    "# mat <- mat[c(\"TP\", \"FP\", \"TN\", \"FN\"), ]\n",
    "mat[\"Proportion\"] <- round(mat[\"Count\"] / sum(mat[\"Count\"]), 2)\n",
    "mat"
   ]
  },
  {
   "cell_type": "code",
   "execution_count": 49,
   "metadata": {},
   "outputs": [
    {
     "data": {
      "image/png": "[encoded data removed]",
      "text/plain": [
       "Plot with title \"ROC Curve: Test Set Predictions\""
      ]
     },
     "metadata": {
      "image/svg+xml": {
       "isolated": true
      }
     },
     "output_type": "display_data"
    }
   ],
   "source": [
    "# Plot the ROC curve for the L_1 model in relation to the test set.\n",
    "plot.new()\n",
    "plot.window(xlim = c(1, 0), ylim = c(0, 1))\n",
    "grid()\n",
    "box()\n",
    "abline(1, -1, col = \"blue\", lty = 2)\n",
    "l <- seq(0,1,0.2)\n",
    "axis(1, at = rev(l), labels = format(l, 2))\n",
    "axis(2)\n",
    "title(main = \"ROC Curve: Test Set Predictions\", xlab = \"FPR\", ylab = \"TPR\")\n",
    "# plot(r_L2, lwd = 1, add = TRUE)\n",
    "lines(r_L1, lwd = 1)\n",
    "text(0, 0, paste(\"AUC: \", round(pROC::auc(r_L1), 6), sep = \"\"), pos = 2)\n",
    "mtext(expression(L[2] ~ \"Model\" ~ (lambda ~ \"= 0.0200\")))"
   ]
  },
  {
   "cell_type": "markdown",
   "metadata": {
    "nbpresent": {
     "id": "0c8e1233-bbd3-4463-9764-fedba4257bd1"
    }
   },
   "source": [
    "---"
   ]
  },
  {
   "cell_type": "markdown",
   "metadata": {
    "nbpresent": {
     "id": "9002f9e4-c789-4249-b506-ad80b17c24b4"
    }
   },
   "source": [
    "# E — Discussion"
   ]
  },
  {
   "cell_type": "markdown",
   "metadata": {},
   "source": [
    "## E.1 — Predictive Performance"
   ]
  },
  {
   "cell_type": "markdown",
   "metadata": {},
   "source": [
    "The ROC curves for each of the models (in relation to the test set) are shown together below.  The predictive performance of each of the models (in relation to the test set) is very similar.  Each of the models achieves predictive accuracy of approximately 0.7 (or, equivalently, prediction error of approximately 0.3).  Likewise, each of the models achieves AUC of approximately 0.75.  Further, the \"shape\" of the ROC curve for each of the models is almost the same (in each case, evidently deviating from the diagonal, corresponding to AUC values greater than 0.5, and indicating meaningful predictive performance).\n",
    "\n",
    "The predictive performance of the models can be distinguished (to some extent) in terms of sensitivity (true-positive rate) and specificity (true-negative rate).  For the stepwise model, sensitivity is approximately 0.85 and specificity is approximately 0.43.  For the $L_1$ model, sensitivity is approximately 0.88 and specificity is approximately 0.39 (that is, relative to the stepwise model, sensitivity is higher and specificity is lower).  For the $L_2$ model, sensitivity is approximately 0.93 and specificity is approximately 0.3 (that is, relative to the $L_1$ model, sensitivity is higher and specificity is lower).  (Presumably, the higher sensitivity of the $L_2$ model corresponds to the very slight \"lift\" in the ROC curve for false-positive-rate values between approximately 0.5 and 0.75, as compared to the ROC curves for the stepwise and $L_1$ models.)\n",
    "\n",
    "In other words, broadly speaking, each of the models performs well in terms of correctly classifying \"good\" observations, and each of the models performs poorly in terms of correctly classifying \"bad\" observations (less than 50% of \"bad\" observations are correctly classified by each model).  The higher sensitivities of the $L_1$ and $L_2$ models compared to the stepwise model are balanced by lower specificities.  None of the models clearly outperforms the other models.  Empirically, however, in terms of \"pure\" predictive performance, as measured by AUC, the $L_2$ model is the best model (although the difference is very small)."
   ]
  },
  {
   "cell_type": "markdown",
   "metadata": {},
   "source": [
    "## E.2 — Bias vs Variance (Overfitting)"
   ]
  },
  {
   "cell_type": "markdown",
   "metadata": {},
   "source": [
    "Each of the model-selection methods (forward stepwise selection by cross-validation, $L_2$ regularisation, and $L_1$ regularisation), appears to have produced a broadly similar result in terms of constraining overfitting.  The stepwise and $L_1$ models, in terms of the number of predictors, the particular predictors, and the magnitude of the coefficients for the predictors, are reasonably similar.  The $L_2$ model is inherently different, in that all of the predictors are included in the model.  Additionally, the magnitude of the coefficients for the predictors are markedly different for the $L_2$ model as compared to either the stepwise or $L_1$ models.  Nevertheless, as detailed above, the predictive performance of the models (in relation to the test set) is very similar, and the standard error for the AUC for each of the models (shown with the ROC curves, below) is very similar.\n",
    "\n",
    "It is interesting, however, that each of the model-selection methods significantly overestimated the \"true\" performance of the model.  That is, each of the methods produced a cross-validated AUC (or average AUC, in the case of $L_2$ and $L_1$ regularisation) of approximately 0.8, significantly above the \"true\" AUC of approximately 0.75 for each model.  Note, though, that the test-set AUC for each of the models is close to the cross-validated AUC (from the stepwise selection procedure) for a model including only *al*, which suggests that *al* is by far the most \"meaningful\" predictor (and, equivalently, that all or almost all of the other predictors induce as much noise as additional predictive performance)."
   ]
  },
  {
   "cell_type": "markdown",
   "metadata": {},
   "source": [
    "## E.3 — Methodology and Interpretability"
   ]
  },
  {
   "cell_type": "markdown",
   "metadata": {},
   "source": [
    "It is difficult to meaningfully distinguish the models in terms of predictive performance or the control of overfitting.  However, there are axiomatic differences between the methods used to produce the models.  In particular, forward stepwise selection and $L_1$ regularisation perform variable selection, whereas $L_2$ regularisation does not.  As a result, in this instance, the stepwise and $L_1$ models are, arguably, more easily interpreted (and more explanatory of the data and relationships between the response and the predictors), as they include fewer predictors.  Further, forward stepwise selection is iterative (involving the comparison of models with different subsets of predictors), whereas both $L_2$ and $L_1$ regularisation work on all of the predictors (James et al, 2015, pp 215, 218-219, 223).\n",
    "\n",
    "The coefficients of the predictors for each of the models are shown together below.  As noted above, the changes to the odds (of a classification of \"good\") for a one-unit change for each of the predictors has to be interpreted in the context of the range and magnitude of the values for the relevant predictor.  In this way, the problem of interpretability for the $L_2$ model becomes clear.  That is, first, the interpretation of the model requires the interpretation of all of the predictors in the context of the range and magnitude of their values, which, as all of the predictors are included in the model, is a much more complex task for the $L_2$ model (versus the $L_1$ model, let alone versus the stepwise model).  Second, the meaning of the coefficients for the model, in practical terms, is obfuscated by large-magnitude coefficients for predictors which are of little interest (that is, for example, *density* (*de*) and *chlorides* (*ch*)): the same predictors are completely excluded from the other models (and the *prima facie* \"significance\" of the predictors in terms of the magnitude of their coefficients is negated by the small magnitude and range of values for the relevant predictors).  In this sense, the stepwise and $L_1$ models are greatly preferable."
   ]
  },
  {
   "cell_type": "code",
   "execution_count": 50,
   "metadata": {},
   "outputs": [
    {
     "name": "stdout",
     "output_type": "stream",
     "text": [
      "      Step      L1       L2\n",
      "vo -6.9741 -4.8960 -67.4495\n",
      "al  1.0887  0.8397  -5.3750\n",
      "fi -0.2460 -0.0819   0.9040\n",
      "re  0.0625  0.0144   0.4067\n",
      "su      NA  0.4577  -3.0536\n",
      "ph      NA  0.0589   0.5951\n",
      "fr      NA  0.0032   0.3447\n",
      "ci      NA  0.0000  -0.0845\n",
      "ch      NA  0.0000   0.0208\n",
      "to      NA  0.0000   0.0060\n",
      "de      NA  0.0000  -0.0023\n"
     ]
    }
   ],
   "source": [
    "# Return the coefficients for each of the stepwise, L1, and L2 models,\n",
    "# in decreasing order of magnitude.\n",
    "co_all <- merge(co_step, cbind(co_L1, co_L2), by = \"row.names\", all = TRUE)\n",
    "rownames(co_all) <- co_all[ , 1]\n",
    "co_all <- co_all[ , -1]\n",
    "colnames(co_all) <- c(\"Step\", \"L1\", \"L2\")\n",
    "co_all <- co_all[order(abs(co_all[\"Step\"]),\n",
    "                       abs(co_all[\"L1\"]),\n",
    "                       abs(co_all[\"L2\"]), decreasing = TRUE), ]\n",
    "print(round(co_all, 4))"
   ]
  },
  {
   "cell_type": "code",
   "execution_count": 51,
   "metadata": {},
   "outputs": [
    {
     "data": {
      "image/png": "[encoded data removed]",
      "text/plain": [
       "Plot with title \"ROC Curves: Test Set Predictions\""
      ]
     },
     "metadata": {
      "image/svg+xml": {
       "isolated": true
      }
     },
     "output_type": "display_data"
    }
   ],
   "source": [
    "# Plot the ROC curves for each of the stepwise, L2, and L1 models,\n",
    "# in relation to the test set.\n",
    "plot.new()\n",
    "plot.window(xlim = c(1, 0), ylim = c(0, 1))\n",
    "grid()\n",
    "box()\n",
    "abline(1, -1, col = \"blue\", lty = 2)\n",
    "l <- seq(0,1,0.2)\n",
    "axis(1, at = rev(l), labels = format(l, 2))\n",
    "axis(2)\n",
    "title(main = \"ROC Curves: Test Set Predictions\", xlab = \"FPR\", ylab = \"TPR\")\n",
    "lines(r_st, col = \"red\", lwd = 1)\n",
    "lines(r_L2, col = \"darkgreen\", lwd = 1)\n",
    "lines(r_L1, col = \"blue\", lwd = 1)\n",
    "text(0, 0.2, paste(\"Stepwise AUC: \",\n",
    "                   round(pROC::auc(r_st), 4),\n",
    "                   \", SE: \",\n",
    "                   round(sqrt(var(r_st)), 5),\n",
    "                   sep = \"\"), pos = 2, col = \"red\")\n",
    "text(0, 0.1, paste(\"L2 AUC: \",\n",
    "                   round(pROC::auc(r_L2), 4),\n",
    "                   \", SE: \",\n",
    "                   round(sqrt(var(r_L2)), 5),\n",
    "                   sep = \"\"), pos = 2, col = \"darkgreen\")\n",
    "text(0, 0, paste(\"L1 AUC: \",\n",
    "                 round(pROC::auc(r_L1), 4),\n",
    "                 \", SE: \",\n",
    "                 round(sqrt(var(r_L1)), 5),\n",
    "                 sep = \"\"), pos = 2, col = \"blue\")\n",
    "mtext(c(\"Stepwise Model\",\n",
    "        expression(L[2] ~ \"Model\"),\n",
    "        expression(L[1] ~ \"Model\")), adj = c(0.20,0.50,0.80), col = c(\"red\", \"darkgreen\", \"blue\"))"
   ]
  },
  {
   "cell_type": "markdown",
   "metadata": {
    "nbpresent": {
     "id": "a3aa2860-a6f7-4aa7-9d49-a17e5cedf33c"
    }
   },
   "source": [
    "---"
   ]
  },
  {
   "cell_type": "markdown",
   "metadata": {
    "nbpresent": {
     "id": "af585c6e-6cca-4b47-ab4e-491404cf456e"
    }
   },
   "source": [
    "# Conclusion"
   ]
  },
  {
   "cell_type": "markdown",
   "metadata": {
    "nbpresent": {
     "id": "4ffc87a7-44ba-4000-aaf2-536c018be1d0"
    }
   },
   "source": [
    "For the given data, stepwise selection by cross-validated AUC, $L_2$ regularisation, and $L_1$ regularisation, produce models with very similar predictive performance (measured by AUC in relation to the test set).  Strictly speaking, the predictive performance of the $L_2$ model is highest, and in that sense it is the \"best\" model out of the three.  However, its higher sensitivity relative to the two other models is balanced by a lower specificity (which is true also of the $L_1$ model relative to the stepwise model) and, in any case, the difference in predictive performance is very slight.  Additionally, for practical purposes, the interpretability of the stepwise and $L_1$ models is significantly more straightforward.  In a sense, the $L_1$ model combines the advantages of the other models: the $L_1$ regularisation method performs variable selection, as for the stepwise model, increasing interpretability and, additionally, the $L_1$ regularisation method works on the full set of predictors, as for the $L_2$ regularisation method, rather than involving the iterative comparison of different subsets of potential predictors.  For these reasons, in practice, the $L_1$ model is preferrable, although solely in terms of predictive performance, the $L_2$ model is the \"best\" model."
   ]
  },
  {
   "cell_type": "markdown",
   "metadata": {},
   "source": [
    "---"
   ]
  },
  {
   "cell_type": "markdown",
   "metadata": {},
   "source": [
    "# References"
   ]
  },
  {
   "cell_type": "markdown",
   "metadata": {},
   "source": [
    "* Charpentier, A. (2015). Variable Selection Using Cross-Validation (and Other Techniques).<br>Retrieved from: http://freakonometrics.hypotheses.org/19925\n",
    "* Fawcett, T. (2005). An Introduction to ROC Analysis. *Pattern Recognition Letters*, 27, 861-874.<br>Retrieved from: https://ccrma.stanford.edu/workshops/mir2009/references/ROCintro.pdf\n",
    "* Friedman, J., Hastie, T., Simon, N., Tibshirani, R. (2016). R Package: glmnet.<br>Documentation: https://cran.r-project.org/web/packages/glmnet/glmnet.pdf\n",
    "* Hastie, T., Tibshirani, R., Friedman, J. (2009). *The Elements of Statistical Learning: Data Mining, Inference, and Prediction*.<br>Retrieved from: http://statweb.stanford.edu/~tibs/ElemStatLearn/\n",
    "* James, G., Witten, D., Hastie, T., Tibshirani, R. (2015). *An Introduction to Statistical Learning with Applications in R*.<br>Retrieved from: http://www-bcf.usc.edu/~gareth/ISL/\n",
    "* Robin, X., Turck, N., Hainard, A., Tiberti, N., Lisacek, F., Sanchez, J., Müller, M. (2016). R Package: pROC.<br>Documentation: https://cran.r-project.org/web/packages/pROC/pROC.pdf\n",
    "* UCLA Institute for Digital Research and Education. (n.d.). *FAQ: How Do I Interpret Odds Ratios in Logistic Regression?*<br>Retrieved from: http://www.ats.ucla.edu/stat/mult_pkg/faq/general/odds_ratio.htm\n",
    "* UCLA Institute for Digital Research and Education. (n.d.). *R Data Analysis Examples: Logit Regression*.<br>Retrieved from: http://www.ats.ucla.edu/stat/r/dae/logit.htm"
   ]
  }
 ],
 "metadata": {
  "anaconda-cloud": {},
  "kernelspec": {
   "display_name": "R",
   "language": "R",
   "name": "ir"
  },
  "language_info": {
   "codemirror_mode": "r",
   "file_extension": ".r",
   "mimetype": "text/x-r-source",
   "name": "R",
   "pygments_lexer": "r",
   "version": "3.5.1"
  }
 },
 "nbformat": 4,
 "nbformat_minor": 1
}
